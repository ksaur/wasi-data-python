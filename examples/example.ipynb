{
 "cells": [
  {
   "cell_type": "markdown",
   "id": "de9f5d00-f2dc-4b1b-8d95-62dad7acb18b",
   "metadata": {},
   "source": [
    "# Creating WASM ufuncs for `DataFrames` with `witxcraft` "
   ]
  },
  {
   "cell_type": "markdown",
   "id": "e8573611-a99a-46bf-bec2-44e3c4de1651",
   "metadata": {},
   "source": [
    "Import the `fromwasmmod` function from the  `witxcraft.ufunc` module. This function will read a WASM module and wrap the functions in it for use with `DataFrame/Series.apply` methods. "
   ]
  },
  {
   "cell_type": "code",
   "execution_count": 2,
   "id": "93cff44a-b006-4a43-8db9-41711ed1247a",
   "metadata": {},
   "outputs": [],
   "source": [
    "import witxcraft as wc"
   ]
  },
  {
   "cell_type": "markdown",
   "id": "2c69cf1a-c2de-42b6-a294-772a1e352705",
   "metadata": {},
   "source": [
    "The `fromwasmmod` function takes a filename or URL to a WASM module, or the raw contents of a WASM module. Either compiled WASM or WATX maybe used."
   ]
  },
  {
   "cell_type": "code",
   "execution_count": 3,
   "id": "4509c01c-056d-4072-ac45-f1236530651f",
   "metadata": {},
   "outputs": [],
   "source": [
    "funcs = wc.fromwasmmod('df.wasm')"
   ]
  },
  {
   "cell_type": "markdown",
   "id": "b89d7c31-ce88-4cd5-9008-352ee702b2aa",
   "metadata": {},
   "source": [
    "Using `dir` we can see the WASM functions that are available."
   ]
  },
  {
   "cell_type": "code",
   "execution_count": 4,
   "id": "1a57c32a-e0f5-4069-8351-e4ea76ed48c8",
   "metadata": {},
   "outputs": [
    {
     "data": {
      "text/plain": [
       "['mult', 'mult_vec', 'square', 'square_vec']"
      ]
     },
     "execution_count": 4,
     "metadata": {},
     "output_type": "execute_result"
    }
   ],
   "source": [
    "[x for x in dir(funcs) if not x.startswith('_')]"
   ]
  },
  {
   "cell_type": "markdown",
   "id": "1b4f125a-1fe5-4dd8-8f41-8cf024345c61",
   "metadata": {},
   "source": [
    "## Using WASM functions with pandas"
   ]
  },
  {
   "cell_type": "markdown",
   "id": "9448efe6-c1a3-4131-bb6a-c6afeec161ac",
   "metadata": {},
   "source": [
    "To demonstrate WASM functions on `pandas` objects, we'll first load some data into a `DataFrame`."
   ]
  },
  {
   "cell_type": "code",
   "execution_count": 5,
   "id": "4af74f35-fcce-4518-91ae-33883367d1bf",
   "metadata": {},
   "outputs": [],
   "source": [
    "import pandas as pd\n",
    "import numpy as np"
   ]
  },
  {
   "cell_type": "markdown",
   "id": "3134a482-975c-475d-8c56-1d73c01a864b",
   "metadata": {},
   "source": [
    "Generate some numeric data to work with."
   ]
  },
  {
   "cell_type": "code",
   "execution_count": 6,
   "id": "78d63376-ac85-46aa-8d98-957296134288",
   "metadata": {},
   "outputs": [
    {
     "data": {
      "text/html": [
       "<div>\n",
       "<style scoped>\n",
       "    .dataframe tbody tr th:only-of-type {\n",
       "        vertical-align: middle;\n",
       "    }\n",
       "\n",
       "    .dataframe tbody tr th {\n",
       "        vertical-align: top;\n",
       "    }\n",
       "\n",
       "    .dataframe thead th {\n",
       "        text-align: right;\n",
       "    }\n",
       "</style>\n",
       "<table border=\"1\" class=\"dataframe\">\n",
       "  <thead>\n",
       "    <tr style=\"text-align: right;\">\n",
       "      <th></th>\n",
       "      <th>X</th>\n",
       "      <th>Y</th>\n",
       "      <th>Z</th>\n",
       "    </tr>\n",
       "  </thead>\n",
       "  <tbody>\n",
       "    <tr>\n",
       "      <th>0</th>\n",
       "      <td>21</td>\n",
       "      <td>32</td>\n",
       "      <td>47</td>\n",
       "    </tr>\n",
       "    <tr>\n",
       "      <th>1</th>\n",
       "      <td>33</td>\n",
       "      <td>39</td>\n",
       "      <td>43</td>\n",
       "    </tr>\n",
       "    <tr>\n",
       "      <th>2</th>\n",
       "      <td>27</td>\n",
       "      <td>9</td>\n",
       "      <td>11</td>\n",
       "    </tr>\n",
       "    <tr>\n",
       "      <th>3</th>\n",
       "      <td>20</td>\n",
       "      <td>23</td>\n",
       "      <td>32</td>\n",
       "    </tr>\n",
       "    <tr>\n",
       "      <th>4</th>\n",
       "      <td>15</td>\n",
       "      <td>13</td>\n",
       "      <td>5</td>\n",
       "    </tr>\n",
       "    <tr>\n",
       "      <th>...</th>\n",
       "      <td>...</td>\n",
       "      <td>...</td>\n",
       "      <td>...</td>\n",
       "    </tr>\n",
       "    <tr>\n",
       "      <th>99995</th>\n",
       "      <td>40</td>\n",
       "      <td>47</td>\n",
       "      <td>3</td>\n",
       "    </tr>\n",
       "    <tr>\n",
       "      <th>99996</th>\n",
       "      <td>22</td>\n",
       "      <td>23</td>\n",
       "      <td>10</td>\n",
       "    </tr>\n",
       "    <tr>\n",
       "      <th>99997</th>\n",
       "      <td>32</td>\n",
       "      <td>21</td>\n",
       "      <td>15</td>\n",
       "    </tr>\n",
       "    <tr>\n",
       "      <th>99998</th>\n",
       "      <td>21</td>\n",
       "      <td>44</td>\n",
       "      <td>4</td>\n",
       "    </tr>\n",
       "    <tr>\n",
       "      <th>99999</th>\n",
       "      <td>31</td>\n",
       "      <td>5</td>\n",
       "      <td>49</td>\n",
       "    </tr>\n",
       "  </tbody>\n",
       "</table>\n",
       "<p>100000 rows × 3 columns</p>\n",
       "</div>"
      ],
      "text/plain": [
       "        X   Y   Z\n",
       "0      21  32  47\n",
       "1      33  39  43\n",
       "2      27   9  11\n",
       "3      20  23  32\n",
       "4      15  13   5\n",
       "...    ..  ..  ..\n",
       "99995  40  47   3\n",
       "99996  22  23  10\n",
       "99997  32  21  15\n",
       "99998  21  44   4\n",
       "99999  31   5  49\n",
       "\n",
       "[100000 rows x 3 columns]"
      ]
     },
     "execution_count": 6,
     "metadata": {},
     "output_type": "execute_result"
    }
   ],
   "source": [
    "data_len = 100000\n",
    "df = pd.DataFrame(dict(X=np.random.randint(0, 50, size=data_len),\n",
    "                       Y=np.random.randint(0, 50, size=data_len),\n",
    "                       Z=np.random.randint(0, 50, size=data_len)))\n",
    "df"
   ]
  },
  {
   "cell_type": "markdown",
   "id": "2530aa81-d7c4-405f-ae26-4e9b52a72bfb",
   "metadata": {},
   "source": [
    "### Simple example of a WASM function with scalar input and output"
   ]
  },
  {
   "cell_type": "markdown",
   "id": "2852ff20-6b53-400d-a01e-5c91fe5add50",
   "metadata": {},
   "source": [
    "The `square` function simply squares the given value."
   ]
  },
  {
   "cell_type": "code",
   "execution_count": 7,
   "id": "2d6ae236-e460-46cc-b28c-a3ba44d94011",
   "metadata": {},
   "outputs": [
    {
     "data": {
      "text/plain": [
       "100"
      ]
     },
     "execution_count": 7,
     "metadata": {},
     "output_type": "execute_result"
    }
   ],
   "source": [
    "funcs.square(10)"
   ]
  },
  {
   "cell_type": "code",
   "execution_count": 8,
   "id": "6f1fd182-a2da-4433-871b-a7943dee9ba5",
   "metadata": {},
   "outputs": [
    {
     "data": {
      "text/plain": [
       "50"
      ]
     },
     "execution_count": 8,
     "metadata": {},
     "output_type": "execute_result"
    }
   ],
   "source": [
    "funcs.mult(10, 5)"
   ]
  },
  {
   "cell_type": "code",
   "execution_count": 9,
   "id": "7c6e03e0-ad03-4175-af79-5846ecda82e7",
   "metadata": {},
   "outputs": [
    {
     "data": {
      "text/plain": [
       "0     25\n",
       "1    100\n",
       "dtype: int64"
      ]
     },
     "execution_count": 9,
     "metadata": {},
     "output_type": "execute_result"
    }
   ],
   "source": [
    "funcs.square_vec([5, 10])"
   ]
  },
  {
   "cell_type": "code",
   "execution_count": 10,
   "id": "059c7898-f8c5-4dad-9f72-44d851327f97",
   "metadata": {},
   "outputs": [
    {
     "data": {
      "text/plain": [
       "0    10\n",
       "1    30\n",
       "dtype: int64"
      ]
     },
     "execution_count": 10,
     "metadata": {},
     "output_type": "execute_result"
    }
   ],
   "source": [
    "funcs.mult_vec([5, 10], [2, 3])"
   ]
  },
  {
   "cell_type": "markdown",
   "id": "0e691136-2eff-4b19-b28c-0658bf28cae4",
   "metadata": {},
   "source": [
    "### Using the WASM functions with pandas data"
   ]
  },
  {
   "cell_type": "markdown",
   "id": "aac16492-d1b3-4dc4-8f46-504afac3d221",
   "metadata": {},
   "source": [
    "This function can be applied to a `pandas.Series` using the `apply` method as follows."
   ]
  },
  {
   "cell_type": "code",
   "execution_count": 11,
   "id": "0252ebbe-ee4d-4a20-8de8-456c0070191c",
   "metadata": {},
   "outputs": [
    {
     "name": "stdout",
     "output_type": "stream",
     "text": [
      "CPU times: user 3.38 s, sys: 38.2 ms, total: 3.42 s\n",
      "Wall time: 3.43 s\n"
     ]
    },
    {
     "data": {
      "text/plain": [
       "0        210\n",
       "1        330\n",
       "2        270\n",
       "3        200\n",
       "4        150\n",
       "        ... \n",
       "99995    400\n",
       "99996    220\n",
       "99997    320\n",
       "99998    210\n",
       "99999    310\n",
       "Name: X, Length: 100000, dtype: int64"
      ]
     },
     "execution_count": 11,
     "metadata": {},
     "output_type": "execute_result"
    }
   ],
   "source": [
    "%time df.X.apply(funcs.mult, args=[10])"
   ]
  },
  {
   "cell_type": "markdown",
   "id": "c66686ba-89e0-467c-8e54-c70a3d6c5499",
   "metadata": {},
   "source": [
    "Since the functions support the `ufunc` API, you can also apply them as a function call with the `pandas.Series` as the argument."
   ]
  },
  {
   "cell_type": "code",
   "execution_count": 12,
   "id": "d371db48-6f3f-4042-b379-a4013921d493",
   "metadata": {},
   "outputs": [
    {
     "name": "stdout",
     "output_type": "stream",
     "text": [
      "CPU times: user 3.29 s, sys: 34.8 ms, total: 3.33 s\n",
      "Wall time: 3.33 s\n"
     ]
    },
    {
     "data": {
      "text/plain": [
       "0        210\n",
       "1        330\n",
       "2        270\n",
       "3        200\n",
       "4        150\n",
       "        ... \n",
       "99995    400\n",
       "99996    220\n",
       "99997    320\n",
       "99998    210\n",
       "99999    310\n",
       "Name: X, Length: 100000, dtype: object"
      ]
     },
     "execution_count": 12,
     "metadata": {},
     "output_type": "execute_result"
    }
   ],
   "source": [
    "%time funcs.mult(df.X, 10)"
   ]
  },
  {
   "cell_type": "markdown",
   "id": "8853f6f5-3aeb-45e5-90e8-89c77e3a9580",
   "metadata": {},
   "source": [
    "Using the vector version of the `mult` func, we can send two `Series` objects in. Rather than allowing the `DataFrame` to iterate over the objects and apply a new function call on each pair, this version will push the data from both objects into the WASM memory and do all of the work in WASM. This eliminates much of the WASM call overhead."
   ]
  },
  {
   "cell_type": "markdown",
   "id": "41362f4b-421b-4e30-80b2-b7b35d8ea6f3",
   "metadata": {},
   "source": [
    "### Using a vectorized WASM function with pandas data"
   ]
  },
  {
   "cell_type": "markdown",
   "id": "34671a47-65b5-44ce-bbeb-1c4bc8ee142f",
   "metadata": {},
   "source": [
    "Vector versions of the functions copy the entire data vector into WASM memory before operating on it. This reduces the WASM function call overhead."
   ]
  },
  {
   "cell_type": "code",
   "execution_count": 13,
   "id": "3e8173bd-abc9-4e45-ae29-f43ca544bba7",
   "metadata": {},
   "outputs": [
    {
     "name": "stdout",
     "output_type": "stream",
     "text": [
      "CPU times: user 47.1 ms, sys: 4.33 ms, total: 51.4 ms\n",
      "Wall time: 52.5 ms\n"
     ]
    },
    {
     "data": {
      "text/plain": [
       "0         672\n",
       "1        1287\n",
       "2         243\n",
       "3         460\n",
       "4         195\n",
       "         ... \n",
       "99995    1880\n",
       "99996     506\n",
       "99997     672\n",
       "99998     924\n",
       "99999     155\n",
       "Length: 100000, dtype: int64"
      ]
     },
     "execution_count": 13,
     "metadata": {},
     "output_type": "execute_result"
    }
   ],
   "source": [
    "%time funcs.mult_vec(df.X, df.Y)"
   ]
  },
  {
   "cell_type": "markdown",
   "id": "be7a8132-f3c7-4a9e-89ee-ab6c2f08ad7b",
   "metadata": {},
   "source": [
    "## Example with WITX record inputs and outputs"
   ]
  },
  {
   "cell_type": "markdown",
   "id": "01cd9e7d-2731-4b3a-b32e-ddf93023bbd6",
   "metadata": {},
   "source": [
    "In this WASM module, we have several functions. We'll be using the `sentiment` function with calculates a sentiment value based on the content of a string. The code for this example comes from https://github.com/singlestore-labs/wasi-data-rust."
   ]
  },
  {
   "cell_type": "code",
   "execution_count": 14,
   "id": "30655db3-e2c2-4fe9-ad18-0d6c6c598b32",
   "metadata": {},
   "outputs": [],
   "source": [
    "ml = wc.fromwasmmod('example_wasm.wasm', witx='iface.witx')"
   ]
  },
  {
   "cell_type": "markdown",
   "id": "c40a23fb-64b8-4867-8a1d-9ea231bf9c00",
   "metadata": {},
   "source": [
    "List the functions in the module."
   ]
  },
  {
   "cell_type": "code",
   "execution_count": 15,
   "id": "449a6976-12dc-429d-bb71-1b7ac6f9bee5",
   "metadata": {},
   "outputs": [
    {
     "data": {
      "text/plain": [
       "['filter_out_bad_users', 'hilbert_encode', 'sentiment', 'split', 'square']"
      ]
     },
     "execution_count": 15,
     "metadata": {},
     "output_type": "execute_result"
    }
   ],
   "source": [
    "[x for x in dir(ml) if not x.startswith('_')]"
   ]
  },
  {
   "cell_type": "markdown",
   "id": "182ade43-d304-4e2a-8af0-cd266be4b9c6",
   "metadata": {},
   "source": [
    "### Running the `sentiment` WASM function on scalar values"
   ]
  },
  {
   "cell_type": "markdown",
   "id": "60312c8a-2e3f-4b4b-b605-6f038f4a6dde",
   "metadata": {},
   "source": [
    "Running the `sentiment` function on a string will return the sentiment scores. The initial lag of this function call is due to the fact that the WASM content is not compiled by the wasmtime engine until it is first needed. Subsequent calls will be much faster."
   ]
  },
  {
   "cell_type": "code",
   "execution_count": 19,
   "id": "32ce81c6-a541-4f4f-88eb-f67859d3ed06",
   "metadata": {},
   "outputs": [
    {
     "data": {
      "text/plain": [
       "compound    0.458831\n",
       "positive    0.750000\n",
       "negative    0.000000\n",
       "neutral     0.250000\n",
       "dtype: float64"
      ]
     },
     "execution_count": 19,
     "metadata": {},
     "output_type": "execute_result"
    }
   ],
   "source": [
    "ml.sentiment('Welcome home')"
   ]
  },
  {
   "cell_type": "code",
   "execution_count": 20,
   "id": "5056b3b5-8543-4b4b-bfcd-cd308ac50030",
   "metadata": {},
   "outputs": [
    {
     "data": {
      "text/plain": [
       "compound   -0.542326\n",
       "positive    0.000000\n",
       "negative    0.636364\n",
       "neutral     0.363636\n",
       "dtype: float64"
      ]
     },
     "execution_count": 20,
     "metadata": {},
     "output_type": "execute_result"
    }
   ],
   "source": [
    "ml.sentiment('This smells bad')"
   ]
  },
  {
   "cell_type": "markdown",
   "id": "7415d143-0b2d-4eb0-b998-36b4750dd5f2",
   "metadata": {},
   "source": [
    "Note that although we used a scalar value as input above, the WASM function actually takes a record as input (see ml.witx file). This record just happens to have a single field in it named 's' of type str."
   ]
  },
  {
   "cell_type": "markdown",
   "id": "d8b2a87b-b8bb-40f5-a583-d5d419288d9f",
   "metadata": {},
   "source": [
    "### Using the `sentiment` WASM function with pandas"
   ]
  },
  {
   "cell_type": "markdown",
   "id": "a89e97d9-0990-4e46-b8ce-8d2427f9670b",
   "metadata": {},
   "source": [
    "First, we'll load a data set of string values to be evaluated using the `sentiment` function. The data set used here was downloaded from http://jmcauley.ucsd.edu/data/amazon/ (see citations at the end)."
   ]
  },
  {
   "cell_type": "code",
   "execution_count": 21,
   "id": "167bf4d9-0afd-497d-b6a0-eb0cdb57ef37",
   "metadata": {},
   "outputs": [
    {
     "data": {
      "text/html": [
       "<div>\n",
       "<style scoped>\n",
       "    .dataframe tbody tr th:only-of-type {\n",
       "        vertical-align: middle;\n",
       "    }\n",
       "\n",
       "    .dataframe tbody tr th {\n",
       "        vertical-align: top;\n",
       "    }\n",
       "\n",
       "    .dataframe thead th {\n",
       "        text-align: right;\n",
       "    }\n",
       "</style>\n",
       "<table border=\"1\" class=\"dataframe\">\n",
       "  <thead>\n",
       "    <tr style=\"text-align: right;\">\n",
       "      <th></th>\n",
       "      <th>reviewerID</th>\n",
       "      <th>asin</th>\n",
       "      <th>reviewerName</th>\n",
       "      <th>helpful</th>\n",
       "      <th>reviewText</th>\n",
       "      <th>overall</th>\n",
       "      <th>summary</th>\n",
       "      <th>unixReviewTime</th>\n",
       "      <th>reviewTime</th>\n",
       "    </tr>\n",
       "  </thead>\n",
       "  <tbody>\n",
       "    <tr>\n",
       "      <th>0</th>\n",
       "      <td>A30TL5EWN6DFXT</td>\n",
       "      <td>120401325X</td>\n",
       "      <td>christina</td>\n",
       "      <td>[0, 0]</td>\n",
       "      <td>They look good and stick good! I just don't li...</td>\n",
       "      <td>4.0</td>\n",
       "      <td>Looks Good</td>\n",
       "      <td>1400630400</td>\n",
       "      <td>05 21, 2014</td>\n",
       "    </tr>\n",
       "    <tr>\n",
       "      <th>1</th>\n",
       "      <td>ASY55RVNIL0UD</td>\n",
       "      <td>120401325X</td>\n",
       "      <td>emily l.</td>\n",
       "      <td>[0, 0]</td>\n",
       "      <td>These stickers work like the review says they ...</td>\n",
       "      <td>5.0</td>\n",
       "      <td>Really great product.</td>\n",
       "      <td>1389657600</td>\n",
       "      <td>01 14, 2014</td>\n",
       "    </tr>\n",
       "    <tr>\n",
       "      <th>2</th>\n",
       "      <td>A2TMXE2AFO7ONB</td>\n",
       "      <td>120401325X</td>\n",
       "      <td>Erica</td>\n",
       "      <td>[0, 0]</td>\n",
       "      <td>These are awesome and make my phone look so st...</td>\n",
       "      <td>5.0</td>\n",
       "      <td>LOVE LOVE LOVE</td>\n",
       "      <td>1403740800</td>\n",
       "      <td>06 26, 2014</td>\n",
       "    </tr>\n",
       "    <tr>\n",
       "      <th>3</th>\n",
       "      <td>AWJ0WZQYMYFQ4</td>\n",
       "      <td>120401325X</td>\n",
       "      <td>JM</td>\n",
       "      <td>[4, 4]</td>\n",
       "      <td>Item arrived in great time and was in perfect ...</td>\n",
       "      <td>4.0</td>\n",
       "      <td>Cute!</td>\n",
       "      <td>1382313600</td>\n",
       "      <td>10 21, 2013</td>\n",
       "    </tr>\n",
       "    <tr>\n",
       "      <th>4</th>\n",
       "      <td>ATX7CZYFXI1KW</td>\n",
       "      <td>120401325X</td>\n",
       "      <td>patrice m rogoza</td>\n",
       "      <td>[2, 3]</td>\n",
       "      <td>awesome! stays on, and looks great. can be use...</td>\n",
       "      <td>5.0</td>\n",
       "      <td>leopard home button sticker for iphone 4s</td>\n",
       "      <td>1359849600</td>\n",
       "      <td>02 3, 2013</td>\n",
       "    </tr>\n",
       "    <tr>\n",
       "      <th>...</th>\n",
       "      <td>...</td>\n",
       "      <td>...</td>\n",
       "      <td>...</td>\n",
       "      <td>...</td>\n",
       "      <td>...</td>\n",
       "      <td>...</td>\n",
       "      <td>...</td>\n",
       "      <td>...</td>\n",
       "      <td>...</td>\n",
       "    </tr>\n",
       "    <tr>\n",
       "      <th>95</th>\n",
       "      <td>A16GNVT2QWNYPM</td>\n",
       "      <td>8288855504</td>\n",
       "      <td>Steve</td>\n",
       "      <td>[0, 0]</td>\n",
       "      <td>It does what it needs to do, very pleased. I b...</td>\n",
       "      <td>5.0</td>\n",
       "      <td>Awesome</td>\n",
       "      <td>1313712000</td>\n",
       "      <td>08 19, 2011</td>\n",
       "    </tr>\n",
       "    <tr>\n",
       "      <th>96</th>\n",
       "      <td>A2VIMRVTUCKF9M</td>\n",
       "      <td>8288855504</td>\n",
       "      <td>zeppbiatch</td>\n",
       "      <td>[1, 1]</td>\n",
       "      <td>Charger works great. Haven't had any issues wi...</td>\n",
       "      <td>4.0</td>\n",
       "      <td>great charger</td>\n",
       "      <td>1290729600</td>\n",
       "      <td>11 26, 2010</td>\n",
       "    </tr>\n",
       "    <tr>\n",
       "      <th>97</th>\n",
       "      <td>A1MMMVGC7A7P1Y</td>\n",
       "      <td>8288862993</td>\n",
       "      <td>alex</td>\n",
       "      <td>[0, 0]</td>\n",
       "      <td>It works great  thus  far no issues.  The only...</td>\n",
       "      <td>3.0</td>\n",
       "      <td>this is great buy and very useful</td>\n",
       "      <td>1397260800</td>\n",
       "      <td>04 12, 2014</td>\n",
       "    </tr>\n",
       "    <tr>\n",
       "      <th>98</th>\n",
       "      <td>A1WK0DH0W21F3G</td>\n",
       "      <td>8288862993</td>\n",
       "      <td>AndyC</td>\n",
       "      <td>[0, 0]</td>\n",
       "      <td>The big store that is in every town now (can't...</td>\n",
       "      <td>5.0</td>\n",
       "      <td>It Works Great</td>\n",
       "      <td>1390176000</td>\n",
       "      <td>01 20, 2014</td>\n",
       "    </tr>\n",
       "    <tr>\n",
       "      <th>99</th>\n",
       "      <td>AZIN9ATSFV0ZG</td>\n",
       "      <td>8288862993</td>\n",
       "      <td>Aron Edwards</td>\n",
       "      <td>[0, 0]</td>\n",
       "      <td>Good lengthEasy to useVery fast chargingI woul...</td>\n",
       "      <td>4.0</td>\n",
       "      <td>Very fast charging.</td>\n",
       "      <td>1375660800</td>\n",
       "      <td>08 5, 2013</td>\n",
       "    </tr>\n",
       "  </tbody>\n",
       "</table>\n",
       "<p>100 rows × 9 columns</p>\n",
       "</div>"
      ],
      "text/plain": [
       "        reviewerID        asin      reviewerName helpful  \\\n",
       "0   A30TL5EWN6DFXT  120401325X         christina  [0, 0]   \n",
       "1    ASY55RVNIL0UD  120401325X          emily l.  [0, 0]   \n",
       "2   A2TMXE2AFO7ONB  120401325X             Erica  [0, 0]   \n",
       "3    AWJ0WZQYMYFQ4  120401325X                JM  [4, 4]   \n",
       "4    ATX7CZYFXI1KW  120401325X  patrice m rogoza  [2, 3]   \n",
       "..             ...         ...               ...     ...   \n",
       "95  A16GNVT2QWNYPM  8288855504             Steve  [0, 0]   \n",
       "96  A2VIMRVTUCKF9M  8288855504        zeppbiatch  [1, 1]   \n",
       "97  A1MMMVGC7A7P1Y  8288862993              alex  [0, 0]   \n",
       "98  A1WK0DH0W21F3G  8288862993             AndyC  [0, 0]   \n",
       "99   AZIN9ATSFV0ZG  8288862993      Aron Edwards  [0, 0]   \n",
       "\n",
       "                                           reviewText  overall  \\\n",
       "0   They look good and stick good! I just don't li...      4.0   \n",
       "1   These stickers work like the review says they ...      5.0   \n",
       "2   These are awesome and make my phone look so st...      5.0   \n",
       "3   Item arrived in great time and was in perfect ...      4.0   \n",
       "4   awesome! stays on, and looks great. can be use...      5.0   \n",
       "..                                                ...      ...   \n",
       "95  It does what it needs to do, very pleased. I b...      5.0   \n",
       "96  Charger works great. Haven't had any issues wi...      4.0   \n",
       "97  It works great  thus  far no issues.  The only...      3.0   \n",
       "98  The big store that is in every town now (can't...      5.0   \n",
       "99  Good lengthEasy to useVery fast chargingI woul...      4.0   \n",
       "\n",
       "                                      summary  unixReviewTime   reviewTime  \n",
       "0                                  Looks Good      1400630400  05 21, 2014  \n",
       "1                       Really great product.      1389657600  01 14, 2014  \n",
       "2                              LOVE LOVE LOVE      1403740800  06 26, 2014  \n",
       "3                                       Cute!      1382313600  10 21, 2013  \n",
       "4   leopard home button sticker for iphone 4s      1359849600   02 3, 2013  \n",
       "..                                        ...             ...          ...  \n",
       "95                                    Awesome      1313712000  08 19, 2011  \n",
       "96                              great charger      1290729600  11 26, 2010  \n",
       "97          this is great buy and very useful      1397260800  04 12, 2014  \n",
       "98                             It Works Great      1390176000  01 20, 2014  \n",
       "99                        Very fast charging.      1375660800   08 5, 2013  \n",
       "\n",
       "[100 rows x 9 columns]"
      ]
     },
     "execution_count": 21,
     "metadata": {},
     "output_type": "execute_result"
    }
   ],
   "source": [
    "df = pd.read_csv('data/phones.csv', nrows=100)\n",
    "df"
   ]
  },
  {
   "cell_type": "markdown",
   "id": "c31cea6e-5f7c-4b02-bbdb-e824b8559b09",
   "metadata": {},
   "source": [
    "Here we are applying the `sentiment` function to a `Series`. Note that the output contains all of the same fields as the record described in the original WASM function. However, each output record is converted to a `Series` by the wrapper and a `DataFrame` with multiple columns is the result."
   ]
  },
  {
   "cell_type": "code",
   "execution_count": 22,
   "id": "1b8b6455-f6f5-494e-a6c8-46211c196871",
   "metadata": {},
   "outputs": [
    {
     "data": {
      "text/html": [
       "<div>\n",
       "<style scoped>\n",
       "    .dataframe tbody tr th:only-of-type {\n",
       "        vertical-align: middle;\n",
       "    }\n",
       "\n",
       "    .dataframe tbody tr th {\n",
       "        vertical-align: top;\n",
       "    }\n",
       "\n",
       "    .dataframe thead th {\n",
       "        text-align: right;\n",
       "    }\n",
       "</style>\n",
       "<table border=\"1\" class=\"dataframe\">\n",
       "  <thead>\n",
       "    <tr style=\"text-align: right;\">\n",
       "      <th></th>\n",
       "      <th>compound</th>\n",
       "      <th>positive</th>\n",
       "      <th>negative</th>\n",
       "      <th>neutral</th>\n",
       "    </tr>\n",
       "  </thead>\n",
       "  <tbody>\n",
       "    <tr>\n",
       "      <th>0</th>\n",
       "      <td>-0.180808</td>\n",
       "      <td>0.140395</td>\n",
       "      <td>0.181836</td>\n",
       "      <td>0.677769</td>\n",
       "    </tr>\n",
       "    <tr>\n",
       "      <th>1</th>\n",
       "      <td>0.947132</td>\n",
       "      <td>0.387269</td>\n",
       "      <td>0.000000</td>\n",
       "      <td>0.612731</td>\n",
       "    </tr>\n",
       "    <tr>\n",
       "      <th>2</th>\n",
       "      <td>0.885161</td>\n",
       "      <td>0.237960</td>\n",
       "      <td>0.000000</td>\n",
       "      <td>0.762040</td>\n",
       "    </tr>\n",
       "    <tr>\n",
       "      <th>3</th>\n",
       "      <td>0.962457</td>\n",
       "      <td>0.313612</td>\n",
       "      <td>0.000000</td>\n",
       "      <td>0.686388</td>\n",
       "    </tr>\n",
       "    <tr>\n",
       "      <th>4</th>\n",
       "      <td>0.902009</td>\n",
       "      <td>0.356748</td>\n",
       "      <td>0.000000</td>\n",
       "      <td>0.643252</td>\n",
       "    </tr>\n",
       "    <tr>\n",
       "      <th>...</th>\n",
       "      <td>...</td>\n",
       "      <td>...</td>\n",
       "      <td>...</td>\n",
       "      <td>...</td>\n",
       "    </tr>\n",
       "    <tr>\n",
       "      <th>95</th>\n",
       "      <td>0.245068</td>\n",
       "      <td>0.145292</td>\n",
       "      <td>0.104489</td>\n",
       "      <td>0.750219</td>\n",
       "    </tr>\n",
       "    <tr>\n",
       "      <th>96</th>\n",
       "      <td>0.898994</td>\n",
       "      <td>0.332406</td>\n",
       "      <td>0.000000</td>\n",
       "      <td>0.667594</td>\n",
       "    </tr>\n",
       "    <tr>\n",
       "      <th>97</th>\n",
       "      <td>0.411765</td>\n",
       "      <td>0.223114</td>\n",
       "      <td>0.199037</td>\n",
       "      <td>0.577849</td>\n",
       "    </tr>\n",
       "    <tr>\n",
       "      <th>98</th>\n",
       "      <td>0.945759</td>\n",
       "      <td>0.112612</td>\n",
       "      <td>0.009455</td>\n",
       "      <td>0.877933</td>\n",
       "    </tr>\n",
       "    <tr>\n",
       "      <th>99</th>\n",
       "      <td>0.659728</td>\n",
       "      <td>0.278351</td>\n",
       "      <td>0.000000</td>\n",
       "      <td>0.721649</td>\n",
       "    </tr>\n",
       "  </tbody>\n",
       "</table>\n",
       "<p>100 rows × 4 columns</p>\n",
       "</div>"
      ],
      "text/plain": [
       "    compound  positive  negative   neutral\n",
       "0  -0.180808  0.140395  0.181836  0.677769\n",
       "1   0.947132  0.387269  0.000000  0.612731\n",
       "2   0.885161  0.237960  0.000000  0.762040\n",
       "3   0.962457  0.313612  0.000000  0.686388\n",
       "4   0.902009  0.356748  0.000000  0.643252\n",
       "..       ...       ...       ...       ...\n",
       "95  0.245068  0.145292  0.104489  0.750219\n",
       "96  0.898994  0.332406  0.000000  0.667594\n",
       "97  0.411765  0.223114  0.199037  0.577849\n",
       "98  0.945759  0.112612  0.009455  0.877933\n",
       "99  0.659728  0.278351  0.000000  0.721649\n",
       "\n",
       "[100 rows x 4 columns]"
      ]
     },
     "execution_count": 22,
     "metadata": {},
     "output_type": "execute_result"
    }
   ],
   "source": [
    "out = df['reviewText'].apply(ml.sentiment)\n",
    "out"
   ]
  },
  {
   "cell_type": "markdown",
   "id": "6986b32c-3973-436a-a604-ab19c874a5d6",
   "metadata": {},
   "source": [
    "You can also apply the function where the `Series` is the argument to the function."
   ]
  },
  {
   "cell_type": "code",
   "execution_count": 23,
   "id": "330fd8f1-ed81-4adc-82b0-d986700012a4",
   "metadata": {},
   "outputs": [
    {
     "data": {
      "text/html": [
       "<div>\n",
       "<style scoped>\n",
       "    .dataframe tbody tr th:only-of-type {\n",
       "        vertical-align: middle;\n",
       "    }\n",
       "\n",
       "    .dataframe tbody tr th {\n",
       "        vertical-align: top;\n",
       "    }\n",
       "\n",
       "    .dataframe thead th {\n",
       "        text-align: right;\n",
       "    }\n",
       "</style>\n",
       "<table border=\"1\" class=\"dataframe\">\n",
       "  <thead>\n",
       "    <tr style=\"text-align: right;\">\n",
       "      <th></th>\n",
       "      <th>compound</th>\n",
       "      <th>positive</th>\n",
       "      <th>negative</th>\n",
       "      <th>neutral</th>\n",
       "    </tr>\n",
       "  </thead>\n",
       "  <tbody>\n",
       "    <tr>\n",
       "      <th>0</th>\n",
       "      <td>-0.180808</td>\n",
       "      <td>0.140395</td>\n",
       "      <td>0.181836</td>\n",
       "      <td>0.677769</td>\n",
       "    </tr>\n",
       "    <tr>\n",
       "      <th>1</th>\n",
       "      <td>0.947132</td>\n",
       "      <td>0.387269</td>\n",
       "      <td>0.000000</td>\n",
       "      <td>0.612731</td>\n",
       "    </tr>\n",
       "    <tr>\n",
       "      <th>2</th>\n",
       "      <td>0.885161</td>\n",
       "      <td>0.237960</td>\n",
       "      <td>0.000000</td>\n",
       "      <td>0.762040</td>\n",
       "    </tr>\n",
       "    <tr>\n",
       "      <th>3</th>\n",
       "      <td>0.962457</td>\n",
       "      <td>0.313612</td>\n",
       "      <td>0.000000</td>\n",
       "      <td>0.686388</td>\n",
       "    </tr>\n",
       "    <tr>\n",
       "      <th>4</th>\n",
       "      <td>0.902009</td>\n",
       "      <td>0.356748</td>\n",
       "      <td>0.000000</td>\n",
       "      <td>0.643252</td>\n",
       "    </tr>\n",
       "    <tr>\n",
       "      <th>...</th>\n",
       "      <td>...</td>\n",
       "      <td>...</td>\n",
       "      <td>...</td>\n",
       "      <td>...</td>\n",
       "    </tr>\n",
       "    <tr>\n",
       "      <th>95</th>\n",
       "      <td>0.245068</td>\n",
       "      <td>0.145292</td>\n",
       "      <td>0.104489</td>\n",
       "      <td>0.750219</td>\n",
       "    </tr>\n",
       "    <tr>\n",
       "      <th>96</th>\n",
       "      <td>0.898994</td>\n",
       "      <td>0.332406</td>\n",
       "      <td>0.000000</td>\n",
       "      <td>0.667594</td>\n",
       "    </tr>\n",
       "    <tr>\n",
       "      <th>97</th>\n",
       "      <td>0.411765</td>\n",
       "      <td>0.223114</td>\n",
       "      <td>0.199037</td>\n",
       "      <td>0.577849</td>\n",
       "    </tr>\n",
       "    <tr>\n",
       "      <th>98</th>\n",
       "      <td>0.945759</td>\n",
       "      <td>0.112612</td>\n",
       "      <td>0.009455</td>\n",
       "      <td>0.877933</td>\n",
       "    </tr>\n",
       "    <tr>\n",
       "      <th>99</th>\n",
       "      <td>0.659728</td>\n",
       "      <td>0.278351</td>\n",
       "      <td>0.000000</td>\n",
       "      <td>0.721649</td>\n",
       "    </tr>\n",
       "  </tbody>\n",
       "</table>\n",
       "<p>100 rows × 4 columns</p>\n",
       "</div>"
      ],
      "text/plain": [
       "    compound  positive  negative   neutral\n",
       "0  -0.180808  0.140395  0.181836  0.677769\n",
       "1   0.947132  0.387269  0.000000  0.612731\n",
       "2   0.885161  0.237960  0.000000  0.762040\n",
       "3   0.962457  0.313612  0.000000  0.686388\n",
       "4   0.902009  0.356748  0.000000  0.643252\n",
       "..       ...       ...       ...       ...\n",
       "95  0.245068  0.145292  0.104489  0.750219\n",
       "96  0.898994  0.332406  0.000000  0.667594\n",
       "97  0.411765  0.223114  0.199037  0.577849\n",
       "98  0.945759  0.112612  0.009455  0.877933\n",
       "99  0.659728  0.278351  0.000000  0.721649\n",
       "\n",
       "[100 rows x 4 columns]"
      ]
     },
     "execution_count": 23,
     "metadata": {},
     "output_type": "execute_result"
    }
   ],
   "source": [
    "ml.sentiment(df['reviewText'])"
   ]
  },
  {
   "cell_type": "markdown",
   "id": "8dfa2c36-d9f4-4f4a-be31-05bcdc283f03",
   "metadata": {},
   "source": [
    "It is also possible to apply the function to multiple columns from a `DataFrame` as long as they are all the correct data type. In this case, the values returned for each row are `Series` objects stored in a `DataFrame`."
   ]
  },
  {
   "cell_type": "code",
   "execution_count": 24,
   "id": "0a3b9e23-bf8b-4e2f-9c51-869a82a7e0fe",
   "metadata": {},
   "outputs": [
    {
     "data": {
      "text/html": [
       "<div>\n",
       "<style scoped>\n",
       "    .dataframe tbody tr th:only-of-type {\n",
       "        vertical-align: middle;\n",
       "    }\n",
       "\n",
       "    .dataframe tbody tr th {\n",
       "        vertical-align: top;\n",
       "    }\n",
       "\n",
       "    .dataframe thead th {\n",
       "        text-align: right;\n",
       "    }\n",
       "</style>\n",
       "<table border=\"1\" class=\"dataframe\">\n",
       "  <thead>\n",
       "    <tr style=\"text-align: right;\">\n",
       "      <th></th>\n",
       "      <th>reviewText</th>\n",
       "      <th>reviewerName</th>\n",
       "    </tr>\n",
       "  </thead>\n",
       "  <tbody>\n",
       "    <tr>\n",
       "      <th>0</th>\n",
       "      <td>compound   -0.180808\n",
       "positive    0.140395\n",
       "nega...</td>\n",
       "      <td>compound    0.0\n",
       "positive    0.0\n",
       "negative    0....</td>\n",
       "    </tr>\n",
       "    <tr>\n",
       "      <th>1</th>\n",
       "      <td>compound    0.947132\n",
       "positive    0.387269\n",
       "nega...</td>\n",
       "      <td>compound    0.0\n",
       "positive    0.0\n",
       "negative    0....</td>\n",
       "    </tr>\n",
       "    <tr>\n",
       "      <th>2</th>\n",
       "      <td>compound    0.885161\n",
       "positive    0.237960\n",
       "nega...</td>\n",
       "      <td>compound    0.0\n",
       "positive    0.0\n",
       "negative    0....</td>\n",
       "    </tr>\n",
       "    <tr>\n",
       "      <th>3</th>\n",
       "      <td>compound    0.962457\n",
       "positive    0.313612\n",
       "nega...</td>\n",
       "      <td>compound    0.0\n",
       "positive    0.0\n",
       "negative    0....</td>\n",
       "    </tr>\n",
       "    <tr>\n",
       "      <th>4</th>\n",
       "      <td>compound    0.902009\n",
       "positive    0.356748\n",
       "nega...</td>\n",
       "      <td>compound    0.0\n",
       "positive    0.0\n",
       "negative    0....</td>\n",
       "    </tr>\n",
       "    <tr>\n",
       "      <th>...</th>\n",
       "      <td>...</td>\n",
       "      <td>...</td>\n",
       "    </tr>\n",
       "    <tr>\n",
       "      <th>95</th>\n",
       "      <td>compound    0.245068\n",
       "positive    0.145292\n",
       "nega...</td>\n",
       "      <td>compound    0.0\n",
       "positive    0.0\n",
       "negative    0....</td>\n",
       "    </tr>\n",
       "    <tr>\n",
       "      <th>96</th>\n",
       "      <td>compound    0.898994\n",
       "positive    0.332406\n",
       "nega...</td>\n",
       "      <td>compound    0.0\n",
       "positive    0.0\n",
       "negative    0....</td>\n",
       "    </tr>\n",
       "    <tr>\n",
       "      <th>97</th>\n",
       "      <td>compound    0.411765\n",
       "positive    0.223114\n",
       "nega...</td>\n",
       "      <td>compound    0.0\n",
       "positive    0.0\n",
       "negative    0....</td>\n",
       "    </tr>\n",
       "    <tr>\n",
       "      <th>98</th>\n",
       "      <td>compound    0.945759\n",
       "positive    0.112612\n",
       "nega...</td>\n",
       "      <td>compound    0.0\n",
       "positive    0.0\n",
       "negative    0....</td>\n",
       "    </tr>\n",
       "    <tr>\n",
       "      <th>99</th>\n",
       "      <td>compound    0.659728\n",
       "positive    0.278351\n",
       "nega...</td>\n",
       "      <td>compound    0.0\n",
       "positive    0.0\n",
       "negative    0....</td>\n",
       "    </tr>\n",
       "  </tbody>\n",
       "</table>\n",
       "<p>100 rows × 2 columns</p>\n",
       "</div>"
      ],
      "text/plain": [
       "                                           reviewText  \\\n",
       "0   compound   -0.180808\n",
       "positive    0.140395\n",
       "nega...   \n",
       "1   compound    0.947132\n",
       "positive    0.387269\n",
       "nega...   \n",
       "2   compound    0.885161\n",
       "positive    0.237960\n",
       "nega...   \n",
       "3   compound    0.962457\n",
       "positive    0.313612\n",
       "nega...   \n",
       "4   compound    0.902009\n",
       "positive    0.356748\n",
       "nega...   \n",
       "..                                                ...   \n",
       "95  compound    0.245068\n",
       "positive    0.145292\n",
       "nega...   \n",
       "96  compound    0.898994\n",
       "positive    0.332406\n",
       "nega...   \n",
       "97  compound    0.411765\n",
       "positive    0.223114\n",
       "nega...   \n",
       "98  compound    0.945759\n",
       "positive    0.112612\n",
       "nega...   \n",
       "99  compound    0.659728\n",
       "positive    0.278351\n",
       "nega...   \n",
       "\n",
       "                                         reviewerName  \n",
       "0   compound    0.0\n",
       "positive    0.0\n",
       "negative    0....  \n",
       "1   compound    0.0\n",
       "positive    0.0\n",
       "negative    0....  \n",
       "2   compound    0.0\n",
       "positive    0.0\n",
       "negative    0....  \n",
       "3   compound    0.0\n",
       "positive    0.0\n",
       "negative    0....  \n",
       "4   compound    0.0\n",
       "positive    0.0\n",
       "negative    0....  \n",
       "..                                                ...  \n",
       "95  compound    0.0\n",
       "positive    0.0\n",
       "negative    0....  \n",
       "96  compound    0.0\n",
       "positive    0.0\n",
       "negative    0....  \n",
       "97  compound    0.0\n",
       "positive    0.0\n",
       "negative    0....  \n",
       "98  compound    0.0\n",
       "positive    0.0\n",
       "negative    0....  \n",
       "99  compound    0.0\n",
       "positive    0.0\n",
       "negative    0....  \n",
       "\n",
       "[100 rows x 2 columns]"
      ]
     },
     "execution_count": 24,
     "metadata": {},
     "output_type": "execute_result"
    }
   ],
   "source": [
    "out = ml.sentiment(df[['reviewText', 'reviewerName']])\n",
    "out"
   ]
  },
  {
   "cell_type": "markdown",
   "id": "e7012b3f-fe65-4ae8-8270-15435c07915a",
   "metadata": {},
   "source": [
    "Pulling out a single value, we see that each element contains a `Series` object."
   ]
  },
  {
   "cell_type": "code",
   "execution_count": 25,
   "id": "eb1b48a6-1670-4152-a32e-ab91dafe371b",
   "metadata": {},
   "outputs": [
    {
     "data": {
      "text/plain": [
       "pandas.core.series.Series"
      ]
     },
     "execution_count": 25,
     "metadata": {},
     "output_type": "execute_result"
    }
   ],
   "source": [
    "type(out['reviewText'].iloc[0])"
   ]
  },
  {
   "cell_type": "markdown",
   "id": "bee72be7-e9b7-4220-a3d5-277a0e2cdbc3",
   "metadata": {},
   "source": [
    "Using the strings from the original data set and the `pd.concat` function, we can join the sentiment scores with the original text values."
   ]
  },
  {
   "cell_type": "code",
   "execution_count": 26,
   "id": "f0387f7a-4752-4cf0-bdb6-4aa0be708436",
   "metadata": {},
   "outputs": [
    {
     "data": {
      "text/html": [
       "<div>\n",
       "<style scoped>\n",
       "    .dataframe tbody tr th:only-of-type {\n",
       "        vertical-align: middle;\n",
       "    }\n",
       "\n",
       "    .dataframe tbody tr th {\n",
       "        vertical-align: top;\n",
       "    }\n",
       "\n",
       "    .dataframe thead th {\n",
       "        text-align: right;\n",
       "    }\n",
       "</style>\n",
       "<table border=\"1\" class=\"dataframe\">\n",
       "  <thead>\n",
       "    <tr style=\"text-align: right;\">\n",
       "      <th></th>\n",
       "      <th>reviewText</th>\n",
       "      <th>compound</th>\n",
       "      <th>positive</th>\n",
       "      <th>negative</th>\n",
       "      <th>neutral</th>\n",
       "    </tr>\n",
       "  </thead>\n",
       "  <tbody>\n",
       "    <tr>\n",
       "      <th>0</th>\n",
       "      <td>They look good and stick good! I just don't li...</td>\n",
       "      <td>-0.180808</td>\n",
       "      <td>0.140395</td>\n",
       "      <td>0.181836</td>\n",
       "      <td>0.677769</td>\n",
       "    </tr>\n",
       "    <tr>\n",
       "      <th>1</th>\n",
       "      <td>These stickers work like the review says they ...</td>\n",
       "      <td>0.947132</td>\n",
       "      <td>0.387269</td>\n",
       "      <td>0.000000</td>\n",
       "      <td>0.612731</td>\n",
       "    </tr>\n",
       "    <tr>\n",
       "      <th>2</th>\n",
       "      <td>These are awesome and make my phone look so st...</td>\n",
       "      <td>0.885161</td>\n",
       "      <td>0.237960</td>\n",
       "      <td>0.000000</td>\n",
       "      <td>0.762040</td>\n",
       "    </tr>\n",
       "    <tr>\n",
       "      <th>3</th>\n",
       "      <td>Item arrived in great time and was in perfect ...</td>\n",
       "      <td>0.962457</td>\n",
       "      <td>0.313612</td>\n",
       "      <td>0.000000</td>\n",
       "      <td>0.686388</td>\n",
       "    </tr>\n",
       "    <tr>\n",
       "      <th>4</th>\n",
       "      <td>awesome! stays on, and looks great. can be use...</td>\n",
       "      <td>0.902009</td>\n",
       "      <td>0.356748</td>\n",
       "      <td>0.000000</td>\n",
       "      <td>0.643252</td>\n",
       "    </tr>\n",
       "    <tr>\n",
       "      <th>...</th>\n",
       "      <td>...</td>\n",
       "      <td>...</td>\n",
       "      <td>...</td>\n",
       "      <td>...</td>\n",
       "      <td>...</td>\n",
       "    </tr>\n",
       "    <tr>\n",
       "      <th>95</th>\n",
       "      <td>It does what it needs to do, very pleased. I b...</td>\n",
       "      <td>0.245068</td>\n",
       "      <td>0.145292</td>\n",
       "      <td>0.104489</td>\n",
       "      <td>0.750219</td>\n",
       "    </tr>\n",
       "    <tr>\n",
       "      <th>96</th>\n",
       "      <td>Charger works great. Haven't had any issues wi...</td>\n",
       "      <td>0.898994</td>\n",
       "      <td>0.332406</td>\n",
       "      <td>0.000000</td>\n",
       "      <td>0.667594</td>\n",
       "    </tr>\n",
       "    <tr>\n",
       "      <th>97</th>\n",
       "      <td>It works great  thus  far no issues.  The only...</td>\n",
       "      <td>0.411765</td>\n",
       "      <td>0.223114</td>\n",
       "      <td>0.199037</td>\n",
       "      <td>0.577849</td>\n",
       "    </tr>\n",
       "    <tr>\n",
       "      <th>98</th>\n",
       "      <td>The big store that is in every town now (can't...</td>\n",
       "      <td>0.945759</td>\n",
       "      <td>0.112612</td>\n",
       "      <td>0.009455</td>\n",
       "      <td>0.877933</td>\n",
       "    </tr>\n",
       "    <tr>\n",
       "      <th>99</th>\n",
       "      <td>Good lengthEasy to useVery fast chargingI woul...</td>\n",
       "      <td>0.659728</td>\n",
       "      <td>0.278351</td>\n",
       "      <td>0.000000</td>\n",
       "      <td>0.721649</td>\n",
       "    </tr>\n",
       "  </tbody>\n",
       "</table>\n",
       "<p>100 rows × 5 columns</p>\n",
       "</div>"
      ],
      "text/plain": [
       "                                           reviewText  compound  positive  \\\n",
       "0   They look good and stick good! I just don't li... -0.180808  0.140395   \n",
       "1   These stickers work like the review says they ...  0.947132  0.387269   \n",
       "2   These are awesome and make my phone look so st...  0.885161  0.237960   \n",
       "3   Item arrived in great time and was in perfect ...  0.962457  0.313612   \n",
       "4   awesome! stays on, and looks great. can be use...  0.902009  0.356748   \n",
       "..                                                ...       ...       ...   \n",
       "95  It does what it needs to do, very pleased. I b...  0.245068  0.145292   \n",
       "96  Charger works great. Haven't had any issues wi...  0.898994  0.332406   \n",
       "97  It works great  thus  far no issues.  The only...  0.411765  0.223114   \n",
       "98  The big store that is in every town now (can't...  0.945759  0.112612   \n",
       "99  Good lengthEasy to useVery fast chargingI woul...  0.659728  0.278351   \n",
       "\n",
       "    negative   neutral  \n",
       "0   0.181836  0.677769  \n",
       "1   0.000000  0.612731  \n",
       "2   0.000000  0.762040  \n",
       "3   0.000000  0.686388  \n",
       "4   0.000000  0.643252  \n",
       "..       ...       ...  \n",
       "95  0.104489  0.750219  \n",
       "96  0.000000  0.667594  \n",
       "97  0.199037  0.577849  \n",
       "98  0.009455  0.877933  \n",
       "99  0.000000  0.721649  \n",
       "\n",
       "[100 rows x 5 columns]"
      ]
     },
     "execution_count": 26,
     "metadata": {},
     "output_type": "execute_result"
    }
   ],
   "source": [
    "pd.concat([df['reviewText'], pd.DataFrame(list(out['reviewText']))], axis=1)"
   ]
  },
  {
   "cell_type": "markdown",
   "id": "103eb792-92d8-4619-8f42-4346d3c35071",
   "metadata": {},
   "source": [
    "### Using the `sentiment` WASM function with Dask"
   ]
  },
  {
   "cell_type": "markdown",
   "id": "0f55d7dc-c0c6-41fc-a53b-d8a90de963e3",
   "metadata": {},
   "source": [
    "It is also possible to use the `sentiment` function in a distributed environment such as a Dask `DataFrame`. We will set up a cluster of workers on our local machine to demonstrate. Demonstrating a true distributed cluster with multiple machines is beyond the scope of this demo, however, as long as the same Python modules exist on all machines, the function will be able to run in all worker nodes."
   ]
  },
  {
   "cell_type": "code",
   "execution_count": 27,
   "id": "5c684b15-e004-4e44-bc2a-dd035164be03",
   "metadata": {},
   "outputs": [],
   "source": [
    "from dask.distributed import Client"
   ]
  },
  {
   "cell_type": "code",
   "execution_count": 28,
   "id": "86fd3567-d97e-4ae5-99ec-5bc7c93c575a",
   "metadata": {},
   "outputs": [
    {
     "data": {
      "application/vnd.jupyter.widget-view+json": {
       "model_id": "d2ed5b4fc50e42069bd2cba52c0354fc",
       "version_major": 2,
       "version_minor": 0
      },
      "text/plain": [
       "VBox(children=(HTML(value='<h2>LocalCluster</h2>'), HBox(children=(HTML(value='\\n<div>\\n  <style scoped>\\n    …"
      ]
     },
     "metadata": {},
     "output_type": "display_data"
    }
   ],
   "source": [
    "client = Client()\n",
    "client.cluster"
   ]
  },
  {
   "cell_type": "markdown",
   "id": "6cbbd787-3695-4b90-87a3-ff0305c9ca91",
   "metadata": {},
   "source": [
    "We'll use the same data set as above and simply partition it using Dask."
   ]
  },
  {
   "cell_type": "code",
   "execution_count": 29,
   "id": "615a1ad0-a925-495f-b2ca-fe303939c097",
   "metadata": {},
   "outputs": [
    {
     "data": {
      "text/html": [
       "<div><strong>Dask DataFrame Structure:</strong></div>\n",
       "<div>\n",
       "<style scoped>\n",
       "    .dataframe tbody tr th:only-of-type {\n",
       "        vertical-align: middle;\n",
       "    }\n",
       "\n",
       "    .dataframe tbody tr th {\n",
       "        vertical-align: top;\n",
       "    }\n",
       "\n",
       "    .dataframe thead th {\n",
       "        text-align: right;\n",
       "    }\n",
       "</style>\n",
       "<table border=\"1\" class=\"dataframe\">\n",
       "  <thead>\n",
       "    <tr style=\"text-align: right;\">\n",
       "      <th></th>\n",
       "      <th>reviewerID</th>\n",
       "      <th>asin</th>\n",
       "      <th>reviewerName</th>\n",
       "      <th>helpful</th>\n",
       "      <th>reviewText</th>\n",
       "      <th>overall</th>\n",
       "      <th>summary</th>\n",
       "      <th>unixReviewTime</th>\n",
       "      <th>reviewTime</th>\n",
       "    </tr>\n",
       "    <tr>\n",
       "      <th>npartitions=3</th>\n",
       "      <th></th>\n",
       "      <th></th>\n",
       "      <th></th>\n",
       "      <th></th>\n",
       "      <th></th>\n",
       "      <th></th>\n",
       "      <th></th>\n",
       "      <th></th>\n",
       "      <th></th>\n",
       "    </tr>\n",
       "  </thead>\n",
       "  <tbody>\n",
       "    <tr>\n",
       "      <th></th>\n",
       "      <td>object</td>\n",
       "      <td>object</td>\n",
       "      <td>object</td>\n",
       "      <td>object</td>\n",
       "      <td>object</td>\n",
       "      <td>object</td>\n",
       "      <td>object</td>\n",
       "      <td>object</td>\n",
       "      <td>object</td>\n",
       "    </tr>\n",
       "    <tr>\n",
       "      <th></th>\n",
       "      <td>...</td>\n",
       "      <td>...</td>\n",
       "      <td>...</td>\n",
       "      <td>...</td>\n",
       "      <td>...</td>\n",
       "      <td>...</td>\n",
       "      <td>...</td>\n",
       "      <td>...</td>\n",
       "      <td>...</td>\n",
       "    </tr>\n",
       "    <tr>\n",
       "      <th></th>\n",
       "      <td>...</td>\n",
       "      <td>...</td>\n",
       "      <td>...</td>\n",
       "      <td>...</td>\n",
       "      <td>...</td>\n",
       "      <td>...</td>\n",
       "      <td>...</td>\n",
       "      <td>...</td>\n",
       "      <td>...</td>\n",
       "    </tr>\n",
       "    <tr>\n",
       "      <th></th>\n",
       "      <td>...</td>\n",
       "      <td>...</td>\n",
       "      <td>...</td>\n",
       "      <td>...</td>\n",
       "      <td>...</td>\n",
       "      <td>...</td>\n",
       "      <td>...</td>\n",
       "      <td>...</td>\n",
       "      <td>...</td>\n",
       "    </tr>\n",
       "  </tbody>\n",
       "</table>\n",
       "</div>\n",
       "<div>Dask Name: repartition, 5 tasks</div>"
      ],
      "text/plain": [
       "Dask DataFrame Structure:\n",
       "              reviewerID    asin reviewerName helpful reviewText overall summary unixReviewTime reviewTime\n",
       "npartitions=3                                                                                             \n",
       "                  object  object       object  object     object  object  object         object     object\n",
       "                     ...     ...          ...     ...        ...     ...     ...            ...        ...\n",
       "                     ...     ...          ...     ...        ...     ...     ...            ...        ...\n",
       "                     ...     ...          ...     ...        ...     ...     ...            ...        ...\n",
       "Dask Name: repartition, 5 tasks"
      ]
     },
     "execution_count": 29,
     "metadata": {},
     "output_type": "execute_result"
    }
   ],
   "source": [
    "import dask.dataframe as dd\n",
    "\n",
    "# Read data set\n",
    "daskdf = dd.read_csv('data/phones.csv')\n",
    "\n",
    "# Make sure we have multiple partitions.\n",
    "daskdf = daskdf.repartition(3)\n",
    "\n",
    "daskdf"
   ]
  },
  {
   "cell_type": "markdown",
   "id": "fe9a0486-f9b0-4dc6-bb4e-4503e4bf31b2",
   "metadata": {},
   "source": [
    "We can now applly the `sentiment` function to a Dask `Series` as well. Note that Dask reccomends supplying the explicit output data types for a function. Otherwise, it will have to run the function on a set of sample data to determine the data types. The `sentiment` function has a `ret_meta` attribute that supplies that information."
   ]
  },
  {
   "cell_type": "code",
   "execution_count": 30,
   "id": "459c6f3f-a192-42a8-bb80-a9e851436d02",
   "metadata": {},
   "outputs": [
    {
     "data": {
      "text/plain": [
       "9999"
      ]
     },
     "execution_count": 30,
     "metadata": {},
     "output_type": "execute_result"
    }
   ],
   "source": [
    "len(daskdf)"
   ]
  },
  {
   "cell_type": "markdown",
   "id": "615fddff-6677-49e4-a957-19254d9d4e6a",
   "metadata": {},
   "source": [
    "Apply the `sentiment` function to the `reviewText` column of the Dask `DataFrame`. The function will be pickled and sent to each of the workers to be unpickled and initialized in a fresh WASM instance on that worker node. Until we call `.compute()` on the result, the operation is simply added to a graph of operations.\n",
    "\n",
    "Note that the Dask `DataFrame.apply` method takes a `meta=` field. If this is not supplied, Dask will attempt to run the function with sample data to guess the output type. Using the `meta=` parameter allows you to skip that step and tell Dask explicitly what the output type is. Each WASM function supplies the return type metadata in the `ret_meta` attribute."
   ]
  },
  {
   "cell_type": "code",
   "execution_count": 31,
   "id": "94985a1f-2914-4a88-9b98-b12fbec6ee29",
   "metadata": {},
   "outputs": [
    {
     "data": {
      "image/png": "[encoded data removed]",
      "text/plain": [
       "<IPython.core.display.Image object>"
      ]
     },
     "execution_count": 31,
     "metadata": {},
     "output_type": "execute_result"
    }
   ],
   "source": [
    "out = daskdf['reviewText'].apply(ml.sentiment, meta=ml.sentiment.ret_meta)\n",
    "out.visualize()"
   ]
  },
  {
   "cell_type": "markdown",
   "id": "c18b71f4-64c3-419b-8012-26c63cade352",
   "metadata": {},
   "source": [
    "Execute all pending operations, including running the `sentiment` function."
   ]
  },
  {
   "cell_type": "code",
   "execution_count": 32,
   "id": "260170fe-531d-4207-aaba-9343beed3fdd",
   "metadata": {},
   "outputs": [
    {
     "name": "stdout",
     "output_type": "stream",
     "text": [
      "CPU times: user 411 ms, sys: 200 ms, total: 611 ms\n",
      "Wall time: 10.5 s\n"
     ]
    },
    {
     "data": {
      "text/html": [
       "<div>\n",
       "<style scoped>\n",
       "    .dataframe tbody tr th:only-of-type {\n",
       "        vertical-align: middle;\n",
       "    }\n",
       "\n",
       "    .dataframe tbody tr th {\n",
       "        vertical-align: top;\n",
       "    }\n",
       "\n",
       "    .dataframe thead th {\n",
       "        text-align: right;\n",
       "    }\n",
       "</style>\n",
       "<table border=\"1\" class=\"dataframe\">\n",
       "  <thead>\n",
       "    <tr style=\"text-align: right;\">\n",
       "      <th></th>\n",
       "      <th>compound</th>\n",
       "      <th>positive</th>\n",
       "      <th>negative</th>\n",
       "      <th>neutral</th>\n",
       "    </tr>\n",
       "  </thead>\n",
       "  <tbody>\n",
       "    <tr>\n",
       "      <th>0</th>\n",
       "      <td>-0.180808</td>\n",
       "      <td>0.140395</td>\n",
       "      <td>0.181836</td>\n",
       "      <td>0.677769</td>\n",
       "    </tr>\n",
       "    <tr>\n",
       "      <th>1</th>\n",
       "      <td>0.947132</td>\n",
       "      <td>0.387269</td>\n",
       "      <td>0.000000</td>\n",
       "      <td>0.612731</td>\n",
       "    </tr>\n",
       "    <tr>\n",
       "      <th>2</th>\n",
       "      <td>0.885161</td>\n",
       "      <td>0.237960</td>\n",
       "      <td>0.000000</td>\n",
       "      <td>0.762040</td>\n",
       "    </tr>\n",
       "    <tr>\n",
       "      <th>3</th>\n",
       "      <td>0.962457</td>\n",
       "      <td>0.313612</td>\n",
       "      <td>0.000000</td>\n",
       "      <td>0.686388</td>\n",
       "    </tr>\n",
       "    <tr>\n",
       "      <th>4</th>\n",
       "      <td>0.902009</td>\n",
       "      <td>0.356748</td>\n",
       "      <td>0.000000</td>\n",
       "      <td>0.643252</td>\n",
       "    </tr>\n",
       "    <tr>\n",
       "      <th>...</th>\n",
       "      <td>...</td>\n",
       "      <td>...</td>\n",
       "      <td>...</td>\n",
       "      <td>...</td>\n",
       "    </tr>\n",
       "    <tr>\n",
       "      <th>9994</th>\n",
       "      <td>0.970301</td>\n",
       "      <td>0.106962</td>\n",
       "      <td>0.034075</td>\n",
       "      <td>0.858963</td>\n",
       "    </tr>\n",
       "    <tr>\n",
       "      <th>9995</th>\n",
       "      <td>0.957716</td>\n",
       "      <td>0.187080</td>\n",
       "      <td>0.061388</td>\n",
       "      <td>0.751533</td>\n",
       "    </tr>\n",
       "    <tr>\n",
       "      <th>9996</th>\n",
       "      <td>0.101208</td>\n",
       "      <td>0.200230</td>\n",
       "      <td>0.184057</td>\n",
       "      <td>0.615713</td>\n",
       "    </tr>\n",
       "    <tr>\n",
       "      <th>9997</th>\n",
       "      <td>0.992833</td>\n",
       "      <td>0.166485</td>\n",
       "      <td>0.043013</td>\n",
       "      <td>0.790502</td>\n",
       "    </tr>\n",
       "    <tr>\n",
       "      <th>9998</th>\n",
       "      <td>0.364782</td>\n",
       "      <td>0.032283</td>\n",
       "      <td>0.017285</td>\n",
       "      <td>0.950432</td>\n",
       "    </tr>\n",
       "  </tbody>\n",
       "</table>\n",
       "<p>9999 rows × 4 columns</p>\n",
       "</div>"
      ],
      "text/plain": [
       "      compound  positive  negative   neutral\n",
       "0    -0.180808  0.140395  0.181836  0.677769\n",
       "1     0.947132  0.387269  0.000000  0.612731\n",
       "2     0.885161  0.237960  0.000000  0.762040\n",
       "3     0.962457  0.313612  0.000000  0.686388\n",
       "4     0.902009  0.356748  0.000000  0.643252\n",
       "...        ...       ...       ...       ...\n",
       "9994  0.970301  0.106962  0.034075  0.858963\n",
       "9995  0.957716  0.187080  0.061388  0.751533\n",
       "9996  0.101208  0.200230  0.184057  0.615713\n",
       "9997  0.992833  0.166485  0.043013  0.790502\n",
       "9998  0.364782  0.032283  0.017285  0.950432\n",
       "\n",
       "[9999 rows x 4 columns]"
      ]
     },
     "execution_count": 32,
     "metadata": {},
     "output_type": "execute_result"
    }
   ],
   "source": [
    "%time out.compute()"
   ]
  },
  {
   "cell_type": "markdown",
   "id": "fad6658a-33d0-4037-8a23-b07ca32c8c71",
   "metadata": {},
   "source": [
    "Shut the Dask cluster down."
   ]
  },
  {
   "cell_type": "code",
   "execution_count": 33,
   "id": "a38fde6e-b298-48ca-949f-1d3c8559a8fa",
   "metadata": {},
   "outputs": [],
   "source": [
    "client.close()"
   ]
  },
  {
   "cell_type": "markdown",
   "id": "90c229e6-7e2f-4aa8-88d3-3b79fcc1b086",
   "metadata": {},
   "source": [
    "## Citations for data set"
   ]
  },
  {
   "cell_type": "markdown",
   "id": "59ed2f93-2e93-46c5-a738-dcee3f1fb97e",
   "metadata": {},
   "source": [
    "**Ups and downs: Modeling the visual evolution of fashion trends with one-class collaborative filtering**\n",
    "\n",
    "R. He, J. McAuley\n",
    "\n",
    "WWW, 2016\n",
    "\n",
    "**Image-based recommendations on styles and substitutes**\n",
    "\n",
    "J. McAuley, C. Targett, J. Shi, A. van den Hengel\n",
    "\n",
    "SIGIR, 2015"
   ]
  },
  {
   "cell_type": "code",
   "execution_count": null,
   "id": "9c77aa8c-8ad8-4574-aac6-7c7417287212",
   "metadata": {},
   "outputs": [],
   "source": []
  }
 ],
 "metadata": {
  "kernelspec": {
   "display_name": "Python 3",
   "language": "python",
   "name": "python3"
  },
  "language_info": {
   "codemirror_mode": {
    "name": "ipython",
    "version": 3
   },
   "file_extension": ".py",
   "mimetype": "text/x-python",
   "name": "python",
   "nbconvert_exporter": "python",
   "pygments_lexer": "ipython3",
   "version": "3.8.8"
  }
 },
 "nbformat": 4,
 "nbformat_minor": 5
}
