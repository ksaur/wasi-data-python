{
 "cells": [
  {
   "cell_type": "markdown",
   "metadata": {},
   "source": [
    "# Creating WASM ufuncs for `DataFrames` with `witxcraft` "
   ]
  },
  {
   "cell_type": "markdown",
   "metadata": {},
   "source": [
    "Import the `fromwasmmod` function from the  `witxcraft.ufunc` module. This function will read a WASM module and wrap the functions in it for use with `DataFrame/Series.apply` methods. "
   ]
  },
  {
   "cell_type": "code",
   "execution_count": 1,
   "metadata": {},
   "outputs": [],
   "source": [
    "import witxcraft as wc"
   ]
  },
  {
   "cell_type": "markdown",
   "metadata": {},
   "source": [
    "The `fromwasmmod` function takes a filename or URL to a WASM module, or the raw contents of a WASM module. Either compiled WASM or WATX maybe used."
   ]
  },
  {
   "cell_type": "code",
   "execution_count": 2,
   "metadata": {},
   "outputs": [
    {
     "name": "stdout",
     "output_type": "stream",
     "text": [
      "Generating \"/tmp/tmp12e00kmt/bindings.py\"\n"
     ]
    }
   ],
   "source": [
    "funcs = wc.fromwasmmod('df.wasm')"
   ]
  },
  {
   "cell_type": "markdown",
   "metadata": {},
   "source": [
    "Using `dir` we can see the WASM functions that are available."
   ]
  },
  {
   "cell_type": "code",
   "execution_count": 3,
   "metadata": {},
   "outputs": [
    {
     "data": {
      "text/plain": [
       "['mult', 'mult_vec', 'square', 'square_vec']"
      ]
     },
     "execution_count": 3,
     "metadata": {},
     "output_type": "execute_result"
    }
   ],
   "source": [
    "[x for x in dir(funcs) if not x.startswith('_')]"
   ]
  },
  {
   "cell_type": "markdown",
   "metadata": {},
   "source": [
    "## Using WASM functions with pandas"
   ]
  },
  {
   "cell_type": "markdown",
   "metadata": {},
   "source": [
    "To demonstrate WASM functions on `pandas` objects, we'll first load some data into a `DataFrame`."
   ]
  },
  {
   "cell_type": "code",
   "execution_count": 4,
   "metadata": {},
   "outputs": [],
   "source": [
    "import pandas as pd\n",
    "import numpy as np"
   ]
  },
  {
   "cell_type": "markdown",
   "metadata": {},
   "source": [
    "Generate some numeric data to work with."
   ]
  },
  {
   "cell_type": "code",
   "execution_count": 5,
   "metadata": {},
   "outputs": [
    {
     "data": {
      "text/html": [
       "<div>\n",
       "<style scoped>\n",
       "    .dataframe tbody tr th:only-of-type {\n",
       "        vertical-align: middle;\n",
       "    }\n",
       "\n",
       "    .dataframe tbody tr th {\n",
       "        vertical-align: top;\n",
       "    }\n",
       "\n",
       "    .dataframe thead th {\n",
       "        text-align: right;\n",
       "    }\n",
       "</style>\n",
       "<table border=\"1\" class=\"dataframe\">\n",
       "  <thead>\n",
       "    <tr style=\"text-align: right;\">\n",
       "      <th></th>\n",
       "      <th>X</th>\n",
       "      <th>Y</th>\n",
       "      <th>Z</th>\n",
       "    </tr>\n",
       "  </thead>\n",
       "  <tbody>\n",
       "    <tr>\n",
       "      <th>0</th>\n",
       "      <td>19</td>\n",
       "      <td>42</td>\n",
       "      <td>35</td>\n",
       "    </tr>\n",
       "    <tr>\n",
       "      <th>1</th>\n",
       "      <td>35</td>\n",
       "      <td>48</td>\n",
       "      <td>40</td>\n",
       "    </tr>\n",
       "    <tr>\n",
       "      <th>2</th>\n",
       "      <td>15</td>\n",
       "      <td>28</td>\n",
       "      <td>11</td>\n",
       "    </tr>\n",
       "    <tr>\n",
       "      <th>3</th>\n",
       "      <td>15</td>\n",
       "      <td>40</td>\n",
       "      <td>30</td>\n",
       "    </tr>\n",
       "    <tr>\n",
       "      <th>4</th>\n",
       "      <td>0</td>\n",
       "      <td>26</td>\n",
       "      <td>48</td>\n",
       "    </tr>\n",
       "    <tr>\n",
       "      <th>...</th>\n",
       "      <td>...</td>\n",
       "      <td>...</td>\n",
       "      <td>...</td>\n",
       "    </tr>\n",
       "    <tr>\n",
       "      <th>99995</th>\n",
       "      <td>38</td>\n",
       "      <td>2</td>\n",
       "      <td>32</td>\n",
       "    </tr>\n",
       "    <tr>\n",
       "      <th>99996</th>\n",
       "      <td>27</td>\n",
       "      <td>16</td>\n",
       "      <td>9</td>\n",
       "    </tr>\n",
       "    <tr>\n",
       "      <th>99997</th>\n",
       "      <td>19</td>\n",
       "      <td>22</td>\n",
       "      <td>1</td>\n",
       "    </tr>\n",
       "    <tr>\n",
       "      <th>99998</th>\n",
       "      <td>2</td>\n",
       "      <td>45</td>\n",
       "      <td>49</td>\n",
       "    </tr>\n",
       "    <tr>\n",
       "      <th>99999</th>\n",
       "      <td>44</td>\n",
       "      <td>0</td>\n",
       "      <td>0</td>\n",
       "    </tr>\n",
       "  </tbody>\n",
       "</table>\n",
       "<p>100000 rows × 3 columns</p>\n",
       "</div>"
      ],
      "text/plain": [
       "        X   Y   Z\n",
       "0      19  42  35\n",
       "1      35  48  40\n",
       "2      15  28  11\n",
       "3      15  40  30\n",
       "4       0  26  48\n",
       "...    ..  ..  ..\n",
       "99995  38   2  32\n",
       "99996  27  16   9\n",
       "99997  19  22   1\n",
       "99998   2  45  49\n",
       "99999  44   0   0\n",
       "\n",
       "[100000 rows x 3 columns]"
      ]
     },
     "execution_count": 5,
     "metadata": {},
     "output_type": "execute_result"
    }
   ],
   "source": [
    "data_len = 100000\n",
    "df = pd.DataFrame(dict(X=np.random.randint(0, 50, size=data_len),\n",
    "                       Y=np.random.randint(0, 50, size=data_len),\n",
    "                       Z=np.random.randint(0, 50, size=data_len)))\n",
    "df"
   ]
  },
  {
   "cell_type": "markdown",
   "metadata": {},
   "source": [
    "### Simple example of a WASM function with scalar input and output"
   ]
  },
  {
   "cell_type": "markdown",
   "metadata": {},
   "source": [
    "The `square` function simply squares the given value."
   ]
  },
  {
   "cell_type": "code",
   "execution_count": 6,
   "metadata": {},
   "outputs": [
    {
     "data": {
      "text/plain": [
       "100"
      ]
     },
     "execution_count": 6,
     "metadata": {},
     "output_type": "execute_result"
    }
   ],
   "source": [
    "funcs.square(10)"
   ]
  },
  {
   "cell_type": "code",
   "execution_count": 7,
   "metadata": {},
   "outputs": [
    {
     "data": {
      "text/plain": [
       "50"
      ]
     },
     "execution_count": 7,
     "metadata": {},
     "output_type": "execute_result"
    }
   ],
   "source": [
    "funcs.mult(10, 5)"
   ]
  },
  {
   "cell_type": "code",
   "execution_count": 8,
   "metadata": {},
   "outputs": [
    {
     "data": {
      "text/plain": [
       "0     25\n",
       "1    100\n",
       "dtype: int64"
      ]
     },
     "execution_count": 8,
     "metadata": {},
     "output_type": "execute_result"
    }
   ],
   "source": [
    "funcs.square_vec([5, 10])"
   ]
  },
  {
   "cell_type": "code",
   "execution_count": 9,
   "metadata": {},
   "outputs": [
    {
     "data": {
      "text/plain": [
       "0    10\n",
       "1    30\n",
       "dtype: int64"
      ]
     },
     "execution_count": 9,
     "metadata": {},
     "output_type": "execute_result"
    }
   ],
   "source": [
    "funcs.mult_vec([5, 10], [2, 3])"
   ]
  },
  {
   "cell_type": "markdown",
   "metadata": {},
   "source": [
    "### Using the WASM functions with pandas data"
   ]
  },
  {
   "cell_type": "markdown",
   "metadata": {},
   "source": [
    "This function can be applied to a `pandas.Series` using the `apply` method as follows."
   ]
  },
  {
   "cell_type": "code",
   "execution_count": 10,
   "metadata": {},
   "outputs": [
    {
     "name": "stdout",
     "output_type": "stream",
     "text": [
      "CPU times: user 16.2 s, sys: 14.5 ms, total: 16.3 s\n",
      "Wall time: 16.3 s\n"
     ]
    },
    {
     "data": {
      "text/plain": [
       "0        190\n",
       "1        350\n",
       "2        150\n",
       "3        150\n",
       "4          0\n",
       "        ... \n",
       "99995    380\n",
       "99996    270\n",
       "99997    190\n",
       "99998     20\n",
       "99999    440\n",
       "Name: X, Length: 100000, dtype: int64"
      ]
     },
     "execution_count": 10,
     "metadata": {},
     "output_type": "execute_result"
    }
   ],
   "source": [
    "%time df.X.apply(funcs.mult, args=[10])"
   ]
  },
  {
   "cell_type": "markdown",
   "metadata": {},
   "source": [
    "Since the functions support the `ufunc` API, you can also apply them as a function call with the `pandas.Series` as the argument."
   ]
  },
  {
   "cell_type": "code",
   "execution_count": null,
   "metadata": {},
   "outputs": [
    {
     "name": "stdout",
     "output_type": "stream",
     "text": [
      "CPU times: user 2.14 s, sys: 0 ns, total: 2.14 s\n",
      "Wall time: 2.13 s\n"
     ]
    },
    {
     "data": {
      "text/plain": [
       "0        130\n",
       "1        290\n",
       "2        380\n",
       "3        370\n",
       "4        210\n",
       "        ... \n",
       "99995    410\n",
       "99996     90\n",
       "99997    130\n",
       "99998    370\n",
       "99999     50\n",
       "Name: X, Length: 100000, dtype: object"
      ]
     },
     "execution_count": 11,
     "metadata": {},
     "output_type": "execute_result"
    }
   ],
   "source": [
    "%time funcs.mult(df.X, 10)"
   ]
  },
  {
   "cell_type": "markdown",
   "metadata": {},
   "source": [
    "Using the vector version of the `mult` func, we can send two `Series` objects in. Rather than allowing the `DataFrame` to iterate over the objects and apply a new function call on each pair, this version will push the data from both objects into the WASM memory and do all of the work in WASM. This eliminates much of the WASM call overhead."
   ]
  },
  {
   "cell_type": "markdown",
   "metadata": {},
   "source": [
    "### Using a vectorized WASM function with pandas data"
   ]
  },
  {
   "cell_type": "markdown",
   "metadata": {},
   "source": [
    "Vector versions of the functions copy the entire data vector into WASM memory before operating on it. This reduces the WASM function call overhead."
   ]
  },
  {
   "cell_type": "code",
   "execution_count": null,
   "metadata": {},
   "outputs": [
    {
     "name": "stdout",
     "output_type": "stream",
     "text": [
      "CPU times: user 57.3 ms, sys: 8.65 ms, total: 66 ms\n",
      "Wall time: 60.7 ms\n"
     ]
    },
    {
     "data": {
      "text/plain": [
       "0         195\n",
       "1         203\n",
       "2        1254\n",
       "3        1258\n",
       "4        1008\n",
       "         ... \n",
       "99995    1353\n",
       "99996     153\n",
       "99997      52\n",
       "99998     851\n",
       "99999      65\n",
       "Length: 100000, dtype: int64"
      ]
     },
     "execution_count": 12,
     "metadata": {},
     "output_type": "execute_result"
    }
   ],
   "source": [
    "%time funcs.mult_vec(df.X, df.Y)"
   ]
  },
  {
   "cell_type": "markdown",
   "metadata": {},
   "source": [
    "## Example with WITX record inputs and outputs"
   ]
  },
  {
   "cell_type": "markdown",
   "metadata": {},
   "source": [
    "In this WASM module, we have several functions. We'll be using the `sentiment` function with calculates a sentiment value based on the content of a string. The code for this example comes from https://github.com/singlestore-labs/wasi-data-rust."
   ]
  },
  {
   "cell_type": "code",
   "execution_count": null,
   "metadata": {},
   "outputs": [
    {
     "name": "stdout",
     "output_type": "stream",
     "text": [
      "Generating \"/tmp/tmpqg722mbf/bindings.py\"\n"
     ]
    }
   ],
   "source": [
    "ml = wc.fromwasmmod('example_wasm.wasm', witx='iface.witx')"
   ]
  },
  {
   "cell_type": "markdown",
   "metadata": {},
   "source": [
    "List the functions in the module."
   ]
  },
  {
   "cell_type": "code",
   "execution_count": null,
   "metadata": {},
   "outputs": [
    {
     "data": {
      "text/plain": [
       "['sentiment']"
      ]
     },
     "execution_count": 14,
     "metadata": {},
     "output_type": "execute_result"
    }
   ],
   "source": [
    "[x for x in dir(ml) if not x.startswith('_')]"
   ]
  },
  {
   "cell_type": "markdown",
   "metadata": {},
   "source": [
    "### Running the `sentiment` WASM function on scalar values"
   ]
  },
  {
   "cell_type": "markdown",
   "metadata": {},
   "source": [
    "Running the `sentiment` function on a string will return the sentiment scores. The initial lag of this function call is due to the fact that the WASM content is not compiled by the wasmtime engine until it is first needed. Subsequent calls will be much faster."
   ]
  },
  {
   "cell_type": "code",
   "execution_count": null,
   "metadata": {},
   "outputs": [
    {
     "data": {
      "text/plain": [
       "compound    0.458831\n",
       "positive    0.750000\n",
       "negative    0.000000\n",
       "neutral     0.250000\n",
       "dtype: float64"
      ]
     },
     "execution_count": 15,
     "metadata": {},
     "output_type": "execute_result"
    }
   ],
   "source": [
    "ml.sentiment('Welcome home')"
   ]
  },
  {
   "cell_type": "code",
   "execution_count": null,
   "metadata": {},
   "outputs": [
    {
     "data": {
      "text/plain": [
       "compound   -0.542326\n",
       "positive    0.000000\n",
       "negative    0.636364\n",
       "neutral     0.363636\n",
       "dtype: float64"
      ]
     },
     "execution_count": 16,
     "metadata": {},
     "output_type": "execute_result"
    }
   ],
   "source": [
    "ml.sentiment('This smells bad')"
   ]
  },
  {
   "cell_type": "markdown",
   "metadata": {},
   "source": [
    "Note that although we used a scalar value as input above, the WASM function actually takes a record as input (see ml.witx file). This record just happens to have a single field in it named 's' of type str."
   ]
  },
  {
   "cell_type": "markdown",
   "metadata": {},
   "source": [
    "### Using the `sentiment` WASM function with pandas"
   ]
  },
  {
   "cell_type": "markdown",
   "metadata": {},
   "source": [
    "First, we'll load a data set of string values to be evaluated using the `sentiment` function. The data set used here was downloaded from http://jmcauley.ucsd.edu/data/amazon/ (see citations at the end)."
   ]
  },
  {
   "cell_type": "code",
   "execution_count": null,
   "metadata": {},
   "outputs": [
    {
     "data": {
      "text/html": [
       "<div>\n",
       "<style scoped>\n",
       "    .dataframe tbody tr th:only-of-type {\n",
       "        vertical-align: middle;\n",
       "    }\n",
       "\n",
       "    .dataframe tbody tr th {\n",
       "        vertical-align: top;\n",
       "    }\n",
       "\n",
       "    .dataframe thead th {\n",
       "        text-align: right;\n",
       "    }\n",
       "</style>\n",
       "<table border=\"1\" class=\"dataframe\">\n",
       "  <thead>\n",
       "    <tr style=\"text-align: right;\">\n",
       "      <th></th>\n",
       "      <th>reviewerID</th>\n",
       "      <th>asin</th>\n",
       "      <th>reviewerName</th>\n",
       "      <th>helpful</th>\n",
       "      <th>reviewText</th>\n",
       "      <th>overall</th>\n",
       "      <th>summary</th>\n",
       "      <th>unixReviewTime</th>\n",
       "      <th>reviewTime</th>\n",
       "    </tr>\n",
       "  </thead>\n",
       "  <tbody>\n",
       "    <tr>\n",
       "      <th>0</th>\n",
       "      <td>A30TL5EWN6DFXT</td>\n",
       "      <td>120401325X</td>\n",
       "      <td>christina</td>\n",
       "      <td>[0, 0]</td>\n",
       "      <td>They look good and stick good! I just don't li...</td>\n",
       "      <td>4.0</td>\n",
       "      <td>Looks Good</td>\n",
       "      <td>1400630400</td>\n",
       "      <td>05 21, 2014</td>\n",
       "    </tr>\n",
       "    <tr>\n",
       "      <th>1</th>\n",
       "      <td>ASY55RVNIL0UD</td>\n",
       "      <td>120401325X</td>\n",
       "      <td>emily l.</td>\n",
       "      <td>[0, 0]</td>\n",
       "      <td>These stickers work like the review says they ...</td>\n",
       "      <td>5.0</td>\n",
       "      <td>Really great product.</td>\n",
       "      <td>1389657600</td>\n",
       "      <td>01 14, 2014</td>\n",
       "    </tr>\n",
       "    <tr>\n",
       "      <th>2</th>\n",
       "      <td>A2TMXE2AFO7ONB</td>\n",
       "      <td>120401325X</td>\n",
       "      <td>Erica</td>\n",
       "      <td>[0, 0]</td>\n",
       "      <td>These are awesome and make my phone look so st...</td>\n",
       "      <td>5.0</td>\n",
       "      <td>LOVE LOVE LOVE</td>\n",
       "      <td>1403740800</td>\n",
       "      <td>06 26, 2014</td>\n",
       "    </tr>\n",
       "    <tr>\n",
       "      <th>3</th>\n",
       "      <td>AWJ0WZQYMYFQ4</td>\n",
       "      <td>120401325X</td>\n",
       "      <td>JM</td>\n",
       "      <td>[4, 4]</td>\n",
       "      <td>Item arrived in great time and was in perfect ...</td>\n",
       "      <td>4.0</td>\n",
       "      <td>Cute!</td>\n",
       "      <td>1382313600</td>\n",
       "      <td>10 21, 2013</td>\n",
       "    </tr>\n",
       "    <tr>\n",
       "      <th>4</th>\n",
       "      <td>ATX7CZYFXI1KW</td>\n",
       "      <td>120401325X</td>\n",
       "      <td>patrice m rogoza</td>\n",
       "      <td>[2, 3]</td>\n",
       "      <td>awesome! stays on, and looks great. can be use...</td>\n",
       "      <td>5.0</td>\n",
       "      <td>leopard home button sticker for iphone 4s</td>\n",
       "      <td>1359849600</td>\n",
       "      <td>02 3, 2013</td>\n",
       "    </tr>\n",
       "    <tr>\n",
       "      <th>...</th>\n",
       "      <td>...</td>\n",
       "      <td>...</td>\n",
       "      <td>...</td>\n",
       "      <td>...</td>\n",
       "      <td>...</td>\n",
       "      <td>...</td>\n",
       "      <td>...</td>\n",
       "      <td>...</td>\n",
       "      <td>...</td>\n",
       "    </tr>\n",
       "    <tr>\n",
       "      <th>95</th>\n",
       "      <td>A16GNVT2QWNYPM</td>\n",
       "      <td>8288855504</td>\n",
       "      <td>Steve</td>\n",
       "      <td>[0, 0]</td>\n",
       "      <td>It does what it needs to do, very pleased. I b...</td>\n",
       "      <td>5.0</td>\n",
       "      <td>Awesome</td>\n",
       "      <td>1313712000</td>\n",
       "      <td>08 19, 2011</td>\n",
       "    </tr>\n",
       "    <tr>\n",
       "      <th>96</th>\n",
       "      <td>A2VIMRVTUCKF9M</td>\n",
       "      <td>8288855504</td>\n",
       "      <td>zeppbiatch</td>\n",
       "      <td>[1, 1]</td>\n",
       "      <td>Charger works great. Haven't had any issues wi...</td>\n",
       "      <td>4.0</td>\n",
       "      <td>great charger</td>\n",
       "      <td>1290729600</td>\n",
       "      <td>11 26, 2010</td>\n",
       "    </tr>\n",
       "    <tr>\n",
       "      <th>97</th>\n",
       "      <td>A1MMMVGC7A7P1Y</td>\n",
       "      <td>8288862993</td>\n",
       "      <td>alex</td>\n",
       "      <td>[0, 0]</td>\n",
       "      <td>It works great  thus  far no issues.  The only...</td>\n",
       "      <td>3.0</td>\n",
       "      <td>this is great buy and very useful</td>\n",
       "      <td>1397260800</td>\n",
       "      <td>04 12, 2014</td>\n",
       "    </tr>\n",
       "    <tr>\n",
       "      <th>98</th>\n",
       "      <td>A1WK0DH0W21F3G</td>\n",
       "      <td>8288862993</td>\n",
       "      <td>AndyC</td>\n",
       "      <td>[0, 0]</td>\n",
       "      <td>The big store that is in every town now (can't...</td>\n",
       "      <td>5.0</td>\n",
       "      <td>It Works Great</td>\n",
       "      <td>1390176000</td>\n",
       "      <td>01 20, 2014</td>\n",
       "    </tr>\n",
       "    <tr>\n",
       "      <th>99</th>\n",
       "      <td>AZIN9ATSFV0ZG</td>\n",
       "      <td>8288862993</td>\n",
       "      <td>Aron Edwards</td>\n",
       "      <td>[0, 0]</td>\n",
       "      <td>Good lengthEasy to useVery fast chargingI woul...</td>\n",
       "      <td>4.0</td>\n",
       "      <td>Very fast charging.</td>\n",
       "      <td>1375660800</td>\n",
       "      <td>08 5, 2013</td>\n",
       "    </tr>\n",
       "  </tbody>\n",
       "</table>\n",
       "<p>100 rows × 9 columns</p>\n",
       "</div>"
      ],
      "text/plain": [
       "        reviewerID        asin      reviewerName helpful  \\\n",
       "0   A30TL5EWN6DFXT  120401325X         christina  [0, 0]   \n",
       "1    ASY55RVNIL0UD  120401325X          emily l.  [0, 0]   \n",
       "2   A2TMXE2AFO7ONB  120401325X             Erica  [0, 0]   \n",
       "3    AWJ0WZQYMYFQ4  120401325X                JM  [4, 4]   \n",
       "4    ATX7CZYFXI1KW  120401325X  patrice m rogoza  [2, 3]   \n",
       "..             ...         ...               ...     ...   \n",
       "95  A16GNVT2QWNYPM  8288855504             Steve  [0, 0]   \n",
       "96  A2VIMRVTUCKF9M  8288855504        zeppbiatch  [1, 1]   \n",
       "97  A1MMMVGC7A7P1Y  8288862993              alex  [0, 0]   \n",
       "98  A1WK0DH0W21F3G  8288862993             AndyC  [0, 0]   \n",
       "99   AZIN9ATSFV0ZG  8288862993      Aron Edwards  [0, 0]   \n",
       "\n",
       "                                           reviewText  overall  \\\n",
       "0   They look good and stick good! I just don't li...      4.0   \n",
       "1   These stickers work like the review says they ...      5.0   \n",
       "2   These are awesome and make my phone look so st...      5.0   \n",
       "3   Item arrived in great time and was in perfect ...      4.0   \n",
       "4   awesome! stays on, and looks great. can be use...      5.0   \n",
       "..                                                ...      ...   \n",
       "95  It does what it needs to do, very pleased. I b...      5.0   \n",
       "96  Charger works great. Haven't had any issues wi...      4.0   \n",
       "97  It works great  thus  far no issues.  The only...      3.0   \n",
       "98  The big store that is in every town now (can't...      5.0   \n",
       "99  Good lengthEasy to useVery fast chargingI woul...      4.0   \n",
       "\n",
       "                                      summary  unixReviewTime   reviewTime  \n",
       "0                                  Looks Good      1400630400  05 21, 2014  \n",
       "1                       Really great product.      1389657600  01 14, 2014  \n",
       "2                              LOVE LOVE LOVE      1403740800  06 26, 2014  \n",
       "3                                       Cute!      1382313600  10 21, 2013  \n",
       "4   leopard home button sticker for iphone 4s      1359849600   02 3, 2013  \n",
       "..                                        ...             ...          ...  \n",
       "95                                    Awesome      1313712000  08 19, 2011  \n",
       "96                              great charger      1290729600  11 26, 2010  \n",
       "97          this is great buy and very useful      1397260800  04 12, 2014  \n",
       "98                             It Works Great      1390176000  01 20, 2014  \n",
       "99                        Very fast charging.      1375660800   08 5, 2013  \n",
       "\n",
       "[100 rows x 9 columns]"
      ]
     },
     "execution_count": 17,
     "metadata": {},
     "output_type": "execute_result"
    }
   ],
   "source": [
    "df = pd.read_csv('data/phones.csv', nrows=100)\n",
    "df"
   ]
  },
  {
   "cell_type": "markdown",
   "metadata": {},
   "source": [
    "Here we are applying the `sentiment` function to a `Series`. Note that the output contains all of the same fields as the record described in the original WASM function. However, each output record is converted to a `Series` by the wrapper and a `DataFrame` with multiple columns is the result."
   ]
  },
  {
   "cell_type": "code",
   "execution_count": null,
   "metadata": {},
   "outputs": [
    {
     "data": {
      "text/html": [
       "<div>\n",
       "<style scoped>\n",
       "    .dataframe tbody tr th:only-of-type {\n",
       "        vertical-align: middle;\n",
       "    }\n",
       "\n",
       "    .dataframe tbody tr th {\n",
       "        vertical-align: top;\n",
       "    }\n",
       "\n",
       "    .dataframe thead th {\n",
       "        text-align: right;\n",
       "    }\n",
       "</style>\n",
       "<table border=\"1\" class=\"dataframe\">\n",
       "  <thead>\n",
       "    <tr style=\"text-align: right;\">\n",
       "      <th></th>\n",
       "      <th>compound</th>\n",
       "      <th>positive</th>\n",
       "      <th>negative</th>\n",
       "      <th>neutral</th>\n",
       "    </tr>\n",
       "  </thead>\n",
       "  <tbody>\n",
       "    <tr>\n",
       "      <th>0</th>\n",
       "      <td>-0.180808</td>\n",
       "      <td>0.140395</td>\n",
       "      <td>0.181836</td>\n",
       "      <td>0.677769</td>\n",
       "    </tr>\n",
       "    <tr>\n",
       "      <th>1</th>\n",
       "      <td>0.947132</td>\n",
       "      <td>0.387269</td>\n",
       "      <td>0.000000</td>\n",
       "      <td>0.612731</td>\n",
       "    </tr>\n",
       "    <tr>\n",
       "      <th>2</th>\n",
       "      <td>0.885161</td>\n",
       "      <td>0.237960</td>\n",
       "      <td>0.000000</td>\n",
       "      <td>0.762040</td>\n",
       "    </tr>\n",
       "    <tr>\n",
       "      <th>3</th>\n",
       "      <td>0.962457</td>\n",
       "      <td>0.313612</td>\n",
       "      <td>0.000000</td>\n",
       "      <td>0.686388</td>\n",
       "    </tr>\n",
       "    <tr>\n",
       "      <th>4</th>\n",
       "      <td>0.902009</td>\n",
       "      <td>0.356748</td>\n",
       "      <td>0.000000</td>\n",
       "      <td>0.643252</td>\n",
       "    </tr>\n",
       "    <tr>\n",
       "      <th>...</th>\n",
       "      <td>...</td>\n",
       "      <td>...</td>\n",
       "      <td>...</td>\n",
       "      <td>...</td>\n",
       "    </tr>\n",
       "    <tr>\n",
       "      <th>95</th>\n",
       "      <td>0.245068</td>\n",
       "      <td>0.145292</td>\n",
       "      <td>0.104489</td>\n",
       "      <td>0.750219</td>\n",
       "    </tr>\n",
       "    <tr>\n",
       "      <th>96</th>\n",
       "      <td>0.898994</td>\n",
       "      <td>0.332406</td>\n",
       "      <td>0.000000</td>\n",
       "      <td>0.667594</td>\n",
       "    </tr>\n",
       "    <tr>\n",
       "      <th>97</th>\n",
       "      <td>0.411765</td>\n",
       "      <td>0.223114</td>\n",
       "      <td>0.199037</td>\n",
       "      <td>0.577849</td>\n",
       "    </tr>\n",
       "    <tr>\n",
       "      <th>98</th>\n",
       "      <td>0.945759</td>\n",
       "      <td>0.112612</td>\n",
       "      <td>0.009455</td>\n",
       "      <td>0.877933</td>\n",
       "    </tr>\n",
       "    <tr>\n",
       "      <th>99</th>\n",
       "      <td>0.659728</td>\n",
       "      <td>0.278351</td>\n",
       "      <td>0.000000</td>\n",
       "      <td>0.721649</td>\n",
       "    </tr>\n",
       "  </tbody>\n",
       "</table>\n",
       "<p>100 rows × 4 columns</p>\n",
       "</div>"
      ],
      "text/plain": [
       "    compound  positive  negative   neutral\n",
       "0  -0.180808  0.140395  0.181836  0.677769\n",
       "1   0.947132  0.387269  0.000000  0.612731\n",
       "2   0.885161  0.237960  0.000000  0.762040\n",
       "3   0.962457  0.313612  0.000000  0.686388\n",
       "4   0.902009  0.356748  0.000000  0.643252\n",
       "..       ...       ...       ...       ...\n",
       "95  0.245068  0.145292  0.104489  0.750219\n",
       "96  0.898994  0.332406  0.000000  0.667594\n",
       "97  0.411765  0.223114  0.199037  0.577849\n",
       "98  0.945759  0.112612  0.009455  0.877933\n",
       "99  0.659728  0.278351  0.000000  0.721649\n",
       "\n",
       "[100 rows x 4 columns]"
      ]
     },
     "execution_count": 18,
     "metadata": {},
     "output_type": "execute_result"
    }
   ],
   "source": [
    "out = df['reviewText'].apply(ml.sentiment)\n",
    "out"
   ]
  },
  {
   "cell_type": "markdown",
   "metadata": {},
   "source": [
    "You can also apply the function where the `Series` is the argument to the function."
   ]
  },
  {
   "cell_type": "code",
   "execution_count": null,
   "metadata": {},
   "outputs": [
    {
     "data": {
      "text/html": [
       "<div>\n",
       "<style scoped>\n",
       "    .dataframe tbody tr th:only-of-type {\n",
       "        vertical-align: middle;\n",
       "    }\n",
       "\n",
       "    .dataframe tbody tr th {\n",
       "        vertical-align: top;\n",
       "    }\n",
       "\n",
       "    .dataframe thead th {\n",
       "        text-align: right;\n",
       "    }\n",
       "</style>\n",
       "<table border=\"1\" class=\"dataframe\">\n",
       "  <thead>\n",
       "    <tr style=\"text-align: right;\">\n",
       "      <th></th>\n",
       "      <th>compound</th>\n",
       "      <th>positive</th>\n",
       "      <th>negative</th>\n",
       "      <th>neutral</th>\n",
       "    </tr>\n",
       "  </thead>\n",
       "  <tbody>\n",
       "    <tr>\n",
       "      <th>0</th>\n",
       "      <td>-0.180808</td>\n",
       "      <td>0.140395</td>\n",
       "      <td>0.181836</td>\n",
       "      <td>0.677769</td>\n",
       "    </tr>\n",
       "    <tr>\n",
       "      <th>1</th>\n",
       "      <td>0.947132</td>\n",
       "      <td>0.387269</td>\n",
       "      <td>0.000000</td>\n",
       "      <td>0.612731</td>\n",
       "    </tr>\n",
       "    <tr>\n",
       "      <th>2</th>\n",
       "      <td>0.885161</td>\n",
       "      <td>0.237960</td>\n",
       "      <td>0.000000</td>\n",
       "      <td>0.762040</td>\n",
       "    </tr>\n",
       "    <tr>\n",
       "      <th>3</th>\n",
       "      <td>0.962457</td>\n",
       "      <td>0.313612</td>\n",
       "      <td>0.000000</td>\n",
       "      <td>0.686388</td>\n",
       "    </tr>\n",
       "    <tr>\n",
       "      <th>4</th>\n",
       "      <td>0.902009</td>\n",
       "      <td>0.356748</td>\n",
       "      <td>0.000000</td>\n",
       "      <td>0.643252</td>\n",
       "    </tr>\n",
       "    <tr>\n",
       "      <th>...</th>\n",
       "      <td>...</td>\n",
       "      <td>...</td>\n",
       "      <td>...</td>\n",
       "      <td>...</td>\n",
       "    </tr>\n",
       "    <tr>\n",
       "      <th>95</th>\n",
       "      <td>0.245068</td>\n",
       "      <td>0.145292</td>\n",
       "      <td>0.104489</td>\n",
       "      <td>0.750219</td>\n",
       "    </tr>\n",
       "    <tr>\n",
       "      <th>96</th>\n",
       "      <td>0.898994</td>\n",
       "      <td>0.332406</td>\n",
       "      <td>0.000000</td>\n",
       "      <td>0.667594</td>\n",
       "    </tr>\n",
       "    <tr>\n",
       "      <th>97</th>\n",
       "      <td>0.411765</td>\n",
       "      <td>0.223114</td>\n",
       "      <td>0.199037</td>\n",
       "      <td>0.577849</td>\n",
       "    </tr>\n",
       "    <tr>\n",
       "      <th>98</th>\n",
       "      <td>0.945759</td>\n",
       "      <td>0.112612</td>\n",
       "      <td>0.009455</td>\n",
       "      <td>0.877933</td>\n",
       "    </tr>\n",
       "    <tr>\n",
       "      <th>99</th>\n",
       "      <td>0.659728</td>\n",
       "      <td>0.278351</td>\n",
       "      <td>0.000000</td>\n",
       "      <td>0.721649</td>\n",
       "    </tr>\n",
       "  </tbody>\n",
       "</table>\n",
       "<p>100 rows × 4 columns</p>\n",
       "</div>"
      ],
      "text/plain": [
       "    compound  positive  negative   neutral\n",
       "0  -0.180808  0.140395  0.181836  0.677769\n",
       "1   0.947132  0.387269  0.000000  0.612731\n",
       "2   0.885161  0.237960  0.000000  0.762040\n",
       "3   0.962457  0.313612  0.000000  0.686388\n",
       "4   0.902009  0.356748  0.000000  0.643252\n",
       "..       ...       ...       ...       ...\n",
       "95  0.245068  0.145292  0.104489  0.750219\n",
       "96  0.898994  0.332406  0.000000  0.667594\n",
       "97  0.411765  0.223114  0.199037  0.577849\n",
       "98  0.945759  0.112612  0.009455  0.877933\n",
       "99  0.659728  0.278351  0.000000  0.721649\n",
       "\n",
       "[100 rows x 4 columns]"
      ]
     },
     "execution_count": 19,
     "metadata": {},
     "output_type": "execute_result"
    }
   ],
   "source": [
    "ml.sentiment(df['reviewText'])"
   ]
  },
  {
   "cell_type": "markdown",
   "metadata": {},
   "source": [
    "It is also possible to apply the function to multiple columns from a `DataFrame` as long as they are all the correct data type. In this case, the values returned for each row are `Series` objects stored in a `DataFrame`."
   ]
  },
  {
   "cell_type": "code",
   "execution_count": null,
   "metadata": {},
   "outputs": [
    {
     "data": {
      "text/html": [
       "<div>\n",
       "<style scoped>\n",
       "    .dataframe tbody tr th:only-of-type {\n",
       "        vertical-align: middle;\n",
       "    }\n",
       "\n",
       "    .dataframe tbody tr th {\n",
       "        vertical-align: top;\n",
       "    }\n",
       "\n",
       "    .dataframe thead th {\n",
       "        text-align: right;\n",
       "    }\n",
       "</style>\n",
       "<table border=\"1\" class=\"dataframe\">\n",
       "  <thead>\n",
       "    <tr style=\"text-align: right;\">\n",
       "      <th></th>\n",
       "      <th>reviewText</th>\n",
       "      <th>reviewerName</th>\n",
       "    </tr>\n",
       "  </thead>\n",
       "  <tbody>\n",
       "    <tr>\n",
       "      <th>0</th>\n",
       "      <td>compound   -0.180808\n",
       "positive    0.140395\n",
       "nega...</td>\n",
       "      <td>compound    0.0\n",
       "positive    0.0\n",
       "negative    0....</td>\n",
       "    </tr>\n",
       "    <tr>\n",
       "      <th>1</th>\n",
       "      <td>compound    0.947132\n",
       "positive    0.387269\n",
       "nega...</td>\n",
       "      <td>compound    0.0\n",
       "positive    0.0\n",
       "negative    0....</td>\n",
       "    </tr>\n",
       "    <tr>\n",
       "      <th>2</th>\n",
       "      <td>compound    0.885161\n",
       "positive    0.237960\n",
       "nega...</td>\n",
       "      <td>compound    0.0\n",
       "positive    0.0\n",
       "negative    0....</td>\n",
       "    </tr>\n",
       "    <tr>\n",
       "      <th>3</th>\n",
       "      <td>compound    0.962457\n",
       "positive    0.313612\n",
       "nega...</td>\n",
       "      <td>compound    0.0\n",
       "positive    0.0\n",
       "negative    0....</td>\n",
       "    </tr>\n",
       "    <tr>\n",
       "      <th>4</th>\n",
       "      <td>compound    0.902009\n",
       "positive    0.356748\n",
       "nega...</td>\n",
       "      <td>compound    0.0\n",
       "positive    0.0\n",
       "negative    0....</td>\n",
       "    </tr>\n",
       "    <tr>\n",
       "      <th>...</th>\n",
       "      <td>...</td>\n",
       "      <td>...</td>\n",
       "    </tr>\n",
       "    <tr>\n",
       "      <th>95</th>\n",
       "      <td>compound    0.245068\n",
       "positive    0.145292\n",
       "nega...</td>\n",
       "      <td>compound    0.0\n",
       "positive    0.0\n",
       "negative    0....</td>\n",
       "    </tr>\n",
       "    <tr>\n",
       "      <th>96</th>\n",
       "      <td>compound    0.898994\n",
       "positive    0.332406\n",
       "nega...</td>\n",
       "      <td>compound    0.0\n",
       "positive    0.0\n",
       "negative    0....</td>\n",
       "    </tr>\n",
       "    <tr>\n",
       "      <th>97</th>\n",
       "      <td>compound    0.411765\n",
       "positive    0.223114\n",
       "nega...</td>\n",
       "      <td>compound    0.0\n",
       "positive    0.0\n",
       "negative    0....</td>\n",
       "    </tr>\n",
       "    <tr>\n",
       "      <th>98</th>\n",
       "      <td>compound    0.945759\n",
       "positive    0.112612\n",
       "nega...</td>\n",
       "      <td>compound    0.0\n",
       "positive    0.0\n",
       "negative    0....</td>\n",
       "    </tr>\n",
       "    <tr>\n",
       "      <th>99</th>\n",
       "      <td>compound    0.659728\n",
       "positive    0.278351\n",
       "nega...</td>\n",
       "      <td>compound    0.0\n",
       "positive    0.0\n",
       "negative    0....</td>\n",
       "    </tr>\n",
       "  </tbody>\n",
       "</table>\n",
       "<p>100 rows × 2 columns</p>\n",
       "</div>"
      ],
      "text/plain": [
       "                                           reviewText  \\\n",
       "0   compound   -0.180808\n",
       "positive    0.140395\n",
       "nega...   \n",
       "1   compound    0.947132\n",
       "positive    0.387269\n",
       "nega...   \n",
       "2   compound    0.885161\n",
       "positive    0.237960\n",
       "nega...   \n",
       "3   compound    0.962457\n",
       "positive    0.313612\n",
       "nega...   \n",
       "4   compound    0.902009\n",
       "positive    0.356748\n",
       "nega...   \n",
       "..                                                ...   \n",
       "95  compound    0.245068\n",
       "positive    0.145292\n",
       "nega...   \n",
       "96  compound    0.898994\n",
       "positive    0.332406\n",
       "nega...   \n",
       "97  compound    0.411765\n",
       "positive    0.223114\n",
       "nega...   \n",
       "98  compound    0.945759\n",
       "positive    0.112612\n",
       "nega...   \n",
       "99  compound    0.659728\n",
       "positive    0.278351\n",
       "nega...   \n",
       "\n",
       "                                         reviewerName  \n",
       "0   compound    0.0\n",
       "positive    0.0\n",
       "negative    0....  \n",
       "1   compound    0.0\n",
       "positive    0.0\n",
       "negative    0....  \n",
       "2   compound    0.0\n",
       "positive    0.0\n",
       "negative    0....  \n",
       "3   compound    0.0\n",
       "positive    0.0\n",
       "negative    0....  \n",
       "4   compound    0.0\n",
       "positive    0.0\n",
       "negative    0....  \n",
       "..                                                ...  \n",
       "95  compound    0.0\n",
       "positive    0.0\n",
       "negative    0....  \n",
       "96  compound    0.0\n",
       "positive    0.0\n",
       "negative    0....  \n",
       "97  compound    0.0\n",
       "positive    0.0\n",
       "negative    0....  \n",
       "98  compound    0.0\n",
       "positive    0.0\n",
       "negative    0....  \n",
       "99  compound    0.0\n",
       "positive    0.0\n",
       "negative    0....  \n",
       "\n",
       "[100 rows x 2 columns]"
      ]
     },
     "execution_count": 20,
     "metadata": {},
     "output_type": "execute_result"
    }
   ],
   "source": [
    "out = ml.sentiment(df[['reviewText', 'reviewerName']])\n",
    "out"
   ]
  },
  {
   "cell_type": "markdown",
   "metadata": {},
   "source": [
    "Pulling out a single value, we see that each element contains a `Series` object."
   ]
  },
  {
   "cell_type": "code",
   "execution_count": null,
   "metadata": {},
   "outputs": [
    {
     "data": {
      "text/plain": [
       "pandas.core.series.Series"
      ]
     },
     "execution_count": 21,
     "metadata": {},
     "output_type": "execute_result"
    }
   ],
   "source": [
    "type(out['reviewText'].iloc[0])"
   ]
  },
  {
   "cell_type": "markdown",
   "metadata": {},
   "source": [
    "Using the strings from the original data set and the `pd.concat` function, we can join the sentiment scores with the original text values."
   ]
  },
  {
   "cell_type": "code",
   "execution_count": null,
   "metadata": {},
   "outputs": [
    {
     "data": {
      "text/html": [
       "<div>\n",
       "<style scoped>\n",
       "    .dataframe tbody tr th:only-of-type {\n",
       "        vertical-align: middle;\n",
       "    }\n",
       "\n",
       "    .dataframe tbody tr th {\n",
       "        vertical-align: top;\n",
       "    }\n",
       "\n",
       "    .dataframe thead th {\n",
       "        text-align: right;\n",
       "    }\n",
       "</style>\n",
       "<table border=\"1\" class=\"dataframe\">\n",
       "  <thead>\n",
       "    <tr style=\"text-align: right;\">\n",
       "      <th></th>\n",
       "      <th>reviewText</th>\n",
       "      <th>compound</th>\n",
       "      <th>positive</th>\n",
       "      <th>negative</th>\n",
       "      <th>neutral</th>\n",
       "    </tr>\n",
       "  </thead>\n",
       "  <tbody>\n",
       "    <tr>\n",
       "      <th>0</th>\n",
       "      <td>They look good and stick good! I just don't li...</td>\n",
       "      <td>-0.180808</td>\n",
       "      <td>0.140395</td>\n",
       "      <td>0.181836</td>\n",
       "      <td>0.677769</td>\n",
       "    </tr>\n",
       "    <tr>\n",
       "      <th>1</th>\n",
       "      <td>These stickers work like the review says they ...</td>\n",
       "      <td>0.947132</td>\n",
       "      <td>0.387269</td>\n",
       "      <td>0.000000</td>\n",
       "      <td>0.612731</td>\n",
       "    </tr>\n",
       "    <tr>\n",
       "      <th>2</th>\n",
       "      <td>These are awesome and make my phone look so st...</td>\n",
       "      <td>0.885161</td>\n",
       "      <td>0.237960</td>\n",
       "      <td>0.000000</td>\n",
       "      <td>0.762040</td>\n",
       "    </tr>\n",
       "    <tr>\n",
       "      <th>3</th>\n",
       "      <td>Item arrived in great time and was in perfect ...</td>\n",
       "      <td>0.962457</td>\n",
       "      <td>0.313612</td>\n",
       "      <td>0.000000</td>\n",
       "      <td>0.686388</td>\n",
       "    </tr>\n",
       "    <tr>\n",
       "      <th>4</th>\n",
       "      <td>awesome! stays on, and looks great. can be use...</td>\n",
       "      <td>0.902009</td>\n",
       "      <td>0.356748</td>\n",
       "      <td>0.000000</td>\n",
       "      <td>0.643252</td>\n",
       "    </tr>\n",
       "    <tr>\n",
       "      <th>...</th>\n",
       "      <td>...</td>\n",
       "      <td>...</td>\n",
       "      <td>...</td>\n",
       "      <td>...</td>\n",
       "      <td>...</td>\n",
       "    </tr>\n",
       "    <tr>\n",
       "      <th>95</th>\n",
       "      <td>It does what it needs to do, very pleased. I b...</td>\n",
       "      <td>0.245068</td>\n",
       "      <td>0.145292</td>\n",
       "      <td>0.104489</td>\n",
       "      <td>0.750219</td>\n",
       "    </tr>\n",
       "    <tr>\n",
       "      <th>96</th>\n",
       "      <td>Charger works great. Haven't had any issues wi...</td>\n",
       "      <td>0.898994</td>\n",
       "      <td>0.332406</td>\n",
       "      <td>0.000000</td>\n",
       "      <td>0.667594</td>\n",
       "    </tr>\n",
       "    <tr>\n",
       "      <th>97</th>\n",
       "      <td>It works great  thus  far no issues.  The only...</td>\n",
       "      <td>0.411765</td>\n",
       "      <td>0.223114</td>\n",
       "      <td>0.199037</td>\n",
       "      <td>0.577849</td>\n",
       "    </tr>\n",
       "    <tr>\n",
       "      <th>98</th>\n",
       "      <td>The big store that is in every town now (can't...</td>\n",
       "      <td>0.945759</td>\n",
       "      <td>0.112612</td>\n",
       "      <td>0.009455</td>\n",
       "      <td>0.877933</td>\n",
       "    </tr>\n",
       "    <tr>\n",
       "      <th>99</th>\n",
       "      <td>Good lengthEasy to useVery fast chargingI woul...</td>\n",
       "      <td>0.659728</td>\n",
       "      <td>0.278351</td>\n",
       "      <td>0.000000</td>\n",
       "      <td>0.721649</td>\n",
       "    </tr>\n",
       "  </tbody>\n",
       "</table>\n",
       "<p>100 rows × 5 columns</p>\n",
       "</div>"
      ],
      "text/plain": [
       "                                           reviewText  compound  positive  \\\n",
       "0   They look good and stick good! I just don't li... -0.180808  0.140395   \n",
       "1   These stickers work like the review says they ...  0.947132  0.387269   \n",
       "2   These are awesome and make my phone look so st...  0.885161  0.237960   \n",
       "3   Item arrived in great time and was in perfect ...  0.962457  0.313612   \n",
       "4   awesome! stays on, and looks great. can be use...  0.902009  0.356748   \n",
       "..                                                ...       ...       ...   \n",
       "95  It does what it needs to do, very pleased. I b...  0.245068  0.145292   \n",
       "96  Charger works great. Haven't had any issues wi...  0.898994  0.332406   \n",
       "97  It works great  thus  far no issues.  The only...  0.411765  0.223114   \n",
       "98  The big store that is in every town now (can't...  0.945759  0.112612   \n",
       "99  Good lengthEasy to useVery fast chargingI woul...  0.659728  0.278351   \n",
       "\n",
       "    negative   neutral  \n",
       "0   0.181836  0.677769  \n",
       "1   0.000000  0.612731  \n",
       "2   0.000000  0.762040  \n",
       "3   0.000000  0.686388  \n",
       "4   0.000000  0.643252  \n",
       "..       ...       ...  \n",
       "95  0.104489  0.750219  \n",
       "96  0.000000  0.667594  \n",
       "97  0.199037  0.577849  \n",
       "98  0.009455  0.877933  \n",
       "99  0.000000  0.721649  \n",
       "\n",
       "[100 rows x 5 columns]"
      ]
     },
     "execution_count": 22,
     "metadata": {},
     "output_type": "execute_result"
    }
   ],
   "source": [
    "pd.concat([df['reviewText'], pd.DataFrame(list(out['reviewText']))], axis=1)"
   ]
  },
  {
   "cell_type": "markdown",
   "metadata": {},
   "source": [
    "### Using the `sentiment` WASM function with Dask"
   ]
  },
  {
   "cell_type": "markdown",
   "metadata": {},
   "source": [
    "It is also possible to use the `sentiment` function in a distributed environment such as a Dask `DataFrame`. We will set up a cluster of workers on our local machine to demonstrate. Demonstrating a true distributed cluster with multiple machines is beyond the scope of this demo, however, as long as the same Python modules exist on all machines, the function will be able to run in all worker nodes."
   ]
  },
  {
   "cell_type": "code",
   "execution_count": null,
   "metadata": {},
   "outputs": [],
   "source": [
    "from dask.distributed import Client"
   ]
  },
  {
   "cell_type": "code",
   "execution_count": null,
   "metadata": {},
   "outputs": [
    {
     "name": "stderr",
     "output_type": "stream",
     "text": [
      "distributed.diskutils - INFO - Found stale lock file and directory '/workspaces/wasi-data-python/examples/dask-worker-space/worker-5pj58yiu', purging\n",
      "distributed.diskutils - INFO - Found stale lock file and directory '/workspaces/wasi-data-python/examples/dask-worker-space/worker-ixjvt27w', purging\n",
      "distributed.diskutils - INFO - Found stale lock file and directory '/workspaces/wasi-data-python/examples/dask-worker-space/worker-lz2_6zft', purging\n",
      "distributed.diskutils - INFO - Found stale lock file and directory '/workspaces/wasi-data-python/examples/dask-worker-space/worker-wbyiitia', purging\n"
     ]
    },
    {
     "data": {
      "text/html": [
       "<div class=\"jp-RenderedHTMLCommon jp-RenderedHTML jp-mod-trusted jp-OutputArea-output\">\n",
       "    <div style=\"width: 24px; height: 24px; background-color: #e1e1e1; border: 3px solid #9D9D9D; border-radius: 5px; position: absolute;\">\n",
       "    </div>\n",
       "    <div style=\"margin-left: 48px;\">\n",
       "        <h3 style=\"margin-bottom: 0px; margin-top: 0px;\">LocalCluster</h3>\n",
       "        <p style=\"color: #9D9D9D; margin-bottom: 0px;\">4f9fadd6</p>\n",
       "        <table style=\"width: 100%; text-align: left;\">\n",
       "            <tr>\n",
       "                <td style=\"text-align: left;\">\n",
       "                    <strong>Dashboard:</strong> <a href=\"http://127.0.0.1:8787/status\" target=\"_blank\">http://127.0.0.1:8787/status</a>\n",
       "                </td>\n",
       "                <td style=\"text-align: left;\">\n",
       "                    <strong>Workers:</strong> 4\n",
       "                </td>\n",
       "            </tr>\n",
       "            <tr>\n",
       "                <td style=\"text-align: left;\">\n",
       "                    <strong>Total threads:</strong> 4\n",
       "                </td>\n",
       "                <td style=\"text-align: left;\">\n",
       "                    <strong>Total memory:</strong> 1.94 GiB\n",
       "                </td>\n",
       "            </tr>\n",
       "            \n",
       "            <tr>\n",
       "    <td style=\"text-align: left;\"><strong>Status:</strong> running</td>\n",
       "    <td style=\"text-align: left;\"><strong>Using processes:</strong> True</td>\n",
       "</tr>\n",
       "\n",
       "            \n",
       "        </table>\n",
       "\n",
       "        <details>\n",
       "            <summary style=\"margin-bottom: 20px;\">\n",
       "                <h3 style=\"display: inline;\">Scheduler Info</h3>\n",
       "            </summary>\n",
       "\n",
       "            <div style=\"\">\n",
       "    <div>\n",
       "        <div style=\"width: 24px; height: 24px; background-color: #FFF7E5; border: 3px solid #FF6132; border-radius: 5px; position: absolute;\"> </div>\n",
       "        <div style=\"margin-left: 48px;\">\n",
       "            <h3 style=\"margin-bottom: 0px;\">Scheduler</h3>\n",
       "            <p style=\"color: #9D9D9D; margin-bottom: 0px;\">Scheduler-d93d19a9-f359-41f4-bd85-f21904890862</p>\n",
       "            <table style=\"width: 100%; text-align: left;\">\n",
       "                <tr>\n",
       "                    <td style=\"text-align: left;\">\n",
       "                        <strong>Comm:</strong> tcp://127.0.0.1:41679\n",
       "                    </td>\n",
       "                    <td style=\"text-align: left;\">\n",
       "                        <strong>Workers:</strong> 4\n",
       "                    </td>\n",
       "                </tr>\n",
       "                <tr>\n",
       "                    <td style=\"text-align: left;\">\n",
       "                        <strong>Dashboard:</strong> <a href=\"http://127.0.0.1:8787/status\" target=\"_blank\">http://127.0.0.1:8787/status</a>\n",
       "                    </td>\n",
       "                    <td style=\"text-align: left;\">\n",
       "                        <strong>Total threads:</strong> 4\n",
       "                    </td>\n",
       "                </tr>\n",
       "                <tr>\n",
       "                    <td style=\"text-align: left;\">\n",
       "                        <strong>Started:</strong> Just now\n",
       "                    </td>\n",
       "                    <td style=\"text-align: left;\">\n",
       "                        <strong>Total memory:</strong> 1.94 GiB\n",
       "                    </td>\n",
       "                </tr>\n",
       "            </table>\n",
       "        </div>\n",
       "    </div>\n",
       "\n",
       "    <details style=\"margin-left: 48px;\">\n",
       "        <summary style=\"margin-bottom: 20px;\">\n",
       "            <h3 style=\"display: inline;\">Workers</h3>\n",
       "        </summary>\n",
       "\n",
       "        \n",
       "        <div style=\"margin-bottom: 20px;\">\n",
       "            <div style=\"width: 24px; height: 24px; background-color: #DBF5FF; border: 3px solid #4CC9FF; border-radius: 5px; position: absolute;\"> </div>\n",
       "            <div style=\"margin-left: 48px;\">\n",
       "            <details>\n",
       "                <summary>\n",
       "                    <h4 style=\"margin-bottom: 0px; display: inline;\">Worker: 0</h4>\n",
       "                </summary>\n",
       "                <table style=\"width: 100%; text-align: left;\">\n",
       "                    <tr>\n",
       "                        <td style=\"text-align: left;\">\n",
       "                            <strong>Comm: </strong> tcp://172.17.0.2:39133\n",
       "                        </td>\n",
       "                        <td style=\"text-align: left;\">\n",
       "                            <strong>Total threads: </strong> 1\n",
       "                        </td>\n",
       "                    </tr>\n",
       "                    <tr>\n",
       "                        <td style=\"text-align: left;\">\n",
       "                            <strong>Dashboard: </strong> <a href=\"http://172.17.0.2:40885/status\" target=\"_blank\">http://172.17.0.2:40885/status</a>\n",
       "                        </td>\n",
       "                        <td style=\"text-align: left;\">\n",
       "                            <strong>Memory: </strong> 497.20 MiB\n",
       "                        </td>\n",
       "                    </tr>\n",
       "                    <tr>\n",
       "                        <td style=\"text-align: left;\">\n",
       "                            <strong>Nanny: </strong> tcp://127.0.0.1:39105\n",
       "                        </td>\n",
       "                        <td style=\"text-align: left;\"></td>\n",
       "                    </tr>\n",
       "                    <tr>\n",
       "                        <td colspan=\"2\" style=\"text-align: left;\">\n",
       "                            <strong>Local directory: </strong> /workspaces/wasi-data-python/examples/dask-worker-space/worker-5_2z5odm\n",
       "                        </td>\n",
       "                    </tr>\n",
       "\n",
       "                    \n",
       "\n",
       "                    \n",
       "\n",
       "                </table>\n",
       "            </details>\n",
       "            </div>\n",
       "        </div>\n",
       "        \n",
       "        <div style=\"margin-bottom: 20px;\">\n",
       "            <div style=\"width: 24px; height: 24px; background-color: #DBF5FF; border: 3px solid #4CC9FF; border-radius: 5px; position: absolute;\"> </div>\n",
       "            <div style=\"margin-left: 48px;\">\n",
       "            <details>\n",
       "                <summary>\n",
       "                    <h4 style=\"margin-bottom: 0px; display: inline;\">Worker: 1</h4>\n",
       "                </summary>\n",
       "                <table style=\"width: 100%; text-align: left;\">\n",
       "                    <tr>\n",
       "                        <td style=\"text-align: left;\">\n",
       "                            <strong>Comm: </strong> tcp://172.17.0.2:36277\n",
       "                        </td>\n",
       "                        <td style=\"text-align: left;\">\n",
       "                            <strong>Total threads: </strong> 1\n",
       "                        </td>\n",
       "                    </tr>\n",
       "                    <tr>\n",
       "                        <td style=\"text-align: left;\">\n",
       "                            <strong>Dashboard: </strong> <a href=\"http://172.17.0.2:42455/status\" target=\"_blank\">http://172.17.0.2:42455/status</a>\n",
       "                        </td>\n",
       "                        <td style=\"text-align: left;\">\n",
       "                            <strong>Memory: </strong> 497.20 MiB\n",
       "                        </td>\n",
       "                    </tr>\n",
       "                    <tr>\n",
       "                        <td style=\"text-align: left;\">\n",
       "                            <strong>Nanny: </strong> tcp://127.0.0.1:44197\n",
       "                        </td>\n",
       "                        <td style=\"text-align: left;\"></td>\n",
       "                    </tr>\n",
       "                    <tr>\n",
       "                        <td colspan=\"2\" style=\"text-align: left;\">\n",
       "                            <strong>Local directory: </strong> /workspaces/wasi-data-python/examples/dask-worker-space/worker-j_il6rxs\n",
       "                        </td>\n",
       "                    </tr>\n",
       "\n",
       "                    \n",
       "\n",
       "                    \n",
       "\n",
       "                </table>\n",
       "            </details>\n",
       "            </div>\n",
       "        </div>\n",
       "        \n",
       "        <div style=\"margin-bottom: 20px;\">\n",
       "            <div style=\"width: 24px; height: 24px; background-color: #DBF5FF; border: 3px solid #4CC9FF; border-radius: 5px; position: absolute;\"> </div>\n",
       "            <div style=\"margin-left: 48px;\">\n",
       "            <details>\n",
       "                <summary>\n",
       "                    <h4 style=\"margin-bottom: 0px; display: inline;\">Worker: 2</h4>\n",
       "                </summary>\n",
       "                <table style=\"width: 100%; text-align: left;\">\n",
       "                    <tr>\n",
       "                        <td style=\"text-align: left;\">\n",
       "                            <strong>Comm: </strong> tcp://172.17.0.2:37837\n",
       "                        </td>\n",
       "                        <td style=\"text-align: left;\">\n",
       "                            <strong>Total threads: </strong> 1\n",
       "                        </td>\n",
       "                    </tr>\n",
       "                    <tr>\n",
       "                        <td style=\"text-align: left;\">\n",
       "                            <strong>Dashboard: </strong> <a href=\"http://172.17.0.2:43993/status\" target=\"_blank\">http://172.17.0.2:43993/status</a>\n",
       "                        </td>\n",
       "                        <td style=\"text-align: left;\">\n",
       "                            <strong>Memory: </strong> 497.20 MiB\n",
       "                        </td>\n",
       "                    </tr>\n",
       "                    <tr>\n",
       "                        <td style=\"text-align: left;\">\n",
       "                            <strong>Nanny: </strong> tcp://127.0.0.1:38713\n",
       "                        </td>\n",
       "                        <td style=\"text-align: left;\"></td>\n",
       "                    </tr>\n",
       "                    <tr>\n",
       "                        <td colspan=\"2\" style=\"text-align: left;\">\n",
       "                            <strong>Local directory: </strong> /workspaces/wasi-data-python/examples/dask-worker-space/worker-9b9u4koq\n",
       "                        </td>\n",
       "                    </tr>\n",
       "\n",
       "                    \n",
       "\n",
       "                    \n",
       "\n",
       "                </table>\n",
       "            </details>\n",
       "            </div>\n",
       "        </div>\n",
       "        \n",
       "        <div style=\"margin-bottom: 20px;\">\n",
       "            <div style=\"width: 24px; height: 24px; background-color: #DBF5FF; border: 3px solid #4CC9FF; border-radius: 5px; position: absolute;\"> </div>\n",
       "            <div style=\"margin-left: 48px;\">\n",
       "            <details>\n",
       "                <summary>\n",
       "                    <h4 style=\"margin-bottom: 0px; display: inline;\">Worker: 3</h4>\n",
       "                </summary>\n",
       "                <table style=\"width: 100%; text-align: left;\">\n",
       "                    <tr>\n",
       "                        <td style=\"text-align: left;\">\n",
       "                            <strong>Comm: </strong> tcp://172.17.0.2:39757\n",
       "                        </td>\n",
       "                        <td style=\"text-align: left;\">\n",
       "                            <strong>Total threads: </strong> 1\n",
       "                        </td>\n",
       "                    </tr>\n",
       "                    <tr>\n",
       "                        <td style=\"text-align: left;\">\n",
       "                            <strong>Dashboard: </strong> <a href=\"http://172.17.0.2:43507/status\" target=\"_blank\">http://172.17.0.2:43507/status</a>\n",
       "                        </td>\n",
       "                        <td style=\"text-align: left;\">\n",
       "                            <strong>Memory: </strong> 497.20 MiB\n",
       "                        </td>\n",
       "                    </tr>\n",
       "                    <tr>\n",
       "                        <td style=\"text-align: left;\">\n",
       "                            <strong>Nanny: </strong> tcp://127.0.0.1:37753\n",
       "                        </td>\n",
       "                        <td style=\"text-align: left;\"></td>\n",
       "                    </tr>\n",
       "                    <tr>\n",
       "                        <td colspan=\"2\" style=\"text-align: left;\">\n",
       "                            <strong>Local directory: </strong> /workspaces/wasi-data-python/examples/dask-worker-space/worker-648d5410\n",
       "                        </td>\n",
       "                    </tr>\n",
       "\n",
       "                    \n",
       "\n",
       "                    \n",
       "\n",
       "                </table>\n",
       "            </details>\n",
       "            </div>\n",
       "        </div>\n",
       "        \n",
       "\n",
       "    </details>\n",
       "</div>\n",
       "\n",
       "        </details>\n",
       "    </div>\n",
       "</div>"
      ],
      "text/plain": [
       "LocalCluster(4f9fadd6, 'tcp://127.0.0.1:41679', workers=4, threads=4, memory=1.94 GiB)"
      ]
     },
     "metadata": {},
     "output_type": "display_data"
    }
   ],
   "source": [
    "client = Client()\n",
    "client.cluster"
   ]
  },
  {
   "cell_type": "markdown",
   "metadata": {},
   "source": [
    "We'll use the same data set as above and simply partition it using Dask."
   ]
  },
  {
   "cell_type": "code",
   "execution_count": null,
   "metadata": {},
   "outputs": [
    {
     "data": {
      "text/html": [
       "<div><strong>Dask DataFrame Structure:</strong></div>\n",
       "<div>\n",
       "<style scoped>\n",
       "    .dataframe tbody tr th:only-of-type {\n",
       "        vertical-align: middle;\n",
       "    }\n",
       "\n",
       "    .dataframe tbody tr th {\n",
       "        vertical-align: top;\n",
       "    }\n",
       "\n",
       "    .dataframe thead th {\n",
       "        text-align: right;\n",
       "    }\n",
       "</style>\n",
       "<table border=\"1\" class=\"dataframe\">\n",
       "  <thead>\n",
       "    <tr style=\"text-align: right;\">\n",
       "      <th></th>\n",
       "      <th>reviewerID</th>\n",
       "      <th>asin</th>\n",
       "      <th>reviewerName</th>\n",
       "      <th>helpful</th>\n",
       "      <th>reviewText</th>\n",
       "      <th>overall</th>\n",
       "      <th>summary</th>\n",
       "      <th>unixReviewTime</th>\n",
       "      <th>reviewTime</th>\n",
       "    </tr>\n",
       "    <tr>\n",
       "      <th>npartitions=3</th>\n",
       "      <th></th>\n",
       "      <th></th>\n",
       "      <th></th>\n",
       "      <th></th>\n",
       "      <th></th>\n",
       "      <th></th>\n",
       "      <th></th>\n",
       "      <th></th>\n",
       "      <th></th>\n",
       "    </tr>\n",
       "  </thead>\n",
       "  <tbody>\n",
       "    <tr>\n",
       "      <th></th>\n",
       "      <td>object</td>\n",
       "      <td>object</td>\n",
       "      <td>object</td>\n",
       "      <td>object</td>\n",
       "      <td>object</td>\n",
       "      <td>object</td>\n",
       "      <td>object</td>\n",
       "      <td>object</td>\n",
       "      <td>object</td>\n",
       "    </tr>\n",
       "    <tr>\n",
       "      <th></th>\n",
       "      <td>...</td>\n",
       "      <td>...</td>\n",
       "      <td>...</td>\n",
       "      <td>...</td>\n",
       "      <td>...</td>\n",
       "      <td>...</td>\n",
       "      <td>...</td>\n",
       "      <td>...</td>\n",
       "      <td>...</td>\n",
       "    </tr>\n",
       "    <tr>\n",
       "      <th></th>\n",
       "      <td>...</td>\n",
       "      <td>...</td>\n",
       "      <td>...</td>\n",
       "      <td>...</td>\n",
       "      <td>...</td>\n",
       "      <td>...</td>\n",
       "      <td>...</td>\n",
       "      <td>...</td>\n",
       "      <td>...</td>\n",
       "    </tr>\n",
       "    <tr>\n",
       "      <th></th>\n",
       "      <td>...</td>\n",
       "      <td>...</td>\n",
       "      <td>...</td>\n",
       "      <td>...</td>\n",
       "      <td>...</td>\n",
       "      <td>...</td>\n",
       "      <td>...</td>\n",
       "      <td>...</td>\n",
       "      <td>...</td>\n",
       "    </tr>\n",
       "  </tbody>\n",
       "</table>\n",
       "</div>\n",
       "<div>Dask Name: repartition, 5 tasks</div>"
      ],
      "text/plain": [
       "Dask DataFrame Structure:\n",
       "              reviewerID    asin reviewerName helpful reviewText overall summary unixReviewTime reviewTime\n",
       "npartitions=3                                                                                             \n",
       "                  object  object       object  object     object  object  object         object     object\n",
       "                     ...     ...          ...     ...        ...     ...     ...            ...        ...\n",
       "                     ...     ...          ...     ...        ...     ...     ...            ...        ...\n",
       "                     ...     ...          ...     ...        ...     ...     ...            ...        ...\n",
       "Dask Name: repartition, 5 tasks"
      ]
     },
     "execution_count": 27,
     "metadata": {},
     "output_type": "execute_result"
    }
   ],
   "source": [
    "import dask.dataframe as dd\n",
    "\n",
    "# Read data set\n",
    "daskdf = dd.read_csv('data/phones.csv', dtype='object')\n",
    "\n",
    "# Make sure we have multiple partitions.\n",
    "daskdf = daskdf.repartition(3)\n",
    "\n",
    "daskdf"
   ]
  },
  {
   "cell_type": "markdown",
   "metadata": {},
   "source": [
    "We can now applly the `sentiment` function to a Dask `Series` as well. Note that Dask reccomends supplying the explicit output data types for a function. Otherwise, it will have to run the function on a set of sample data to determine the data types. The `sentiment` function has a `ret_meta` attribute that supplies that information."
   ]
  },
  {
   "cell_type": "code",
   "execution_count": null,
   "metadata": {},
   "outputs": [
    {
     "data": {
      "text/plain": [
       "9999"
      ]
     },
     "execution_count": 28,
     "metadata": {},
     "output_type": "execute_result"
    }
   ],
   "source": [
    "len(daskdf)"
   ]
  },
  {
   "cell_type": "markdown",
   "metadata": {},
   "source": [
    "Apply the `sentiment` function to the `reviewText` column of the Dask `DataFrame`. The function will be pickled and sent to each of the workers to be unpickled and initialized in a fresh WASM instance on that worker node. Until we call `.compute()` on the result, the operation is simply added to a graph of operations.\n",
    "\n",
    "Note that the Dask `DataFrame.apply` method takes a `meta=` field. If this is not supplied, Dask will attempt to run the function with sample data to guess the output type. Using the `meta=` parameter allows you to skip that step and tell Dask explicitly what the output type is. Each WASM function supplies the return type metadata in the `ret_meta` attribute."
   ]
  },
  {
   "cell_type": "code",
   "execution_count": null,
   "metadata": {},
   "outputs": [
    {
     "data": {
      "image/png": "[encoded data removed]",
      "text/plain": [
       "<IPython.core.display.Image object>"
      ]
     },
     "execution_count": 29,
     "metadata": {},
     "output_type": "execute_result"
    }
   ],
   "source": [
    "out = daskdf['reviewText'].apply(ml.sentiment, meta=ml.sentiment.ret_meta)\n",
    "out.visualize()"
   ]
  },
  {
   "cell_type": "markdown",
   "metadata": {},
   "source": [
    "Execute all pending operations, including running the `sentiment` function."
   ]
  },
  {
   "cell_type": "code",
   "execution_count": null,
   "metadata": {},
   "outputs": [
    {
     "name": "stdout",
     "output_type": "stream",
     "text": [
      "CPU times: user 336 ms, sys: 152 ms, total: 488 ms\n",
      "Wall time: 7.55 s\n"
     ]
    },
    {
     "data": {
      "text/html": [
       "<div>\n",
       "<style scoped>\n",
       "    .dataframe tbody tr th:only-of-type {\n",
       "        vertical-align: middle;\n",
       "    }\n",
       "\n",
       "    .dataframe tbody tr th {\n",
       "        vertical-align: top;\n",
       "    }\n",
       "\n",
       "    .dataframe thead th {\n",
       "        text-align: right;\n",
       "    }\n",
       "</style>\n",
       "<table border=\"1\" class=\"dataframe\">\n",
       "  <thead>\n",
       "    <tr style=\"text-align: right;\">\n",
       "      <th></th>\n",
       "      <th>compound</th>\n",
       "      <th>positive</th>\n",
       "      <th>negative</th>\n",
       "      <th>neutral</th>\n",
       "    </tr>\n",
       "  </thead>\n",
       "  <tbody>\n",
       "    <tr>\n",
       "      <th>0</th>\n",
       "      <td>-0.180808</td>\n",
       "      <td>0.140395</td>\n",
       "      <td>0.181836</td>\n",
       "      <td>0.677769</td>\n",
       "    </tr>\n",
       "    <tr>\n",
       "      <th>1</th>\n",
       "      <td>0.947132</td>\n",
       "      <td>0.387269</td>\n",
       "      <td>0.000000</td>\n",
       "      <td>0.612731</td>\n",
       "    </tr>\n",
       "    <tr>\n",
       "      <th>2</th>\n",
       "      <td>0.885161</td>\n",
       "      <td>0.237960</td>\n",
       "      <td>0.000000</td>\n",
       "      <td>0.762040</td>\n",
       "    </tr>\n",
       "    <tr>\n",
       "      <th>3</th>\n",
       "      <td>0.962457</td>\n",
       "      <td>0.313612</td>\n",
       "      <td>0.000000</td>\n",
       "      <td>0.686388</td>\n",
       "    </tr>\n",
       "    <tr>\n",
       "      <th>4</th>\n",
       "      <td>0.902009</td>\n",
       "      <td>0.356748</td>\n",
       "      <td>0.000000</td>\n",
       "      <td>0.643252</td>\n",
       "    </tr>\n",
       "    <tr>\n",
       "      <th>...</th>\n",
       "      <td>...</td>\n",
       "      <td>...</td>\n",
       "      <td>...</td>\n",
       "      <td>...</td>\n",
       "    </tr>\n",
       "    <tr>\n",
       "      <th>9994</th>\n",
       "      <td>0.970301</td>\n",
       "      <td>0.106962</td>\n",
       "      <td>0.034075</td>\n",
       "      <td>0.858963</td>\n",
       "    </tr>\n",
       "    <tr>\n",
       "      <th>9995</th>\n",
       "      <td>0.957716</td>\n",
       "      <td>0.187080</td>\n",
       "      <td>0.061388</td>\n",
       "      <td>0.751533</td>\n",
       "    </tr>\n",
       "    <tr>\n",
       "      <th>9996</th>\n",
       "      <td>0.101208</td>\n",
       "      <td>0.200230</td>\n",
       "      <td>0.184057</td>\n",
       "      <td>0.615713</td>\n",
       "    </tr>\n",
       "    <tr>\n",
       "      <th>9997</th>\n",
       "      <td>0.992833</td>\n",
       "      <td>0.166485</td>\n",
       "      <td>0.043013</td>\n",
       "      <td>0.790502</td>\n",
       "    </tr>\n",
       "    <tr>\n",
       "      <th>9998</th>\n",
       "      <td>0.364782</td>\n",
       "      <td>0.032283</td>\n",
       "      <td>0.017285</td>\n",
       "      <td>0.950432</td>\n",
       "    </tr>\n",
       "  </tbody>\n",
       "</table>\n",
       "<p>9999 rows × 4 columns</p>\n",
       "</div>"
      ],
      "text/plain": [
       "      compound  positive  negative   neutral\n",
       "0    -0.180808  0.140395  0.181836  0.677769\n",
       "1     0.947132  0.387269  0.000000  0.612731\n",
       "2     0.885161  0.237960  0.000000  0.762040\n",
       "3     0.962457  0.313612  0.000000  0.686388\n",
       "4     0.902009  0.356748  0.000000  0.643252\n",
       "...        ...       ...       ...       ...\n",
       "9994  0.970301  0.106962  0.034075  0.858963\n",
       "9995  0.957716  0.187080  0.061388  0.751533\n",
       "9996  0.101208  0.200230  0.184057  0.615713\n",
       "9997  0.992833  0.166485  0.043013  0.790502\n",
       "9998  0.364782  0.032283  0.017285  0.950432\n",
       "\n",
       "[9999 rows x 4 columns]"
      ]
     },
     "execution_count": 30,
     "metadata": {},
     "output_type": "execute_result"
    }
   ],
   "source": [
    "%time out.compute()"
   ]
  },
  {
   "cell_type": "markdown",
   "metadata": {},
   "source": [
    "Shut the Dask cluster down."
   ]
  },
  {
   "cell_type": "code",
   "execution_count": null,
   "metadata": {},
   "outputs": [],
   "source": [
    "client.close()"
   ]
  },
  {
   "cell_type": "markdown",
   "metadata": {},
   "source": [
    "## Citations for data set"
   ]
  },
  {
   "cell_type": "markdown",
   "metadata": {},
   "source": [
    "**Ups and downs: Modeling the visual evolution of fashion trends with one-class collaborative filtering**\n",
    "\n",
    "R. He, J. McAuley\n",
    "\n",
    "WWW, 2016\n",
    "\n",
    "**Image-based recommendations on styles and substitutes**\n",
    "\n",
    "J. McAuley, C. Targett, J. Shi, A. van den Hengel\n",
    "\n",
    "SIGIR, 2015"
   ]
  },
  {
   "cell_type": "code",
   "execution_count": null,
   "metadata": {},
   "outputs": [],
   "source": []
  }
 ],
 "metadata": {
  "interpreter": {
   "hash": "949777d72b0d2535278d3dc13498b2535136f6dfe0678499012e853ee9abcab1"
  },
  "kernelspec": {
   "display_name": "Python 3.9.7 64-bit",
   "name": "python3"
  },
  "language_info": {
   "codemirror_mode": {
    "name": "ipython",
    "version": 3
   },
   "file_extension": ".py",
   "mimetype": "text/x-python",
   "name": "python",
   "nbconvert_exporter": "python",
   "pygments_lexer": "ipython3",
   "version": "3.9.7"
  }
 },
 "nbformat": 4,
 "nbformat_minor": 5
}
