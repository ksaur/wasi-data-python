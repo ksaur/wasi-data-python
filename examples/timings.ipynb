{
 "cells": [
  {
   "cell_type": "markdown",
   "id": "3909cf85",
   "metadata": {},
   "source": [
    "# Creating WASM ufuncs for `DataFrames` with `witxcraft` "
   ]
  },
  {
   "cell_type": "markdown",
   "id": "b4d049cc",
   "metadata": {},
   "source": [
    "Import the `fromwasmmod` function from the  `witxcraft.ufunc` module. This function will read a WASM module and wrap the functions in it for use with `DataFrame/Series.apply` methods. "
   ]
  },
  {
   "cell_type": "code",
   "execution_count": 1,
   "id": "c6953f87",
   "metadata": {},
   "outputs": [],
   "source": [
    "import witxcraft as wc"
   ]
  },
  {
   "cell_type": "markdown",
   "id": "688c40c2",
   "metadata": {},
   "source": [
    "The `fromwasmmod` function takes a filename or URL to a WASM module, or the raw contents of a WASM module. Either compiled WASM or WATX maybe used."
   ]
  },
  {
   "cell_type": "code",
   "execution_count": 2,
   "id": "013f560c",
   "metadata": {},
   "outputs": [],
   "source": [
    "funcs = wc.fromwasmmod('df.wasm')"
   ]
  },
  {
   "cell_type": "markdown",
   "id": "b4821558",
   "metadata": {},
   "source": [
    "Using `dir` we can see the WASM functions that are available."
   ]
  },
  {
   "cell_type": "code",
   "execution_count": 3,
   "id": "3cde874a",
   "metadata": {},
   "outputs": [
    {
     "data": {
      "text/plain": [
       "['mult', 'mult_vec', 'square', 'square_vec']"
      ]
     },
     "execution_count": 3,
     "metadata": {},
     "output_type": "execute_result"
    }
   ],
   "source": [
    "[x for x in dir(funcs) if not x.startswith('_')]"
   ]
  },
  {
   "cell_type": "markdown",
   "id": "c8a4dfb1",
   "metadata": {},
   "source": [
    "## Using WASM functions with pandas"
   ]
  },
  {
   "cell_type": "markdown",
   "id": "550c4046",
   "metadata": {},
   "source": [
    "To demonstrate WASM functions on `pandas` objects, we'll first load some data into a `DataFrame`."
   ]
  },
  {
   "cell_type": "code",
   "execution_count": 4,
   "id": "1d30701d",
   "metadata": {},
   "outputs": [],
   "source": [
    "import pandas as pd\n",
    "import numpy as np"
   ]
  },
  {
   "cell_type": "markdown",
   "id": "65a79ed6",
   "metadata": {},
   "source": [
    "Generate some numeric data to work with."
   ]
  },
  {
   "cell_type": "code",
   "execution_count": 5,
   "id": "9868770f",
   "metadata": {},
   "outputs": [
    {
     "data": {
      "text/html": [
       "<div>\n",
       "<style scoped>\n",
       "    .dataframe tbody tr th:only-of-type {\n",
       "        vertical-align: middle;\n",
       "    }\n",
       "\n",
       "    .dataframe tbody tr th {\n",
       "        vertical-align: top;\n",
       "    }\n",
       "\n",
       "    .dataframe thead th {\n",
       "        text-align: right;\n",
       "    }\n",
       "</style>\n",
       "<table border=\"1\" class=\"dataframe\">\n",
       "  <thead>\n",
       "    <tr style=\"text-align: right;\">\n",
       "      <th></th>\n",
       "      <th>X</th>\n",
       "      <th>Y</th>\n",
       "      <th>Z</th>\n",
       "    </tr>\n",
       "  </thead>\n",
       "  <tbody>\n",
       "    <tr>\n",
       "      <th>0</th>\n",
       "      <td>12</td>\n",
       "      <td>43</td>\n",
       "      <td>43</td>\n",
       "    </tr>\n",
       "    <tr>\n",
       "      <th>1</th>\n",
       "      <td>29</td>\n",
       "      <td>44</td>\n",
       "      <td>42</td>\n",
       "    </tr>\n",
       "    <tr>\n",
       "      <th>2</th>\n",
       "      <td>30</td>\n",
       "      <td>30</td>\n",
       "      <td>6</td>\n",
       "    </tr>\n",
       "    <tr>\n",
       "      <th>3</th>\n",
       "      <td>31</td>\n",
       "      <td>3</td>\n",
       "      <td>2</td>\n",
       "    </tr>\n",
       "    <tr>\n",
       "      <th>4</th>\n",
       "      <td>17</td>\n",
       "      <td>21</td>\n",
       "      <td>2</td>\n",
       "    </tr>\n",
       "    <tr>\n",
       "      <th>...</th>\n",
       "      <td>...</td>\n",
       "      <td>...</td>\n",
       "      <td>...</td>\n",
       "    </tr>\n",
       "    <tr>\n",
       "      <th>99995</th>\n",
       "      <td>12</td>\n",
       "      <td>44</td>\n",
       "      <td>29</td>\n",
       "    </tr>\n",
       "    <tr>\n",
       "      <th>99996</th>\n",
       "      <td>9</td>\n",
       "      <td>13</td>\n",
       "      <td>38</td>\n",
       "    </tr>\n",
       "    <tr>\n",
       "      <th>99997</th>\n",
       "      <td>31</td>\n",
       "      <td>33</td>\n",
       "      <td>37</td>\n",
       "    </tr>\n",
       "    <tr>\n",
       "      <th>99998</th>\n",
       "      <td>27</td>\n",
       "      <td>37</td>\n",
       "      <td>31</td>\n",
       "    </tr>\n",
       "    <tr>\n",
       "      <th>99999</th>\n",
       "      <td>7</td>\n",
       "      <td>22</td>\n",
       "      <td>9</td>\n",
       "    </tr>\n",
       "  </tbody>\n",
       "</table>\n",
       "<p>100000 rows × 3 columns</p>\n",
       "</div>"
      ],
      "text/plain": [
       "        X   Y   Z\n",
       "0      12  43  43\n",
       "1      29  44  42\n",
       "2      30  30   6\n",
       "3      31   3   2\n",
       "4      17  21   2\n",
       "...    ..  ..  ..\n",
       "99995  12  44  29\n",
       "99996   9  13  38\n",
       "99997  31  33  37\n",
       "99998  27  37  31\n",
       "99999   7  22   9\n",
       "\n",
       "[100000 rows x 3 columns]"
      ]
     },
     "execution_count": 5,
     "metadata": {},
     "output_type": "execute_result"
    }
   ],
   "source": [
    "data_len = 100000\n",
    "df = pd.DataFrame(dict(X=np.random.randint(0, 50, size=data_len),\n",
    "                       Y=np.random.randint(0, 50, size=data_len),\n",
    "                       Z=np.random.randint(0, 50, size=data_len)))\n",
    "df"
   ]
  },
  {
   "cell_type": "markdown",
   "id": "c8ab0f0e",
   "metadata": {},
   "source": [
    "### Simple example of a WASM function with scalar input and output"
   ]
  },
  {
   "cell_type": "markdown",
   "id": "508d560e",
   "metadata": {},
   "source": [
    "Provided Wasm"
   ]
  },
  {
   "cell_type": "code",
   "execution_count": 51,
   "id": "83eabd3d",
   "metadata": {},
   "outputs": [
    {
     "name": "stdout",
     "output_type": "stream",
     "text": [
      "Square 100\n",
      "\n",
      "Mult 50\n",
      "\n",
      "SquareVect\n",
      "0     25\n",
      "1    100\n",
      "dtype: int64\n",
      "type<class 'pandas.core.series.Series'>\n",
      "\n",
      "MultVect\n",
      "0    10\n",
      "1    30\n",
      "dtype: int64\n",
      "type<class 'pandas.core.series.Series'>\n",
      "\n"
     ]
    }
   ],
   "source": [
    "print(\"Square {}\\n\".format(funcs.square(10)))\n",
    "\n",
    "print(\"Mult {}\\n\".format(funcs.mult(10, 5)))\n",
    "\n",
    "sqv = funcs.square_vec([5, 10])\n",
    "print(\"SquareVect\\n{}\\ntype{}\\n\".format(sqv, type(sqv)))\n",
    "\n",
    "mv = funcs.mult_vec([5, 10], [2, 3])\n",
    "print(\"MultVect\\n{}\\ntype{}\\n\".format(mv, type(mv)))"
   ]
  },
  {
   "cell_type": "markdown",
   "id": "36687604-6973-401d-abe7-ba0c3b39de96",
   "metadata": {},
   "source": [
    "### Those same functions in Native Python"
   ]
  },
  {
   "cell_type": "code",
   "execution_count": 53,
   "id": "38eda05d-cad0-44ee-ade8-8d534237c34e",
   "metadata": {},
   "outputs": [],
   "source": [
    "class PyFuncs:\n",
    "    import pandas as pd\n",
    "    \n",
    "    def mult(self, a, b):\n",
    "        return a * b\n",
    "    \n",
    "    def square(self, a):\n",
    "        return a ** 2\n",
    "    \n",
    "    def square_vec(self, arr):\n",
    "        return pd.Series([x ** 2  for x in arr]).astype('int64')\n",
    "    \n",
    "    def mult_vec(self, arr1, arr2):\n",
    "        return pd.Series([a*b for a,b in zip(arr1,arr2)]).astype('int64')"
   ]
  },
  {
   "cell_type": "code",
   "execution_count": 54,
   "id": "6bc2a1e8-c75b-4f36-90d5-6594aef6d635",
   "metadata": {},
   "outputs": [
    {
     "name": "stdout",
     "output_type": "stream",
     "text": [
      "Square 100\n",
      "\n",
      "Mult 50\n",
      "\n",
      "SquareVect\n",
      "0     25\n",
      "1    100\n",
      "dtype: int64\n",
      "type<class 'pandas.core.series.Series'>\n",
      "\n",
      "MultVect\n",
      "0    10\n",
      "1    30\n",
      "dtype: int64\n",
      "type<class 'pandas.core.series.Series'>\n",
      "\n"
     ]
    }
   ],
   "source": [
    "# Printing these to make sure they match the above.\n",
    "pyfuncs = PyFuncs()  \n",
    "\n",
    "print(\"Square {}\\n\".format(pyfuncs.square(10)))\n",
    "\n",
    "print(\"Mult {}\\n\".format(pyfuncs.mult(10, 5)))\n",
    "\n",
    "sqv = pyfuncs.square_vec([5, 10])\n",
    "print(\"SquareVect\\n{}\\ntype{}\\n\".format(sqv, type(sqv)))\n",
    "\n",
    "mv = pyfuncs.mult_vec([5, 10], [2, 3])\n",
    "print(\"MultVect\\n{}\\ntype{}\\n\".format(mv, type(mv)))"
   ]
  },
  {
   "cell_type": "markdown",
   "id": "6c6587f5",
   "metadata": {},
   "source": [
    "### Using the WASM functions with pandas data"
   ]
  },
  {
   "cell_type": "markdown",
   "id": "5b51a11e",
   "metadata": {},
   "source": [
    "This function can be applied to a `pandas.Series` using the `apply` method as follows."
   ]
  },
  {
   "cell_type": "markdown",
   "id": "e9401397-faad-4e2f-8bc6-29846d7ff75d",
   "metadata": {},
   "source": [
    "#### <font color='green'>First with C->Wasm </font> "
   ]
  },
  {
   "cell_type": "code",
   "execution_count": 9,
   "id": "25eae9cb",
   "metadata": {},
   "outputs": [
    {
     "name": "stdout",
     "output_type": "stream",
     "text": [
      "CPU times: user 4.77 s, sys: 0 ns, total: 4.77 s\n",
      "Wall time: 4.77 s\n"
     ]
    },
    {
     "data": {
      "text/plain": [
       "0        120\n",
       "1        290\n",
       "2        300\n",
       "3        310\n",
       "4        170\n",
       "        ... \n",
       "99995    120\n",
       "99996     90\n",
       "99997    310\n",
       "99998    270\n",
       "99999     70\n",
       "Name: X, Length: 100000, dtype: int64"
      ]
     },
     "execution_count": 9,
     "metadata": {},
     "output_type": "execute_result"
    }
   ],
   "source": [
    "%time df.X.apply(funcs.mult, args=[10])"
   ]
  },
  {
   "cell_type": "markdown",
   "id": "e28f8943-3272-41c9-8df3-b717bfee1a05",
   "metadata": {},
   "source": [
    "#### <font color='magenta'>Now with Native Python </font> "
   ]
  },
  {
   "cell_type": "code",
   "execution_count": 10,
   "id": "837edf95-5e65-40f8-80b3-b97e15f8bce8",
   "metadata": {},
   "outputs": [
    {
     "name": "stdout",
     "output_type": "stream",
     "text": [
      "CPU times: user 51.4 ms, sys: 1.27 ms, total: 52.7 ms\n",
      "Wall time: 51.5 ms\n"
     ]
    },
    {
     "data": {
      "text/plain": [
       "0        120\n",
       "1        290\n",
       "2        300\n",
       "3        310\n",
       "4        170\n",
       "        ... \n",
       "99995    120\n",
       "99996     90\n",
       "99997    310\n",
       "99998    270\n",
       "99999     70\n",
       "Name: X, Length: 100000, dtype: int64"
      ]
     },
     "execution_count": 10,
     "metadata": {},
     "output_type": "execute_result"
    }
   ],
   "source": [
    "%time df.X.apply(pyfuncs.mult, args=[10])"
   ]
  },
  {
   "cell_type": "markdown",
   "id": "eb019b00-0bff-40e8-998b-1dcc35bd8492",
   "metadata": {},
   "source": [
    "#### Make sure this isn't nonsense"
   ]
  },
  {
   "cell_type": "code",
   "execution_count": 58,
   "id": "6cd04333-3cf5-42ae-be63-82e418f970de",
   "metadata": {},
   "outputs": [],
   "source": [
    "assert( df.X.apply(pyfuncs.mult, args=[10]).all() ==  df.X.apply(funcs.mult, args=[10]).all())"
   ]
  },
  {
   "cell_type": "markdown",
   "id": "3e0d1280",
   "metadata": {},
   "source": [
    "Since the functions support the `ufunc` API, you can also apply them as a function call with the `pandas.Series` as the argument."
   ]
  },
  {
   "cell_type": "markdown",
   "id": "0123d771-7bb6-47cc-9c0f-ef8b6bd16291",
   "metadata": {},
   "source": [
    "#### <font color='green'>First with C->Wasm </font> "
   ]
  },
  {
   "cell_type": "code",
   "execution_count": 11,
   "id": "bc45d191-1cc4-4020-a176-ac26e70e6619",
   "metadata": {},
   "outputs": [
    {
     "name": "stdout",
     "output_type": "stream",
     "text": [
      "CPU times: user 4.69 s, sys: 0 ns, total: 4.69 s\n",
      "Wall time: 4.69 s\n"
     ]
    },
    {
     "data": {
      "text/plain": [
       "0        120\n",
       "1        290\n",
       "2        300\n",
       "3        310\n",
       "4        170\n",
       "        ... \n",
       "99995    120\n",
       "99996     90\n",
       "99997    310\n",
       "99998    270\n",
       "99999     70\n",
       "Name: X, Length: 100000, dtype: object"
      ]
     },
     "execution_count": 11,
     "metadata": {},
     "output_type": "execute_result"
    }
   ],
   "source": [
    "%time funcs.mult(df.X, 10)"
   ]
  },
  {
   "cell_type": "markdown",
   "id": "24348437-8492-4b2c-a7cc-8b9a8a868405",
   "metadata": {},
   "source": [
    "#### <font color='magenta'>Now with Native Python </font> "
   ]
  },
  {
   "cell_type": "code",
   "execution_count": 12,
   "id": "d433fe59-306a-4c10-ad2f-fe0f940a0327",
   "metadata": {},
   "outputs": [
    {
     "name": "stdout",
     "output_type": "stream",
     "text": [
      "CPU times: user 1.39 ms, sys: 0 ns, total: 1.39 ms\n",
      "Wall time: 757 µs\n"
     ]
    },
    {
     "data": {
      "text/plain": [
       "0        120\n",
       "1        290\n",
       "2        300\n",
       "3        310\n",
       "4        170\n",
       "        ... \n",
       "99995    120\n",
       "99996     90\n",
       "99997    310\n",
       "99998    270\n",
       "99999     70\n",
       "Name: X, Length: 100000, dtype: int64"
      ]
     },
     "execution_count": 12,
     "metadata": {},
     "output_type": "execute_result"
    }
   ],
   "source": [
    "%time pyfuncs.mult(df.X, 10)"
   ]
  },
  {
   "cell_type": "markdown",
   "id": "e911fb35-d8ab-4df1-9b2a-c4bfe338d31d",
   "metadata": {},
   "source": [
    "#### Make sure not nonsense"
   ]
  },
  {
   "cell_type": "code",
   "execution_count": 60,
   "id": "9a0eca03-ad0a-4edf-ab6c-e043d9b9c7dd",
   "metadata": {},
   "outputs": [],
   "source": [
    "assert( pyfuncs.mult(df.X, 10).all() ==  funcs.mult(df.X, 10).all())"
   ]
  },
  {
   "cell_type": "markdown",
   "id": "f22ae663",
   "metadata": {},
   "source": [
    "Using the vector version of the `mult` func, we can send two `Series` objects in. Rather than allowing the `DataFrame` to iterate over the objects and apply a new function call on each pair, this version will push the data from both objects into the WASM memory and do all of the work in WASM. This eliminates much of the WASM call overhead."
   ]
  },
  {
   "cell_type": "markdown",
   "id": "9d27fb25",
   "metadata": {},
   "source": [
    "### Using a vectorized WASM function with pandas data"
   ]
  },
  {
   "cell_type": "markdown",
   "id": "ece24e5a",
   "metadata": {},
   "source": [
    "Vector versions of the functions copy the entire data vector into WASM memory before operating on it. This reduces the WASM function call overhead."
   ]
  },
  {
   "cell_type": "markdown",
   "id": "f526e50b-318f-46c2-ad0c-e0fddae382de",
   "metadata": {},
   "source": [
    "#### <font color='green'>First with C->Wasm </font> "
   ]
  },
  {
   "cell_type": "code",
   "execution_count": 61,
   "id": "77283294",
   "metadata": {},
   "outputs": [
    {
     "name": "stdout",
     "output_type": "stream",
     "text": [
      "CPU times: user 56.2 ms, sys: 0 ns, total: 56.2 ms\n",
      "Wall time: 55 ms\n"
     ]
    },
    {
     "data": {
      "text/plain": [
       "0         516\n",
       "1        1276\n",
       "2         900\n",
       "3          93\n",
       "4         357\n",
       "         ... \n",
       "99995     528\n",
       "99996     117\n",
       "99997    1023\n",
       "99998     999\n",
       "99999     154\n",
       "Length: 100000, dtype: int64"
      ]
     },
     "execution_count": 61,
     "metadata": {},
     "output_type": "execute_result"
    }
   ],
   "source": [
    "%time funcs.mult_vec(df.X, df.Y)"
   ]
  },
  {
   "cell_type": "markdown",
   "id": "12fe7c02-661c-4805-b5d6-acc97c324828",
   "metadata": {},
   "source": [
    "#### <font color='magenta'>Now with Native Python </font> "
   ]
  },
  {
   "cell_type": "code",
   "execution_count": 62,
   "id": "a37daba6-e73e-431d-84fe-48bc3d7f15da",
   "metadata": {},
   "outputs": [
    {
     "name": "stdout",
     "output_type": "stream",
     "text": [
      "CPU times: user 40.1 ms, sys: 0 ns, total: 40.1 ms\n",
      "Wall time: 38.8 ms\n"
     ]
    },
    {
     "data": {
      "text/plain": [
       "0         516\n",
       "1        1276\n",
       "2         900\n",
       "3          93\n",
       "4         357\n",
       "         ... \n",
       "99995     528\n",
       "99996     117\n",
       "99997    1023\n",
       "99998     999\n",
       "99999     154\n",
       "Length: 100000, dtype: int64"
      ]
     },
     "execution_count": 62,
     "metadata": {},
     "output_type": "execute_result"
    }
   ],
   "source": [
    "%time pyfuncs.mult_vec(df.X, df.Y)"
   ]
  },
  {
   "cell_type": "markdown",
   "id": "eee90b27-bedc-4336-a7d3-61c6a6c0ae59",
   "metadata": {},
   "source": [
    "#### Test"
   ]
  },
  {
   "cell_type": "code",
   "execution_count": 64,
   "id": "6bb8cd64-87d6-4d3e-ae0c-73306d2c2ba0",
   "metadata": {},
   "outputs": [],
   "source": [
    "assert( pyfuncs.mult_vec(df.X, df.Y).all() ==  funcs.mult_vec(df.X, df.Y).all())"
   ]
  },
  {
   "cell_type": "markdown",
   "id": "196a5d96-2aa8-4256-99ce-8cdd1bf104c9",
   "metadata": {},
   "source": [
    "### Standard python functions compiled to Wasm"
   ]
  },
  {
   "cell_type": "markdown",
   "id": "4869010b-e650-4312-bbaf-60ef8740909a",
   "metadata": {},
   "source": [
    "#### <font color='red'>TODO</font> "
   ]
  },
  {
   "cell_type": "markdown",
   "id": "9ed6c905-987b-40eb-bb62-fcbc9f1254c9",
   "metadata": {},
   "source": [
    "### Same example above without Wasm (c code called from Python via some witchcraft TBD)"
   ]
  },
  {
   "cell_type": "markdown",
   "id": "f0dfc1ba-99a0-4e67-be1c-152d37315587",
   "metadata": {},
   "source": [
    "#### <font color='red'>TODO</font> "
   ]
  },
  {
   "cell_type": "code",
   "execution_count": null,
   "id": "78ace0ea-a816-4fa8-b37a-6daab258ffe2",
   "metadata": {},
   "outputs": [],
   "source": []
  }
 ],
 "metadata": {
  "interpreter": {
   "hash": "949777d72b0d2535278d3dc13498b2535136f6dfe0678499012e853ee9abcab1"
  },
  "kernelspec": {
   "display_name": "Python 3 (ipykernel)",
   "language": "python",
   "name": "python3"
  },
  "language_info": {
   "codemirror_mode": {
    "name": "ipython",
    "version": 3
   },
   "file_extension": ".py",
   "mimetype": "text/x-python",
   "name": "python",
   "nbconvert_exporter": "python",
   "pygments_lexer": "ipython3",
   "version": "3.10.6"
  }
 },
 "nbformat": 4,
 "nbformat_minor": 5
}
