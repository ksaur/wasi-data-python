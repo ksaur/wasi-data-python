{
 "cells": [
  {
   "cell_type": "code",
   "execution_count": 2,
   "metadata": {},
   "outputs": [],
   "source": [
    "from MySQLdb import connect\n",
    "from dask.distributed import Client\n",
    "import dask.dataframe as dd\n",
    "import witxcraft as wc\n",
    "import pandas as pd\n",
    "\n",
    "SINGLESTORE_HOST = \"172.17.0.1\"\n",
    "SINGLESTORE_PORT = 3306\n",
    "\n",
    "SINGLESTORE_URI = \"mysql+mysqldb://root:root@{}:{}/demo_big\".format(SINGLESTORE_HOST, SINGLESTORE_PORT)"
   ]
  },
  {
   "cell_type": "code",
   "execution_count": 3,
   "metadata": {},
   "outputs": [
    {
     "name": "stderr",
     "output_type": "stream",
     "text": [
      "distributed.diskutils - INFO - Found stale lock file and directory '/workspaces/wasi-data-python/examples/dask-worker-space/worker-sjqqj_jh', purging\n",
      "distributed.diskutils - INFO - Found stale lock file and directory '/workspaces/wasi-data-python/examples/dask-worker-space/worker-73v6f35x', purging\n",
      "distributed.diskutils - INFO - Found stale lock file and directory '/workspaces/wasi-data-python/examples/dask-worker-space/worker-ddae0x9c', purging\n",
      "distributed.diskutils - INFO - Found stale lock file and directory '/workspaces/wasi-data-python/examples/dask-worker-space/worker-ov_xucun', purging\n",
      "distributed.diskutils - INFO - Found stale lock file and directory '/workspaces/wasi-data-python/examples/dask-worker-space/worker-tz2ilguq', purging\n",
      "distributed.diskutils - INFO - Found stale lock file and directory '/workspaces/wasi-data-python/examples/dask-worker-space/worker-7hxs2u8k', purging\n",
      "distributed.diskutils - INFO - Found stale lock file and directory '/workspaces/wasi-data-python/examples/dask-worker-space/worker-rgygf4nv', purging\n",
      "distributed.diskutils - INFO - Found stale lock file and directory '/workspaces/wasi-data-python/examples/dask-worker-space/worker-we5hrkcc', purging\n",
      "/usr/local/lib/python3.9/site-packages/dask/dataframe/io/sql.py:113: SAWarning:\n",
      "\n",
      "Unknown schema content: '  KEY `__UNORDERED` () USING CLUSTERED COLUMNSTORE'\n",
      "\n",
      "/usr/local/lib/python3.9/site-packages/dask/dataframe/io/sql.py:113: SAWarning:\n",
      "\n",
      "Unknown schema content: '  , SHARD KEY () '\n",
      "\n"
     ]
    },
    {
     "data": {
      "text/html": [
       "<div>\n",
       "<style scoped>\n",
       "    .dataframe tbody tr th:only-of-type {\n",
       "        vertical-align: middle;\n",
       "    }\n",
       "\n",
       "    .dataframe tbody tr th {\n",
       "        vertical-align: top;\n",
       "    }\n",
       "\n",
       "    .dataframe thead th {\n",
       "        text-align: right;\n",
       "    }\n",
       "</style>\n",
       "<table border=\"1\" class=\"dataframe\">\n",
       "  <thead>\n",
       "    <tr style=\"text-align: right;\">\n",
       "      <th></th>\n",
       "      <th>text</th>\n",
       "      <th>creation_date</th>\n",
       "      <th>score</th>\n",
       "    </tr>\n",
       "    <tr>\n",
       "      <th>id</th>\n",
       "      <th></th>\n",
       "      <th></th>\n",
       "      <th></th>\n",
       "    </tr>\n",
       "  </thead>\n",
       "  <tbody>\n",
       "    <tr>\n",
       "      <th>85668560</th>\n",
       "      <td>@paulrevere because border-bottom added below ...</td>\n",
       "      <td>2018-03-17 07:11:47</td>\n",
       "      <td>0</td>\n",
       "    </tr>\n",
       "    <tr>\n",
       "      <th>85671232</th>\n",
       "      <td>You might want to choose between C and C++.</td>\n",
       "      <td>2018-03-17 10:19:53</td>\n",
       "      <td>0</td>\n",
       "    </tr>\n",
       "    <tr>\n",
       "      <th>85471418</th>\n",
       "      <td>I am sending it directly from the URL bar. :)</td>\n",
       "      <td>2018-03-12 11:33:27</td>\n",
       "      <td>0</td>\n",
       "    </tr>\n",
       "    <tr>\n",
       "      <th>85471960</th>\n",
       "      <td>You're moving the file to a folder called \"upl...</td>\n",
       "      <td>2018-03-12 11:48:28</td>\n",
       "      <td>0</td>\n",
       "    </tr>\n",
       "    <tr>\n",
       "      <th>85474543</th>\n",
       "      <td>Did you make a change in either resultGetChoic...</td>\n",
       "      <td>2018-03-12 12:52:23</td>\n",
       "      <td>0</td>\n",
       "    </tr>\n",
       "  </tbody>\n",
       "</table>\n",
       "</div>"
      ],
      "text/plain": [
       "                                                       text  \\\n",
       "id                                                            \n",
       "85668560  @paulrevere because border-bottom added below ...   \n",
       "85671232        You might want to choose between C and C++.   \n",
       "85471418      I am sending it directly from the URL bar. :)   \n",
       "85471960  You're moving the file to a folder called \"upl...   \n",
       "85474543  Did you make a change in either resultGetChoic...   \n",
       "\n",
       "               creation_date  score  \n",
       "id                                   \n",
       "85668560 2018-03-17 07:11:47      0  \n",
       "85671232 2018-03-17 10:19:53      0  \n",
       "85471418 2018-03-12 11:33:27      0  \n",
       "85471960 2018-03-12 11:48:28      0  \n",
       "85474543 2018-03-12 12:52:23      0  "
      ]
     },
     "execution_count": 3,
     "metadata": {},
     "output_type": "execute_result"
    }
   ],
   "source": [
    "client = Client(n_workers=8)\n",
    "df = dd.read_sql_table('comments_small', SINGLESTORE_URI, npartitions=8, index_col='id')\n",
    "df.head()"
   ]
  },
  {
   "cell_type": "code",
   "execution_count": 4,
   "metadata": {},
   "outputs": [
    {
     "data": {
      "text/plain": [
       "1000"
      ]
     },
     "execution_count": 4,
     "metadata": {},
     "output_type": "execute_result"
    }
   ],
   "source": [
    "len(df)"
   ]
  },
  {
   "cell_type": "code",
   "execution_count": 5,
   "metadata": {},
   "outputs": [
    {
     "data": {
      "text/plain": [
       "compound   -0.542326\n",
       "positive    0.000000\n",
       "negative    0.636364\n",
       "neutral     0.363636\n",
       "dtype: float64"
      ]
     },
     "execution_count": 5,
     "metadata": {},
     "output_type": "execute_result"
    }
   ],
   "source": [
    "ml = wc.fromwasmmod('example_wasm.wasm', witx='iface.witx')\n",
    "ml.sentiment('covid is bad')"
   ]
  },
  {
   "cell_type": "code",
   "execution_count": 6,
   "metadata": {},
   "outputs": [
    {
     "data": {
      "text/html": [
       "<div>\n",
       "<style scoped>\n",
       "    .dataframe tbody tr th:only-of-type {\n",
       "        vertical-align: middle;\n",
       "    }\n",
       "\n",
       "    .dataframe tbody tr th {\n",
       "        vertical-align: top;\n",
       "    }\n",
       "\n",
       "    .dataframe thead th {\n",
       "        text-align: right;\n",
       "    }\n",
       "</style>\n",
       "<table border=\"1\" class=\"dataframe\">\n",
       "  <thead>\n",
       "    <tr style=\"text-align: right;\">\n",
       "      <th></th>\n",
       "      <th>compound</th>\n",
       "      <th>positive</th>\n",
       "      <th>negative</th>\n",
       "      <th>neutral</th>\n",
       "    </tr>\n",
       "    <tr>\n",
       "      <th>id</th>\n",
       "      <th></th>\n",
       "      <th></th>\n",
       "      <th></th>\n",
       "      <th></th>\n",
       "    </tr>\n",
       "  </thead>\n",
       "  <tbody>\n",
       "    <tr>\n",
       "      <th>85673569</th>\n",
       "      <td>-0.507974</td>\n",
       "      <td>0.000000</td>\n",
       "      <td>0.190002</td>\n",
       "      <td>0.809998</td>\n",
       "    </tr>\n",
       "    <tr>\n",
       "      <th>85559717</th>\n",
       "      <td>-0.367150</td>\n",
       "      <td>0.055316</td>\n",
       "      <td>0.140091</td>\n",
       "      <td>0.804593</td>\n",
       "    </tr>\n",
       "    <tr>\n",
       "      <th>85472668</th>\n",
       "      <td>-0.077228</td>\n",
       "      <td>0.000000</td>\n",
       "      <td>0.047619</td>\n",
       "      <td>0.952381</td>\n",
       "    </tr>\n",
       "    <tr>\n",
       "      <th>85473382</th>\n",
       "      <td>-0.240590</td>\n",
       "      <td>0.000000</td>\n",
       "      <td>0.000000</td>\n",
       "      <td>1.000000</td>\n",
       "    </tr>\n",
       "    <tr>\n",
       "      <th>85599569</th>\n",
       "      <td>0.000000</td>\n",
       "      <td>0.000000</td>\n",
       "      <td>0.000000</td>\n",
       "      <td>1.000000</td>\n",
       "    </tr>\n",
       "    <tr>\n",
       "      <th>...</th>\n",
       "      <td>...</td>\n",
       "      <td>...</td>\n",
       "      <td>...</td>\n",
       "      <td>...</td>\n",
       "    </tr>\n",
       "    <tr>\n",
       "      <th>116577834</th>\n",
       "      <td>0.273213</td>\n",
       "      <td>0.344262</td>\n",
       "      <td>0.000000</td>\n",
       "      <td>0.655738</td>\n",
       "    </tr>\n",
       "    <tr>\n",
       "      <th>116122333</th>\n",
       "      <td>0.000000</td>\n",
       "      <td>0.000000</td>\n",
       "      <td>0.000000</td>\n",
       "      <td>1.000000</td>\n",
       "    </tr>\n",
       "    <tr>\n",
       "      <th>115114681</th>\n",
       "      <td>-0.455198</td>\n",
       "      <td>0.000000</td>\n",
       "      <td>0.119295</td>\n",
       "      <td>0.880705</td>\n",
       "    </tr>\n",
       "    <tr>\n",
       "      <th>115114969</th>\n",
       "      <td>0.812605</td>\n",
       "      <td>0.482759</td>\n",
       "      <td>0.000000</td>\n",
       "      <td>0.517241</td>\n",
       "    </tr>\n",
       "    <tr>\n",
       "      <th>116324142</th>\n",
       "      <td>0.177858</td>\n",
       "      <td>0.242718</td>\n",
       "      <td>0.174757</td>\n",
       "      <td>0.582524</td>\n",
       "    </tr>\n",
       "  </tbody>\n",
       "</table>\n",
       "<p>1000 rows × 4 columns</p>\n",
       "</div>"
      ],
      "text/plain": [
       "           compound  positive  negative   neutral\n",
       "id                                               \n",
       "85673569  -0.507974  0.000000  0.190002  0.809998\n",
       "85559717  -0.367150  0.055316  0.140091  0.804593\n",
       "85472668  -0.077228  0.000000  0.047619  0.952381\n",
       "85473382  -0.240590  0.000000  0.000000  1.000000\n",
       "85599569   0.000000  0.000000  0.000000  1.000000\n",
       "...             ...       ...       ...       ...\n",
       "116577834  0.273213  0.344262  0.000000  0.655738\n",
       "116122333  0.000000  0.000000  0.000000  1.000000\n",
       "115114681 -0.455198  0.000000  0.119295  0.880705\n",
       "115114969  0.812605  0.482759  0.000000  0.517241\n",
       "116324142  0.177858  0.242718  0.174757  0.582524\n",
       "\n",
       "[1000 rows x 4 columns]"
      ]
     },
     "execution_count": 6,
     "metadata": {},
     "output_type": "execute_result"
    }
   ],
   "source": [
    "out = df['text'].apply(ml.sentiment, meta=ml.sentiment.ret_meta)\n",
    "out.compute()"
   ]
  },
  {
   "cell_type": "code",
   "execution_count": 7,
   "metadata": {},
   "outputs": [],
   "source": [
    "from pymysql import connect, cursors\n",
    "s2 = connect(host=SINGLESTORE_HOST, port=SINGLESTORE_PORT, user='root', passwd='root', db='demo_big', local_infile=True, cursorclass=cursors.DictCursor)\n",
    "cursor = s2.cursor()"
   ]
  },
  {
   "cell_type": "code",
   "execution_count": 8,
   "metadata": {},
   "outputs": [
    {
     "data": {
      "text/plain": [
       "[{'count(*)': 82037742}]"
      ]
     },
     "execution_count": 8,
     "metadata": {},
     "output_type": "execute_result"
    }
   ],
   "source": [
    "cursor.execute(\"select count(*) from comments\")\n",
    "cursor.fetchall()"
   ]
  },
  {
   "cell_type": "code",
   "execution_count": 9,
   "metadata": {},
   "outputs": [
    {
     "data": {
      "text/plain": [
       "1"
      ]
     },
     "execution_count": 9,
     "metadata": {},
     "output_type": "execute_result"
    }
   ],
   "source": [
    "cursor.execute(\"\"\"\n",
    "    create or replace function sentiment_vec(input varchar(256) not null)\n",
    "    returns table(\n",
    "        compound double,\n",
    "        positive double,\n",
    "        negative double,\n",
    "        neutral double\n",
    "    ) as wasm infile '/workspaces/wasi-data-python/examples/example_wasm.wasm';\n",
    "\"\"\")"
   ]
  },
  {
   "cell_type": "code",
   "execution_count": 43,
   "metadata": {},
   "outputs": [
    {
     "data": {
      "text/plain": [
       "[{'compound': 0.6988421622775413,\n",
       "  'positive': 0.5446265938069217,\n",
       "  'negative': 0.0,\n",
       "  'neutral': 0.45537340619307837}]"
      ]
     },
     "execution_count": 43,
     "metadata": {},
     "output_type": "execute_result"
    }
   ],
   "source": [
    "cursor.execute(\"select * from sentiment_vec('hello wasm day! I love wasm!')\")\n",
    "cursor.fetchall()"
   ]
  },
  {
   "cell_type": "code",
   "execution_count": 44,
   "metadata": {},
   "outputs": [
    {
     "data": {
      "text/html": [
       "<div>\n",
       "<style scoped>\n",
       "    .dataframe tbody tr th:only-of-type {\n",
       "        vertical-align: middle;\n",
       "    }\n",
       "\n",
       "    .dataframe tbody tr th {\n",
       "        vertical-align: top;\n",
       "    }\n",
       "\n",
       "    .dataframe thead th {\n",
       "        text-align: right;\n",
       "    }\n",
       "</style>\n",
       "<table border=\"1\" class=\"dataframe\">\n",
       "  <thead>\n",
       "    <tr style=\"text-align: right;\">\n",
       "      <th></th>\n",
       "      <th>text</th>\n",
       "      <th>score</th>\n",
       "      <th>compound</th>\n",
       "      <th>positive</th>\n",
       "      <th>negative</th>\n",
       "      <th>neutral</th>\n",
       "    </tr>\n",
       "  </thead>\n",
       "  <tbody>\n",
       "    <tr>\n",
       "      <th>0</th>\n",
       "      <td>Thanks  `npm install --legacy-peer-deps` works...</td>\n",
       "      <td>24</td>\n",
       "      <td>0.440434</td>\n",
       "      <td>0.325843</td>\n",
       "      <td>0.000000</td>\n",
       "      <td>0.674157</td>\n",
       "    </tr>\n",
       "    <tr>\n",
       "      <th>1</th>\n",
       "      <td>Before voting to close, read meta question: ht...</td>\n",
       "      <td>13</td>\n",
       "      <td>0.000000</td>\n",
       "      <td>0.000000</td>\n",
       "      <td>0.000000</td>\n",
       "      <td>1.000000</td>\n",
       "    </tr>\n",
       "    <tr>\n",
       "      <th>2</th>\n",
       "      <td>Just a reminder: dns here is the name of a ser...</td>\n",
       "      <td>14</td>\n",
       "      <td>0.000000</td>\n",
       "      <td>0.000000</td>\n",
       "      <td>0.000000</td>\n",
       "      <td>1.000000</td>\n",
       "    </tr>\n",
       "    <tr>\n",
       "      <th>3</th>\n",
       "      <td>It's correctness, not pedantry, and not a matt...</td>\n",
       "      <td>13</td>\n",
       "      <td>-0.019103</td>\n",
       "      <td>0.000000</td>\n",
       "      <td>0.059422</td>\n",
       "      <td>0.940578</td>\n",
       "    </tr>\n",
       "    <tr>\n",
       "      <th>4</th>\n",
       "      <td>I just added a `touch path/to/file` in the `Do...</td>\n",
       "      <td>24</td>\n",
       "      <td>-0.187672</td>\n",
       "      <td>0.000000</td>\n",
       "      <td>0.092850</td>\n",
       "      <td>0.907150</td>\n",
       "    </tr>\n",
       "    <tr>\n",
       "      <th>5</th>\n",
       "      <td>For backward compatibility, it would be better...</td>\n",
       "      <td>11</td>\n",
       "      <td>0.440434</td>\n",
       "      <td>0.096990</td>\n",
       "      <td>0.000000</td>\n",
       "      <td>0.903010</td>\n",
       "    </tr>\n",
       "    <tr>\n",
       "      <th>6</th>\n",
       "      <td>Use `tf.global_variables_initializer` instead ...</td>\n",
       "      <td>16</td>\n",
       "      <td>0.000000</td>\n",
       "      <td>0.000000</td>\n",
       "      <td>0.000000</td>\n",
       "      <td>1.000000</td>\n",
       "    </tr>\n",
       "    <tr>\n",
       "      <th>7</th>\n",
       "      <td>`curl https://docs.oracle.com/javase/8/docs/ap...</td>\n",
       "      <td>48</td>\n",
       "      <td>-0.545074</td>\n",
       "      <td>0.069683</td>\n",
       "      <td>0.133934</td>\n",
       "      <td>0.796382</td>\n",
       "    </tr>\n",
       "    <tr>\n",
       "      <th>8</th>\n",
       "      <td>Because IEEE 754 formats include NAN in their ...</td>\n",
       "      <td>15</td>\n",
       "      <td>0.401924</td>\n",
       "      <td>0.144385</td>\n",
       "      <td>0.000000</td>\n",
       "      <td>0.855615</td>\n",
       "    </tr>\n",
       "    <tr>\n",
       "      <th>9</th>\n",
       "      <td>Doesn't work in a fresh markdown cell in jupyt...</td>\n",
       "      <td>22</td>\n",
       "      <td>-0.282824</td>\n",
       "      <td>0.000000</td>\n",
       "      <td>0.078918</td>\n",
       "      <td>0.921082</td>\n",
       "    </tr>\n",
       "  </tbody>\n",
       "</table>\n",
       "</div>"
      ],
      "text/plain": [
       "                                                text  score  compound  \\\n",
       "0  Thanks  `npm install --legacy-peer-deps` works...     24  0.440434   \n",
       "1  Before voting to close, read meta question: ht...     13  0.000000   \n",
       "2  Just a reminder: dns here is the name of a ser...     14  0.000000   \n",
       "3  It's correctness, not pedantry, and not a matt...     13 -0.019103   \n",
       "4  I just added a `touch path/to/file` in the `Do...     24 -0.187672   \n",
       "5  For backward compatibility, it would be better...     11  0.440434   \n",
       "6  Use `tf.global_variables_initializer` instead ...     16  0.000000   \n",
       "7  `curl https://docs.oracle.com/javase/8/docs/ap...     48 -0.545074   \n",
       "8  Because IEEE 754 formats include NAN in their ...     15  0.401924   \n",
       "9  Doesn't work in a fresh markdown cell in jupyt...     22 -0.282824   \n",
       "\n",
       "   positive  negative   neutral  \n",
       "0  0.325843  0.000000  0.674157  \n",
       "1  0.000000  0.000000  1.000000  \n",
       "2  0.000000  0.000000  1.000000  \n",
       "3  0.000000  0.059422  0.940578  \n",
       "4  0.000000  0.092850  0.907150  \n",
       "5  0.096990  0.000000  0.903010  \n",
       "6  0.000000  0.000000  1.000000  \n",
       "7  0.069683  0.133934  0.796382  \n",
       "8  0.144385  0.000000  0.855615  \n",
       "9  0.000000  0.078918  0.921082  "
      ]
     },
     "execution_count": 44,
     "metadata": {},
     "output_type": "execute_result"
    }
   ],
   "source": [
    "pd.read_sql(\"select c.text, c.score, s.* from (select * from comments where score > 10) as c, sentiment_vec(c.text) as s limit 10\", con=SINGLESTORE_URI)"
   ]
  },
  {
   "cell_type": "code",
   "execution_count": 94,
   "metadata": {},
   "outputs": [
    {
     "data": {
      "text/html": [
       "<div>\n",
       "<style scoped>\n",
       "    .dataframe tbody tr th:only-of-type {\n",
       "        vertical-align: middle;\n",
       "    }\n",
       "\n",
       "    .dataframe tbody tr th {\n",
       "        vertical-align: top;\n",
       "    }\n",
       "\n",
       "    .dataframe thead th {\n",
       "        text-align: right;\n",
       "    }\n",
       "</style>\n",
       "<table border=\"1\" class=\"dataframe\">\n",
       "  <thead>\n",
       "    <tr style=\"text-align: right;\">\n",
       "      <th></th>\n",
       "      <th>score_bucket</th>\n",
       "      <th>num_scores</th>\n",
       "      <th>negative</th>\n",
       "      <th>avg</th>\n",
       "      <th>positive</th>\n",
       "    </tr>\n",
       "  </thead>\n",
       "  <tbody>\n",
       "    <tr>\n",
       "      <th>0</th>\n",
       "      <td>10</td>\n",
       "      <td>115285</td>\n",
       "      <td>0.999408</td>\n",
       "      <td>0.117165</td>\n",
       "      <td>0.988480</td>\n",
       "    </tr>\n",
       "    <tr>\n",
       "      <th>1</th>\n",
       "      <td>20</td>\n",
       "      <td>27409</td>\n",
       "      <td>0.988882</td>\n",
       "      <td>0.122059</td>\n",
       "      <td>0.989240</td>\n",
       "    </tr>\n",
       "    <tr>\n",
       "      <th>2</th>\n",
       "      <td>30</td>\n",
       "      <td>12064</td>\n",
       "      <td>0.982151</td>\n",
       "      <td>0.121961</td>\n",
       "      <td>0.987701</td>\n",
       "    </tr>\n",
       "    <tr>\n",
       "      <th>3</th>\n",
       "      <td>40</td>\n",
       "      <td>6701</td>\n",
       "      <td>0.984391</td>\n",
       "      <td>0.125527</td>\n",
       "      <td>0.987944</td>\n",
       "    </tr>\n",
       "    <tr>\n",
       "      <th>4</th>\n",
       "      <td>50</td>\n",
       "      <td>4130</td>\n",
       "      <td>0.957839</td>\n",
       "      <td>0.128716</td>\n",
       "      <td>0.977145</td>\n",
       "    </tr>\n",
       "  </tbody>\n",
       "</table>\n",
       "</div>"
      ],
      "text/plain": [
       "   score_bucket  num_scores  negative       avg  positive\n",
       "0            10      115285  0.999408  0.117165  0.988480\n",
       "1            20       27409  0.988882  0.122059  0.989240\n",
       "2            30       12064  0.982151  0.121961  0.987701\n",
       "3            40        6701  0.984391  0.125527  0.987944\n",
       "4            50        4130  0.957839  0.128716  0.977145"
      ]
     },
     "execution_count": 94,
     "metadata": {},
     "output_type": "execute_result"
    }
   ],
   "source": [
    "\n",
    "df = pd.read_sql(\"\"\"\n",
    "    select\n",
    "        (score - (score %% 10)) as score_bucket,\n",
    "        count(*) as num_scores,\n",
    "        abs(min(s.compound)) as \"negative\",\n",
    "        avg(s.compound) as \"avg\",\n",
    "        max(s.compound) as \"positive\"\n",
    "    from\n",
    "        (select * from comments where score >= 10) as c,\n",
    "        sentiment_vec(c.text) as s\n",
    "    group by 1\n",
    "    having positive > 0 and negative > 0\n",
    "    order by 1 asc\n",
    "\"\"\", con=SINGLESTORE_URI)\n",
    "\n",
    "df.head()"
   ]
  },
  {
   "cell_type": "code",
   "execution_count": 115,
   "metadata": {},
   "outputs": [
    {
     "data": {
      "application/vnd.plotly.v1+json": {
       "config": {
        "plotlyServerURL": "https://plot.ly"
       },
       "data": [
        {
         "hovertemplate": "variable=positive<br>Comment Score=%{x}<br>sentiment=%{y}<extra></extra>",
         "legendgroup": "positive",
         "marker": {
          "color": "#00E676",
          "symbol": "circle"
         },
         "mode": "markers",
         "name": "positive",
         "orientation": "v",
         "showlegend": true,
         "type": "scatter",
         "x": [
          10,
          20,
          30,
          40,
          50,
          60,
          70,
          80,
          90,
          100,
          110,
          120,
          130,
          140,
          150,
          160,
          170,
          180,
          190,
          200,
          210,
          220,
          230,
          240,
          250,
          260,
          270,
          280,
          290,
          300,
          310,
          320,
          330,
          340,
          350,
          360,
          370,
          380,
          390,
          400,
          410,
          420,
          430,
          440,
          450,
          460,
          470,
          480,
          490,
          500,
          510,
          520,
          530,
          560,
          570,
          580,
          600,
          610,
          620,
          630,
          650,
          660,
          670,
          720,
          750,
          760,
          830,
          860,
          870,
          930,
          1070,
          1120,
          1270,
          1310,
          1600
         ],
         "xaxis": "x",
         "y": [
          0.9884804181816502,
          0.9892404342635115,
          0.9877005097673762,
          0.9879442138133854,
          0.9771454595448407,
          0.9729132860697197,
          0.9880242850306352,
          0.9762188560813158,
          0.9493088246302036,
          0.9450887908327322,
          0.9632429421826448,
          0.9677479586749276,
          0.9632354331654686,
          0.9586716231397892,
          0.9431759585204077,
          0.9578995844532326,
          0.9147007023988873,
          0.8390091580666769,
          0.9182147494752572,
          0.9646083962735071,
          0.9656662124414448,
          0.9290884711557326,
          0.8845412417221543,
          0.8798820901453436,
          0.9118030994059687,
          0.8451256880345008,
          0.8977248037806889,
          0.8174929079535046,
          0.5410993951859938,
          0.9118030994059688,
          0.6248933269389456,
          0.8396107297645051,
          0.47069267569978684,
          0.9214489354615263,
          0.7351470441147052,
          0.9036517340801054,
          0.7506303133284343,
          0.9214716407330358,
          0.4588314677411235,
          0.9493388865671146,
          0.6408291839555817,
          0.9214875288054319,
          0.7776576898492897,
          0.6787855136307086,
          0.7013211246798072,
          0.6704783996548059,
          0.6352894319730723,
          0.3611575592573076,
          0.318210996771242,
          0.9300072820513762,
          0.7974137129232776,
          0.8764529079076419,
          0.8784193391889963,
          0.0772283284276542,
          0.8928880531487606,
          0.6514291935061767,
          0.6123724356957946,
          0.8891691296946175,
          0.43668531092021023,
          0.6704783996548059,
          0.8508899610354838,
          0.5267415375673765,
          0.658629995146214,
          0.06184909705487242,
          0.5765606074399332,
          0.7012163508595337,
          0.7581158244711411,
          0.6808225270250104,
          0.14685472163530328,
          0.02626267529115983,
          0.8001127379318811,
          0.09510059916726984,
          0.5235589127087327,
          0.5967146816460815,
          0.318210996771242
         ],
         "yaxis": "y"
        },
        {
         "hovertemplate": "<b>OLS trendline</b><br>value = -0.000511453 * score_bucket + 0.969329<br>R<sup>2</sup>=0.432606<br><br>variable=positive<br>Comment Score=%{x}<br>sentiment=%{y} <b>(trend)</b><extra></extra>",
         "legendgroup": "positive",
         "marker": {
          "color": "#00E676",
          "symbol": "circle"
         },
         "mode": "lines",
         "name": "positive",
         "showlegend": false,
         "type": "scatter",
         "x": [
          10,
          20,
          30,
          40,
          50,
          60,
          70,
          80,
          90,
          100,
          110,
          120,
          130,
          140,
          150,
          160,
          170,
          180,
          190,
          200,
          210,
          220,
          230,
          240,
          250,
          260,
          270,
          280,
          290,
          300,
          310,
          320,
          330,
          340,
          350,
          360,
          370,
          380,
          390,
          400,
          410,
          420,
          430,
          440,
          450,
          460,
          470,
          480,
          490,
          500,
          510,
          520,
          530,
          560,
          570,
          580,
          600,
          610,
          620,
          630,
          650,
          660,
          670,
          720,
          750,
          760,
          830,
          860,
          870,
          930,
          1070,
          1120,
          1270,
          1310,
          1600
         ],
         "xaxis": "x",
         "y": [
          0.9642147683556231,
          0.9591002433458755,
          0.953985718336128,
          0.9488711933263805,
          0.943756668316633,
          0.9386421433068853,
          0.9335276182971378,
          0.9284130932873903,
          0.9232985682776428,
          0.9181840432678952,
          0.9130695182581476,
          0.9079549932484001,
          0.9028404682386526,
          0.897725943228905,
          0.8926114182191575,
          0.8874968932094099,
          0.8823823681996623,
          0.8772678431899148,
          0.8721533181801673,
          0.8670387931704198,
          0.8619242681606721,
          0.8568097431509246,
          0.8516952181411771,
          0.8465806931314296,
          0.841466168121682,
          0.8363516431119344,
          0.8312371181021869,
          0.8261225930924394,
          0.8210080680826918,
          0.8158935430729443,
          0.8107790180631967,
          0.8056644930534491,
          0.8005499680437016,
          0.7954354430339541,
          0.7903209180242066,
          0.785206393014459,
          0.7800918680047114,
          0.7749773429949639,
          0.7698628179852164,
          0.7647482929754688,
          0.7596337679657212,
          0.7545192429559737,
          0.7494047179462262,
          0.7442901929364786,
          0.7391756679267311,
          0.7340611429169835,
          0.7289466179072359,
          0.7238320928974884,
          0.7187175678877409,
          0.7136030428779934,
          0.7084885178682458,
          0.7033739928584982,
          0.6982594678487507,
          0.682915892819508,
          0.6778013678097605,
          0.672686842800013,
          0.6624577927805179,
          0.6573432677707703,
          0.6522287427610227,
          0.6471142177512752,
          0.6368851677317802,
          0.6317706427220326,
          0.626656117712285,
          0.6010834926635473,
          0.5857399176343047,
          0.5806253926245571,
          0.5448237175563243,
          0.5294801425270816,
          0.5243656175173341,
          0.49367846745884886,
          0.42207511732238323,
          0.3965024922736454,
          0.3197846171274322,
          0.29932651708844205,
          0.15100529180576328
         ],
         "yaxis": "y"
        },
        {
         "hovertemplate": "variable=negative<br>Comment Score=%{x}<br>sentiment=%{y}<extra></extra>",
         "legendgroup": "negative",
         "marker": {
          "color": "#AA00FF",
          "symbol": "circle"
         },
         "mode": "markers",
         "name": "negative",
         "orientation": "v",
         "showlegend": true,
         "type": "scatter",
         "x": [
          10,
          20,
          30,
          40,
          50,
          60,
          70,
          80,
          90,
          100,
          110,
          120,
          130,
          140,
          150,
          160,
          170,
          180,
          190,
          200,
          210,
          220,
          230,
          240,
          250,
          260,
          270,
          280,
          290,
          300,
          310,
          320,
          330,
          340,
          350,
          360,
          370,
          380,
          390,
          400,
          410,
          420,
          430,
          440,
          450,
          460,
          470,
          480,
          490,
          500,
          510,
          520,
          530,
          560,
          570,
          580,
          600,
          610,
          620,
          630,
          650,
          660,
          670,
          720,
          750,
          760,
          830,
          860,
          870,
          930,
          1070,
          1120,
          1270,
          1310,
          1600
         ],
         "xaxis": "x",
         "y": [
          0.9994079336366717,
          0.9888823100791507,
          0.9821512068585552,
          0.9843907526148696,
          0.9578388745735287,
          0.9760934140752651,
          0.9706903352612597,
          0.9652000828396454,
          0.923147976982903,
          0.9304284852393788,
          0.9493549089508792,
          0.9002836209452251,
          0.9162896416215123,
          0.9021745222664633,
          0.8675398479551882,
          0.8531496240723568,
          0.9747041185348985,
          0.9169412377108535,
          0.9245951335534447,
          0.8816546429851182,
          0.9000703207408192,
          0.9540880207894837,
          0.9366897688124777,
          0.69959689416212,
          0.885989313829565,
          0.732963834521151,
          0.6002989705424076,
          0.7649686210234002,
          0.7212708611789033,
          0.8933580311460599,
          0.9006976990391564,
          0.5006589854488329,
          0.5287984420596952,
          0.7982623453420291,
          0.8858089026303493,
          0.9260311158258331,
          0.5572225995607002,
          0.6408291839555817,
          0.5811802198344084,
          0.6808225270250104,
          0.9067624627486915,
          0.6180652002061624,
          0.5903891548903332,
          0.6739361716859966,
          0.9091600833870738,
          0.456290214389052,
          0.22443775240223443,
          0.20228869496966945,
          0.7707616515369792,
          0.07722832842765416,
          0.70147352683846,
          0.6956083436402525,
          0.318210996771242,
          0.45227415861188436,
          0.3578007097500291,
          0.6514291935061767,
          0.4228101008987495,
          0.8891691296946175,
          0.07518070500292766,
          0.549915172454543,
          0.04642568745829288,
          0.5267415375673765,
          0.5993731596731062,
          0.06184909705487242,
          0.5765606074399332,
          0.325224313573055,
          0.7581158244711411,
          0.6808225270250104,
          0.14685472163530328,
          0.02626267529115983,
          0.8001127379318811,
          0.09510059916726984,
          0.5235589127087327,
          0.5967146816460815,
          0.318210996771242
         ],
         "yaxis": "y"
        },
        {
         "hovertemplate": "<b>OLS trendline</b><br>value = -0.000557112 * score_bucket + 0.914849<br>R<sup>2</sup>=0.412318<br><br>variable=negative<br>Comment Score=%{x}<br>sentiment=%{y} <b>(trend)</b><extra></extra>",
         "legendgroup": "negative",
         "marker": {
          "color": "#AA00FF",
          "symbol": "circle"
         },
         "mode": "lines",
         "name": "negative",
         "showlegend": false,
         "type": "scatter",
         "x": [
          10,
          20,
          30,
          40,
          50,
          60,
          70,
          80,
          90,
          100,
          110,
          120,
          130,
          140,
          150,
          160,
          170,
          180,
          190,
          200,
          210,
          220,
          230,
          240,
          250,
          260,
          270,
          280,
          290,
          300,
          310,
          320,
          330,
          340,
          350,
          360,
          370,
          380,
          390,
          400,
          410,
          420,
          430,
          440,
          450,
          460,
          470,
          480,
          490,
          500,
          510,
          520,
          530,
          560,
          570,
          580,
          600,
          610,
          620,
          630,
          650,
          660,
          670,
          720,
          750,
          760,
          830,
          860,
          870,
          930,
          1070,
          1120,
          1270,
          1310,
          1600
         ],
         "xaxis": "x",
         "y": [
          0.9092775928581214,
          0.9037064688628677,
          0.8981353448676139,
          0.8925642208723603,
          0.8869930968771066,
          0.8814219728818529,
          0.8758508488865991,
          0.8702797248913454,
          0.8647086008960918,
          0.8591374769008381,
          0.8535663529055844,
          0.8479952289103306,
          0.8424241049150769,
          0.8368529809198232,
          0.8312818569245696,
          0.8257107329293158,
          0.8201396089340621,
          0.8145684849388084,
          0.8089973609435547,
          0.803426236948301,
          0.7978551129530473,
          0.7922839889577936,
          0.7867128649625399,
          0.7811417409672862,
          0.7755706169720324,
          0.7699994929767788,
          0.7644283689815251,
          0.7588572449862714,
          0.7532861209910177,
          0.7477149969957639,
          0.7421438730005102,
          0.7365727490052565,
          0.7310016250100029,
          0.7254305010147492,
          0.7198593770194954,
          0.7142882530242417,
          0.708717129028988,
          0.7031460050337344,
          0.6975748810384806,
          0.6920037570432269,
          0.6864326330479732,
          0.6808615090527195,
          0.6752903850574659,
          0.669719261062212,
          0.6641481370669584,
          0.6585770130717047,
          0.653005889076451,
          0.6474347650811972,
          0.6418636410859435,
          0.6362925170906899,
          0.6307213930954362,
          0.6251502691001825,
          0.6195791451049287,
          0.6028657731191676,
          0.597294649123914,
          0.5917235251286602,
          0.5805812771381529,
          0.575010153142899,
          0.5694390291476454,
          0.5638679051523917,
          0.5527256571618843,
          0.5471545331666305,
          0.5415834091713769,
          0.5137277891951084,
          0.49701441720934725,
          0.4914432932140935,
          0.4524454252473176,
          0.4357320532615565,
          0.4301609292663028,
          0.39673418529478055,
          0.31873844936122864,
          0.29088282938496013,
          0.2073159694561546,
          0.18503147347513982,
          0.02346887761278238
         ],
         "yaxis": "y"
        }
       ],
       "layout": {
        "legend": {
         "title": {
          "text": "variable"
         },
         "tracegroupgap": 0
        },
        "margin": {
         "t": 60
        },
        "paper_bgcolor": "#1B1A21",
        "plot_bgcolor": "#1B1A21",
        "template": {
         "data": {
          "bar": [
           {
            "error_x": {
             "color": "#f2f5fa"
            },
            "error_y": {
             "color": "#f2f5fa"
            },
            "marker": {
             "line": {
              "color": "rgb(17,17,17)",
              "width": 0.5
             },
             "pattern": {
              "fillmode": "overlay",
              "size": 10,
              "solidity": 0.2
             }
            },
            "type": "bar"
           }
          ],
          "barpolar": [
           {
            "marker": {
             "line": {
              "color": "rgb(17,17,17)",
              "width": 0.5
             },
             "pattern": {
              "fillmode": "overlay",
              "size": 10,
              "solidity": 0.2
             }
            },
            "type": "barpolar"
           }
          ],
          "carpet": [
           {
            "aaxis": {
             "endlinecolor": "#A2B1C6",
             "gridcolor": "#506784",
             "linecolor": "#506784",
             "minorgridcolor": "#506784",
             "startlinecolor": "#A2B1C6"
            },
            "baxis": {
             "endlinecolor": "#A2B1C6",
             "gridcolor": "#506784",
             "linecolor": "#506784",
             "minorgridcolor": "#506784",
             "startlinecolor": "#A2B1C6"
            },
            "type": "carpet"
           }
          ],
          "choropleth": [
           {
            "colorbar": {
             "outlinewidth": 0,
             "ticks": ""
            },
            "type": "choropleth"
           }
          ],
          "contour": [
           {
            "colorbar": {
             "outlinewidth": 0,
             "ticks": ""
            },
            "colorscale": [
             [
              0,
              "#0d0887"
             ],
             [
              0.1111111111111111,
              "#46039f"
             ],
             [
              0.2222222222222222,
              "#7201a8"
             ],
             [
              0.3333333333333333,
              "#9c179e"
             ],
             [
              0.4444444444444444,
              "#bd3786"
             ],
             [
              0.5555555555555556,
              "#d8576b"
             ],
             [
              0.6666666666666666,
              "#ed7953"
             ],
             [
              0.7777777777777778,
              "#fb9f3a"
             ],
             [
              0.8888888888888888,
              "#fdca26"
             ],
             [
              1,
              "#f0f921"
             ]
            ],
            "type": "contour"
           }
          ],
          "contourcarpet": [
           {
            "colorbar": {
             "outlinewidth": 0,
             "ticks": ""
            },
            "type": "contourcarpet"
           }
          ],
          "heatmap": [
           {
            "colorbar": {
             "outlinewidth": 0,
             "ticks": ""
            },
            "colorscale": [
             [
              0,
              "#0d0887"
             ],
             [
              0.1111111111111111,
              "#46039f"
             ],
             [
              0.2222222222222222,
              "#7201a8"
             ],
             [
              0.3333333333333333,
              "#9c179e"
             ],
             [
              0.4444444444444444,
              "#bd3786"
             ],
             [
              0.5555555555555556,
              "#d8576b"
             ],
             [
              0.6666666666666666,
              "#ed7953"
             ],
             [
              0.7777777777777778,
              "#fb9f3a"
             ],
             [
              0.8888888888888888,
              "#fdca26"
             ],
             [
              1,
              "#f0f921"
             ]
            ],
            "type": "heatmap"
           }
          ],
          "heatmapgl": [
           {
            "colorbar": {
             "outlinewidth": 0,
             "ticks": ""
            },
            "colorscale": [
             [
              0,
              "#0d0887"
             ],
             [
              0.1111111111111111,
              "#46039f"
             ],
             [
              0.2222222222222222,
              "#7201a8"
             ],
             [
              0.3333333333333333,
              "#9c179e"
             ],
             [
              0.4444444444444444,
              "#bd3786"
             ],
             [
              0.5555555555555556,
              "#d8576b"
             ],
             [
              0.6666666666666666,
              "#ed7953"
             ],
             [
              0.7777777777777778,
              "#fb9f3a"
             ],
             [
              0.8888888888888888,
              "#fdca26"
             ],
             [
              1,
              "#f0f921"
             ]
            ],
            "type": "heatmapgl"
           }
          ],
          "histogram": [
           {
            "marker": {
             "pattern": {
              "fillmode": "overlay",
              "size": 10,
              "solidity": 0.2
             }
            },
            "type": "histogram"
           }
          ],
          "histogram2d": [
           {
            "colorbar": {
             "outlinewidth": 0,
             "ticks": ""
            },
            "colorscale": [
             [
              0,
              "#0d0887"
             ],
             [
              0.1111111111111111,
              "#46039f"
             ],
             [
              0.2222222222222222,
              "#7201a8"
             ],
             [
              0.3333333333333333,
              "#9c179e"
             ],
             [
              0.4444444444444444,
              "#bd3786"
             ],
             [
              0.5555555555555556,
              "#d8576b"
             ],
             [
              0.6666666666666666,
              "#ed7953"
             ],
             [
              0.7777777777777778,
              "#fb9f3a"
             ],
             [
              0.8888888888888888,
              "#fdca26"
             ],
             [
              1,
              "#f0f921"
             ]
            ],
            "type": "histogram2d"
           }
          ],
          "histogram2dcontour": [
           {
            "colorbar": {
             "outlinewidth": 0,
             "ticks": ""
            },
            "colorscale": [
             [
              0,
              "#0d0887"
             ],
             [
              0.1111111111111111,
              "#46039f"
             ],
             [
              0.2222222222222222,
              "#7201a8"
             ],
             [
              0.3333333333333333,
              "#9c179e"
             ],
             [
              0.4444444444444444,
              "#bd3786"
             ],
             [
              0.5555555555555556,
              "#d8576b"
             ],
             [
              0.6666666666666666,
              "#ed7953"
             ],
             [
              0.7777777777777778,
              "#fb9f3a"
             ],
             [
              0.8888888888888888,
              "#fdca26"
             ],
             [
              1,
              "#f0f921"
             ]
            ],
            "type": "histogram2dcontour"
           }
          ],
          "mesh3d": [
           {
            "colorbar": {
             "outlinewidth": 0,
             "ticks": ""
            },
            "type": "mesh3d"
           }
          ],
          "parcoords": [
           {
            "line": {
             "colorbar": {
              "outlinewidth": 0,
              "ticks": ""
             }
            },
            "type": "parcoords"
           }
          ],
          "pie": [
           {
            "automargin": true,
            "type": "pie"
           }
          ],
          "scatter": [
           {
            "marker": {
             "line": {
              "color": "#283442"
             }
            },
            "type": "scatter"
           }
          ],
          "scatter3d": [
           {
            "line": {
             "colorbar": {
              "outlinewidth": 0,
              "ticks": ""
             }
            },
            "marker": {
             "colorbar": {
              "outlinewidth": 0,
              "ticks": ""
             }
            },
            "type": "scatter3d"
           }
          ],
          "scattercarpet": [
           {
            "marker": {
             "colorbar": {
              "outlinewidth": 0,
              "ticks": ""
             }
            },
            "type": "scattercarpet"
           }
          ],
          "scattergeo": [
           {
            "marker": {
             "colorbar": {
              "outlinewidth": 0,
              "ticks": ""
             }
            },
            "type": "scattergeo"
           }
          ],
          "scattergl": [
           {
            "marker": {
             "line": {
              "color": "#283442"
             }
            },
            "type": "scattergl"
           }
          ],
          "scattermapbox": [
           {
            "marker": {
             "colorbar": {
              "outlinewidth": 0,
              "ticks": ""
             }
            },
            "type": "scattermapbox"
           }
          ],
          "scatterpolar": [
           {
            "marker": {
             "colorbar": {
              "outlinewidth": 0,
              "ticks": ""
             }
            },
            "type": "scatterpolar"
           }
          ],
          "scatterpolargl": [
           {
            "marker": {
             "colorbar": {
              "outlinewidth": 0,
              "ticks": ""
             }
            },
            "type": "scatterpolargl"
           }
          ],
          "scatterternary": [
           {
            "marker": {
             "colorbar": {
              "outlinewidth": 0,
              "ticks": ""
             }
            },
            "type": "scatterternary"
           }
          ],
          "surface": [
           {
            "colorbar": {
             "outlinewidth": 0,
             "ticks": ""
            },
            "colorscale": [
             [
              0,
              "#0d0887"
             ],
             [
              0.1111111111111111,
              "#46039f"
             ],
             [
              0.2222222222222222,
              "#7201a8"
             ],
             [
              0.3333333333333333,
              "#9c179e"
             ],
             [
              0.4444444444444444,
              "#bd3786"
             ],
             [
              0.5555555555555556,
              "#d8576b"
             ],
             [
              0.6666666666666666,
              "#ed7953"
             ],
             [
              0.7777777777777778,
              "#fb9f3a"
             ],
             [
              0.8888888888888888,
              "#fdca26"
             ],
             [
              1,
              "#f0f921"
             ]
            ],
            "type": "surface"
           }
          ],
          "table": [
           {
            "cells": {
             "fill": {
              "color": "#506784"
             },
             "line": {
              "color": "rgb(17,17,17)"
             }
            },
            "header": {
             "fill": {
              "color": "#2a3f5f"
             },
             "line": {
              "color": "rgb(17,17,17)"
             }
            },
            "type": "table"
           }
          ]
         },
         "layout": {
          "annotationdefaults": {
           "arrowcolor": "#f2f5fa",
           "arrowhead": 0,
           "arrowwidth": 1
          },
          "autotypenumbers": "strict",
          "coloraxis": {
           "colorbar": {
            "outlinewidth": 0,
            "ticks": ""
           }
          },
          "colorscale": {
           "diverging": [
            [
             0,
             "#8e0152"
            ],
            [
             0.1,
             "#c51b7d"
            ],
            [
             0.2,
             "#de77ae"
            ],
            [
             0.3,
             "#f1b6da"
            ],
            [
             0.4,
             "#fde0ef"
            ],
            [
             0.5,
             "#f7f7f7"
            ],
            [
             0.6,
             "#e6f5d0"
            ],
            [
             0.7,
             "#b8e186"
            ],
            [
             0.8,
             "#7fbc41"
            ],
            [
             0.9,
             "#4d9221"
            ],
            [
             1,
             "#276419"
            ]
           ],
           "sequential": [
            [
             0,
             "#0d0887"
            ],
            [
             0.1111111111111111,
             "#46039f"
            ],
            [
             0.2222222222222222,
             "#7201a8"
            ],
            [
             0.3333333333333333,
             "#9c179e"
            ],
            [
             0.4444444444444444,
             "#bd3786"
            ],
            [
             0.5555555555555556,
             "#d8576b"
            ],
            [
             0.6666666666666666,
             "#ed7953"
            ],
            [
             0.7777777777777778,
             "#fb9f3a"
            ],
            [
             0.8888888888888888,
             "#fdca26"
            ],
            [
             1,
             "#f0f921"
            ]
           ],
           "sequentialminus": [
            [
             0,
             "#0d0887"
            ],
            [
             0.1111111111111111,
             "#46039f"
            ],
            [
             0.2222222222222222,
             "#7201a8"
            ],
            [
             0.3333333333333333,
             "#9c179e"
            ],
            [
             0.4444444444444444,
             "#bd3786"
            ],
            [
             0.5555555555555556,
             "#d8576b"
            ],
            [
             0.6666666666666666,
             "#ed7953"
            ],
            [
             0.7777777777777778,
             "#fb9f3a"
            ],
            [
             0.8888888888888888,
             "#fdca26"
            ],
            [
             1,
             "#f0f921"
            ]
           ]
          },
          "colorway": [
           "#636efa",
           "#EF553B",
           "#00cc96",
           "#ab63fa",
           "#FFA15A",
           "#19d3f3",
           "#FF6692",
           "#B6E880",
           "#FF97FF",
           "#FECB52"
          ],
          "font": {
           "color": "#f2f5fa"
          },
          "geo": {
           "bgcolor": "rgb(17,17,17)",
           "lakecolor": "rgb(17,17,17)",
           "landcolor": "rgb(17,17,17)",
           "showlakes": true,
           "showland": true,
           "subunitcolor": "#506784"
          },
          "hoverlabel": {
           "align": "left"
          },
          "hovermode": "closest",
          "mapbox": {
           "style": "dark"
          },
          "paper_bgcolor": "rgb(17,17,17)",
          "plot_bgcolor": "rgb(17,17,17)",
          "polar": {
           "angularaxis": {
            "gridcolor": "#506784",
            "linecolor": "#506784",
            "ticks": ""
           },
           "bgcolor": "rgb(17,17,17)",
           "radialaxis": {
            "gridcolor": "#506784",
            "linecolor": "#506784",
            "ticks": ""
           }
          },
          "scene": {
           "xaxis": {
            "backgroundcolor": "rgb(17,17,17)",
            "gridcolor": "#506784",
            "gridwidth": 2,
            "linecolor": "#506784",
            "showbackground": true,
            "ticks": "",
            "zerolinecolor": "#C8D4E3"
           },
           "yaxis": {
            "backgroundcolor": "rgb(17,17,17)",
            "gridcolor": "#506784",
            "gridwidth": 2,
            "linecolor": "#506784",
            "showbackground": true,
            "ticks": "",
            "zerolinecolor": "#C8D4E3"
           },
           "zaxis": {
            "backgroundcolor": "rgb(17,17,17)",
            "gridcolor": "#506784",
            "gridwidth": 2,
            "linecolor": "#506784",
            "showbackground": true,
            "ticks": "",
            "zerolinecolor": "#C8D4E3"
           }
          },
          "shapedefaults": {
           "line": {
            "color": "#f2f5fa"
           }
          },
          "sliderdefaults": {
           "bgcolor": "#C8D4E3",
           "bordercolor": "rgb(17,17,17)",
           "borderwidth": 1,
           "tickwidth": 0
          },
          "ternary": {
           "aaxis": {
            "gridcolor": "#506784",
            "linecolor": "#506784",
            "ticks": ""
           },
           "baxis": {
            "gridcolor": "#506784",
            "linecolor": "#506784",
            "ticks": ""
           },
           "bgcolor": "rgb(17,17,17)",
           "caxis": {
            "gridcolor": "#506784",
            "linecolor": "#506784",
            "ticks": ""
           }
          },
          "title": {
           "x": 0.05
          },
          "updatemenudefaults": {
           "bgcolor": "#506784",
           "borderwidth": 0
          },
          "xaxis": {
           "automargin": true,
           "gridcolor": "#283442",
           "linecolor": "#506784",
           "ticks": "",
           "title": {
            "standoff": 15
           },
           "zerolinecolor": "#283442",
           "zerolinewidth": 2
          },
          "yaxis": {
           "automargin": true,
           "gridcolor": "#283442",
           "linecolor": "#506784",
           "ticks": "",
           "title": {
            "standoff": 15
           },
           "zerolinecolor": "#283442",
           "zerolinewidth": 2
          }
         }
        },
        "xaxis": {
         "anchor": "y",
         "domain": [
          0,
          1
         ],
         "title": {
          "text": "Comment Score"
         }
        },
        "yaxis": {
         "anchor": "x",
         "domain": [
          0,
          1
         ],
         "title": {
          "text": "sentiment"
         }
        }
       }
      }
     },
     "metadata": {},
     "output_type": "display_data"
    }
   ],
   "source": [
    "import plotly.express as px\n",
    "import plotly.graph_objects as go\n",
    "import statsmodels\n",
    "\n",
    "colorscheme = [\"#00E676\" ,\"#AA00FF\"]\n",
    "\n",
    "# ols = Ordinary Least Squares\n",
    "fig = px.scatter(df,\n",
    "    x=\"score_bucket\",\n",
    "    y=[\"positive\", \"negative\"],\n",
    "    trendline=\"ols\",\n",
    "    color_discrete_sequence=colorscheme,\n",
    "    template=\"plotly_dark\",\n",
    "    labels={\n",
    "        \"score_bucket\": \"Comment Score\",\n",
    "        \"value\": \"sentiment\",\n",
    "    }\n",
    ")\n",
    "\n",
    "fig.update_layout(\n",
    "    paper_bgcolor='#1B1A21',\n",
    "    plot_bgcolor='#1B1A21',\n",
    ")\n",
    "\n",
    "fig.show()"
   ]
  }
 ],
 "metadata": {
  "interpreter": {
   "hash": "949777d72b0d2535278d3dc13498b2535136f6dfe0678499012e853ee9abcab1"
  },
  "kernelspec": {
   "display_name": "Python 3.9.7 64-bit",
   "name": "python3"
  },
  "language_info": {
   "codemirror_mode": {
    "name": "ipython",
    "version": 3
   },
   "file_extension": ".py",
   "mimetype": "text/x-python",
   "name": "python",
   "nbconvert_exporter": "python",
   "pygments_lexer": "ipython3",
   "version": "3.9.7"
  },
  "orig_nbformat": 4
 },
 "nbformat": 4,
 "nbformat_minor": 2
}
