{
 "cells": [
  {
   "cell_type": "code",
   "execution_count": 2,
   "metadata": {},
   "outputs": [],
   "source": [
    "from MySQLdb import connect\n",
    "from dask.distributed import Client\n",
    "import dask.dataframe as dd\n",
    "import witxcraft as wc\n",
    "import pandas as pd\n",
    "\n",
    "SINGLESTORE_HOST = \"172.17.0.1\"\n",
    "SINGLESTORE_PORT = 3306\n",
    "\n",
    "SINGLESTORE_URI = \"mysql+mysqldb://root:root@{}:{}/demo_big\".format(SINGLESTORE_HOST, SINGLESTORE_PORT)"
   ]
  },
  {
   "cell_type": "code",
   "execution_count": 3,
   "metadata": {},
   "outputs": [
    {
     "name": "stderr",
     "output_type": "stream",
     "text": [
      "distributed.diskutils - INFO - Found stale lock file and directory '/workspaces/wasi-data-python/examples/dask-worker-space/worker-sjqqj_jh', purging\n",
      "distributed.diskutils - INFO - Found stale lock file and directory '/workspaces/wasi-data-python/examples/dask-worker-space/worker-73v6f35x', purging\n",
      "distributed.diskutils - INFO - Found stale lock file and directory '/workspaces/wasi-data-python/examples/dask-worker-space/worker-ddae0x9c', purging\n",
      "distributed.diskutils - INFO - Found stale lock file and directory '/workspaces/wasi-data-python/examples/dask-worker-space/worker-ov_xucun', purging\n",
      "distributed.diskutils - INFO - Found stale lock file and directory '/workspaces/wasi-data-python/examples/dask-worker-space/worker-tz2ilguq', purging\n",
      "distributed.diskutils - INFO - Found stale lock file and directory '/workspaces/wasi-data-python/examples/dask-worker-space/worker-7hxs2u8k', purging\n",
      "distributed.diskutils - INFO - Found stale lock file and directory '/workspaces/wasi-data-python/examples/dask-worker-space/worker-rgygf4nv', purging\n",
      "distributed.diskutils - INFO - Found stale lock file and directory '/workspaces/wasi-data-python/examples/dask-worker-space/worker-we5hrkcc', purging\n",
      "/usr/local/lib/python3.9/site-packages/dask/dataframe/io/sql.py:113: SAWarning:\n",
      "\n",
      "Unknown schema content: '  KEY `__UNORDERED` () USING CLUSTERED COLUMNSTORE'\n",
      "\n",
      "/usr/local/lib/python3.9/site-packages/dask/dataframe/io/sql.py:113: SAWarning:\n",
      "\n",
      "Unknown schema content: '  , SHARD KEY () '\n",
      "\n"
     ]
    },
    {
     "data": {
      "text/html": [
       "<div>\n",
       "<style scoped>\n",
       "    .dataframe tbody tr th:only-of-type {\n",
       "        vertical-align: middle;\n",
       "    }\n",
       "\n",
       "    .dataframe tbody tr th {\n",
       "        vertical-align: top;\n",
       "    }\n",
       "\n",
       "    .dataframe thead th {\n",
       "        text-align: right;\n",
       "    }\n",
       "</style>\n",
       "<table border=\"1\" class=\"dataframe\">\n",
       "  <thead>\n",
       "    <tr style=\"text-align: right;\">\n",
       "      <th></th>\n",
       "      <th>text</th>\n",
       "      <th>creation_date</th>\n",
       "      <th>score</th>\n",
       "    </tr>\n",
       "    <tr>\n",
       "      <th>id</th>\n",
       "      <th></th>\n",
       "      <th></th>\n",
       "      <th></th>\n",
       "    </tr>\n",
       "  </thead>\n",
       "  <tbody>\n",
       "    <tr>\n",
       "      <th>85668560</th>\n",
       "      <td>@paulrevere because border-bottom added below ...</td>\n",
       "      <td>2018-03-17 07:11:47</td>\n",
       "      <td>0</td>\n",
       "    </tr>\n",
       "    <tr>\n",
       "      <th>85671232</th>\n",
       "      <td>You might want to choose between C and C++.</td>\n",
       "      <td>2018-03-17 10:19:53</td>\n",
       "      <td>0</td>\n",
       "    </tr>\n",
       "    <tr>\n",
       "      <th>85471418</th>\n",
       "      <td>I am sending it directly from the URL bar. :)</td>\n",
       "      <td>2018-03-12 11:33:27</td>\n",
       "      <td>0</td>\n",
       "    </tr>\n",
       "    <tr>\n",
       "      <th>85471960</th>\n",
       "      <td>You're moving the file to a folder called \"upl...</td>\n",
       "      <td>2018-03-12 11:48:28</td>\n",
       "      <td>0</td>\n",
       "    </tr>\n",
       "    <tr>\n",
       "      <th>85474543</th>\n",
       "      <td>Did you make a change in either resultGetChoic...</td>\n",
       "      <td>2018-03-12 12:52:23</td>\n",
       "      <td>0</td>\n",
       "    </tr>\n",
       "  </tbody>\n",
       "</table>\n",
       "</div>"
      ],
      "text/plain": [
       "                                                       text  \\\n",
       "id                                                            \n",
       "85668560  @paulrevere because border-bottom added below ...   \n",
       "85671232        You might want to choose between C and C++.   \n",
       "85471418      I am sending it directly from the URL bar. :)   \n",
       "85471960  You're moving the file to a folder called \"upl...   \n",
       "85474543  Did you make a change in either resultGetChoic...   \n",
       "\n",
       "               creation_date  score  \n",
       "id                                   \n",
       "85668560 2018-03-17 07:11:47      0  \n",
       "85671232 2018-03-17 10:19:53      0  \n",
       "85471418 2018-03-12 11:33:27      0  \n",
       "85471960 2018-03-12 11:48:28      0  \n",
       "85474543 2018-03-12 12:52:23      0  "
      ]
     },
     "execution_count": 3,
     "metadata": {},
     "output_type": "execute_result"
    }
   ],
   "source": [
    "client = Client(n_workers=8)\n",
    "df = dd.read_sql_table('comments_small', SINGLESTORE_URI, npartitions=8, index_col='id')\n",
    "df.head()"
   ]
  },
  {
   "cell_type": "code",
   "execution_count": 4,
   "metadata": {},
   "outputs": [
    {
     "data": {
      "text/plain": [
       "1000"
      ]
     },
     "execution_count": 4,
     "metadata": {},
     "output_type": "execute_result"
    }
   ],
   "source": [
    "len(df)"
   ]
  },
  {
   "cell_type": "code",
   "execution_count": 5,
   "metadata": {},
   "outputs": [
    {
     "data": {
      "text/plain": [
       "compound   -0.542326\n",
       "positive    0.000000\n",
       "negative    0.636364\n",
       "neutral     0.363636\n",
       "dtype: float64"
      ]
     },
     "execution_count": 5,
     "metadata": {},
     "output_type": "execute_result"
    }
   ],
   "source": [
    "ml = wc.fromwasmmod('example_wasm.wasm', witx='iface.witx')\n",
    "ml.sentiment('covid is bad')"
   ]
  },
  {
   "cell_type": "code",
   "execution_count": 6,
   "metadata": {},
   "outputs": [
    {
     "data": {
      "text/html": [
       "<div>\n",
       "<style scoped>\n",
       "    .dataframe tbody tr th:only-of-type {\n",
       "        vertical-align: middle;\n",
       "    }\n",
       "\n",
       "    .dataframe tbody tr th {\n",
       "        vertical-align: top;\n",
       "    }\n",
       "\n",
       "    .dataframe thead th {\n",
       "        text-align: right;\n",
       "    }\n",
       "</style>\n",
       "<table border=\"1\" class=\"dataframe\">\n",
       "  <thead>\n",
       "    <tr style=\"text-align: right;\">\n",
       "      <th></th>\n",
       "      <th>compound</th>\n",
       "      <th>positive</th>\n",
       "      <th>negative</th>\n",
       "      <th>neutral</th>\n",
       "    </tr>\n",
       "    <tr>\n",
       "      <th>id</th>\n",
       "      <th></th>\n",
       "      <th></th>\n",
       "      <th></th>\n",
       "      <th></th>\n",
       "    </tr>\n",
       "  </thead>\n",
       "  <tbody>\n",
       "    <tr>\n",
       "      <th>85673569</th>\n",
       "      <td>-0.507974</td>\n",
       "      <td>0.000000</td>\n",
       "      <td>0.190002</td>\n",
       "      <td>0.809998</td>\n",
       "    </tr>\n",
       "    <tr>\n",
       "      <th>85559717</th>\n",
       "      <td>-0.367150</td>\n",
       "      <td>0.055316</td>\n",
       "      <td>0.140091</td>\n",
       "      <td>0.804593</td>\n",
       "    </tr>\n",
       "    <tr>\n",
       "      <th>85472668</th>\n",
       "      <td>-0.077228</td>\n",
       "      <td>0.000000</td>\n",
       "      <td>0.047619</td>\n",
       "      <td>0.952381</td>\n",
       "    </tr>\n",
       "    <tr>\n",
       "      <th>85473382</th>\n",
       "      <td>-0.240590</td>\n",
       "      <td>0.000000</td>\n",
       "      <td>0.000000</td>\n",
       "      <td>1.000000</td>\n",
       "    </tr>\n",
       "    <tr>\n",
       "      <th>85599569</th>\n",
       "      <td>0.000000</td>\n",
       "      <td>0.000000</td>\n",
       "      <td>0.000000</td>\n",
       "      <td>1.000000</td>\n",
       "    </tr>\n",
       "    <tr>\n",
       "      <th>...</th>\n",
       "      <td>...</td>\n",
       "      <td>...</td>\n",
       "      <td>...</td>\n",
       "      <td>...</td>\n",
       "    </tr>\n",
       "    <tr>\n",
       "      <th>116577834</th>\n",
       "      <td>0.273213</td>\n",
       "      <td>0.344262</td>\n",
       "      <td>0.000000</td>\n",
       "      <td>0.655738</td>\n",
       "    </tr>\n",
       "    <tr>\n",
       "      <th>116122333</th>\n",
       "      <td>0.000000</td>\n",
       "      <td>0.000000</td>\n",
       "      <td>0.000000</td>\n",
       "      <td>1.000000</td>\n",
       "    </tr>\n",
       "    <tr>\n",
       "      <th>115114681</th>\n",
       "      <td>-0.455198</td>\n",
       "      <td>0.000000</td>\n",
       "      <td>0.119295</td>\n",
       "      <td>0.880705</td>\n",
       "    </tr>\n",
       "    <tr>\n",
       "      <th>115114969</th>\n",
       "      <td>0.812605</td>\n",
       "      <td>0.482759</td>\n",
       "      <td>0.000000</td>\n",
       "      <td>0.517241</td>\n",
       "    </tr>\n",
       "    <tr>\n",
       "      <th>116324142</th>\n",
       "      <td>0.177858</td>\n",
       "      <td>0.242718</td>\n",
       "      <td>0.174757</td>\n",
       "      <td>0.582524</td>\n",
       "    </tr>\n",
       "  </tbody>\n",
       "</table>\n",
       "<p>1000 rows × 4 columns</p>\n",
       "</div>"
      ],
      "text/plain": [
       "           compound  positive  negative   neutral\n",
       "id                                               \n",
       "85673569  -0.507974  0.000000  0.190002  0.809998\n",
       "85559717  -0.367150  0.055316  0.140091  0.804593\n",
       "85472668  -0.077228  0.000000  0.047619  0.952381\n",
       "85473382  -0.240590  0.000000  0.000000  1.000000\n",
       "85599569   0.000000  0.000000  0.000000  1.000000\n",
       "...             ...       ...       ...       ...\n",
       "116577834  0.273213  0.344262  0.000000  0.655738\n",
       "116122333  0.000000  0.000000  0.000000  1.000000\n",
       "115114681 -0.455198  0.000000  0.119295  0.880705\n",
       "115114969  0.812605  0.482759  0.000000  0.517241\n",
       "116324142  0.177858  0.242718  0.174757  0.582524\n",
       "\n",
       "[1000 rows x 4 columns]"
      ]
     },
     "execution_count": 6,
     "metadata": {},
     "output_type": "execute_result"
    }
   ],
   "source": [
    "out = df['text'].apply(ml.sentiment, meta=ml.sentiment.ret_meta)\n",
    "out.compute()"
   ]
  },
  {
   "cell_type": "code",
   "execution_count": 7,
   "metadata": {},
   "outputs": [],
   "source": [
    "from pymysql import connect, cursors\n",
    "s2 = connect(host=SINGLESTORE_HOST, port=SINGLESTORE_PORT, user='root', passwd='root', db='demo_big', local_infile=True, cursorclass=cursors.DictCursor)\n",
    "cursor = s2.cursor()"
   ]
  },
  {
   "cell_type": "code",
   "execution_count": 8,
   "metadata": {},
   "outputs": [
    {
     "data": {
      "text/plain": [
       "[{'count(*)': 82037742}]"
      ]
     },
     "execution_count": 8,
     "metadata": {},
     "output_type": "execute_result"
    }
   ],
   "source": [
    "cursor.execute(\"select count(*) from comments\")\n",
    "cursor.fetchall()"
   ]
  },
  {
   "cell_type": "code",
   "execution_count": 9,
   "metadata": {},
   "outputs": [
    {
     "data": {
      "text/plain": [
       "1"
      ]
     },
     "execution_count": 9,
     "metadata": {},
     "output_type": "execute_result"
    }
   ],
   "source": [
    "cursor.execute(\"\"\"\n",
    "    create or replace function sentiment_vec(input varchar(256) not null)\n",
    "    returns table(\n",
    "        compound double,\n",
    "        positive double,\n",
    "        negative double,\n",
    "        neutral double\n",
    "    ) as wasm infile '/workspaces/wasi-data-python/examples/example_wasm.wasm';\n",
    "\"\"\")"
   ]
  },
  {
   "cell_type": "code",
   "execution_count": 43,
   "metadata": {},
   "outputs": [
    {
     "data": {
      "text/plain": [
       "[{'compound': 0.6988421622775413,\n",
       "  'positive': 0.5446265938069217,\n",
       "  'negative': 0.0,\n",
       "  'neutral': 0.45537340619307837}]"
      ]
     },
     "execution_count": 43,
     "metadata": {},
     "output_type": "execute_result"
    }
   ],
   "source": [
    "cursor.execute(\"select * from sentiment_vec('hello wasm day! I love wasm!')\")\n",
    "cursor.fetchall()"
   ]
  },
  {
   "cell_type": "code",
   "execution_count": 44,
   "metadata": {},
   "outputs": [
    {
     "data": {
      "text/html": [
       "<div>\n",
       "<style scoped>\n",
       "    .dataframe tbody tr th:only-of-type {\n",
       "        vertical-align: middle;\n",
       "    }\n",
       "\n",
       "    .dataframe tbody tr th {\n",
       "        vertical-align: top;\n",
       "    }\n",
       "\n",
       "    .dataframe thead th {\n",
       "        text-align: right;\n",
       "    }\n",
       "</style>\n",
       "<table border=\"1\" class=\"dataframe\">\n",
       "  <thead>\n",
       "    <tr style=\"text-align: right;\">\n",
       "      <th></th>\n",
       "      <th>text</th>\n",
       "      <th>score</th>\n",
       "      <th>compound</th>\n",
       "      <th>positive</th>\n",
       "      <th>negative</th>\n",
       "      <th>neutral</th>\n",
       "    </tr>\n",
       "  </thead>\n",
       "  <tbody>\n",
       "    <tr>\n",
       "      <th>0</th>\n",
       "      <td>Thanks  `npm install --legacy-peer-deps` works...</td>\n",
       "      <td>24</td>\n",
       "      <td>0.440434</td>\n",
       "      <td>0.325843</td>\n",
       "      <td>0.000000</td>\n",
       "      <td>0.674157</td>\n",
       "    </tr>\n",
       "    <tr>\n",
       "      <th>1</th>\n",
       "      <td>Before voting to close, read meta question: ht...</td>\n",
       "      <td>13</td>\n",
       "      <td>0.000000</td>\n",
       "      <td>0.000000</td>\n",
       "      <td>0.000000</td>\n",
       "      <td>1.000000</td>\n",
       "    </tr>\n",
       "    <tr>\n",
       "      <th>2</th>\n",
       "      <td>Just a reminder: dns here is the name of a ser...</td>\n",
       "      <td>14</td>\n",
       "      <td>0.000000</td>\n",
       "      <td>0.000000</td>\n",
       "      <td>0.000000</td>\n",
       "      <td>1.000000</td>\n",
       "    </tr>\n",
       "    <tr>\n",
       "      <th>3</th>\n",
       "      <td>It's correctness, not pedantry, and not a matt...</td>\n",
       "      <td>13</td>\n",
       "      <td>-0.019103</td>\n",
       "      <td>0.000000</td>\n",
       "      <td>0.059422</td>\n",
       "      <td>0.940578</td>\n",
       "    </tr>\n",
       "    <tr>\n",
       "      <th>4</th>\n",
       "      <td>I just added a `touch path/to/file` in the `Do...</td>\n",
       "      <td>24</td>\n",
       "      <td>-0.187672</td>\n",
       "      <td>0.000000</td>\n",
       "      <td>0.092850</td>\n",
       "      <td>0.907150</td>\n",
       "    </tr>\n",
       "    <tr>\n",
       "      <th>5</th>\n",
       "      <td>For backward compatibility, it would be better...</td>\n",
       "      <td>11</td>\n",
       "      <td>0.440434</td>\n",
       "      <td>0.096990</td>\n",
       "      <td>0.000000</td>\n",
       "      <td>0.903010</td>\n",
       "    </tr>\n",
       "    <tr>\n",
       "      <th>6</th>\n",
       "      <td>Use `tf.global_variables_initializer` instead ...</td>\n",
       "      <td>16</td>\n",
       "      <td>0.000000</td>\n",
       "      <td>0.000000</td>\n",
       "      <td>0.000000</td>\n",
       "      <td>1.000000</td>\n",
       "    </tr>\n",
       "    <tr>\n",
       "      <th>7</th>\n",
       "      <td>`curl https://docs.oracle.com/javase/8/docs/ap...</td>\n",
       "      <td>48</td>\n",
       "      <td>-0.545074</td>\n",
       "      <td>0.069683</td>\n",
       "      <td>0.133934</td>\n",
       "      <td>0.796382</td>\n",
       "    </tr>\n",
       "    <tr>\n",
       "      <th>8</th>\n",
       "      <td>Because IEEE 754 formats include NAN in their ...</td>\n",
       "      <td>15</td>\n",
       "      <td>0.401924</td>\n",
       "      <td>0.144385</td>\n",
       "      <td>0.000000</td>\n",
       "      <td>0.855615</td>\n",
       "    </tr>\n",
       "    <tr>\n",
       "      <th>9</th>\n",
       "      <td>Doesn't work in a fresh markdown cell in jupyt...</td>\n",
       "      <td>22</td>\n",
       "      <td>-0.282824</td>\n",
       "      <td>0.000000</td>\n",
       "      <td>0.078918</td>\n",
       "      <td>0.921082</td>\n",
       "    </tr>\n",
       "  </tbody>\n",
       "</table>\n",
       "</div>"
      ],
      "text/plain": [
       "                                                text  score  compound  \\\n",
       "0  Thanks  `npm install --legacy-peer-deps` works...     24  0.440434   \n",
       "1  Before voting to close, read meta question: ht...     13  0.000000   \n",
       "2  Just a reminder: dns here is the name of a ser...     14  0.000000   \n",
       "3  It's correctness, not pedantry, and not a matt...     13 -0.019103   \n",
       "4  I just added a `touch path/to/file` in the `Do...     24 -0.187672   \n",
       "5  For backward compatibility, it would be better...     11  0.440434   \n",
       "6  Use `tf.global_variables_initializer` instead ...     16  0.000000   \n",
       "7  `curl https://docs.oracle.com/javase/8/docs/ap...     48 -0.545074   \n",
       "8  Because IEEE 754 formats include NAN in their ...     15  0.401924   \n",
       "9  Doesn't work in a fresh markdown cell in jupyt...     22 -0.282824   \n",
       "\n",
       "   positive  negative   neutral  \n",
       "0  0.325843  0.000000  0.674157  \n",
       "1  0.000000  0.000000  1.000000  \n",
       "2  0.000000  0.000000  1.000000  \n",
       "3  0.000000  0.059422  0.940578  \n",
       "4  0.000000  0.092850  0.907150  \n",
       "5  0.096990  0.000000  0.903010  \n",
       "6  0.000000  0.000000  1.000000  \n",
       "7  0.069683  0.133934  0.796382  \n",
       "8  0.144385  0.000000  0.855615  \n",
       "9  0.000000  0.078918  0.921082  "
      ]
     },
     "execution_count": 44,
     "metadata": {},
     "output_type": "execute_result"
    }
   ],
   "source": [
    "pd.read_sql(\"select c.text, c.score, s.* from (select * from comments where score > 10) as c, sentiment_vec(c.text) as s limit 10\", con=SINGLESTORE_URI)"
   ]
  },
  {
   "cell_type": "code",
   "execution_count": 117,
   "metadata": {},
   "outputs": [
    {
     "data": {
      "text/html": [
       "<div>\n",
       "<style scoped>\n",
       "    .dataframe tbody tr th:only-of-type {\n",
       "        vertical-align: middle;\n",
       "    }\n",
       "\n",
       "    .dataframe tbody tr th {\n",
       "        vertical-align: top;\n",
       "    }\n",
       "\n",
       "    .dataframe thead th {\n",
       "        text-align: right;\n",
       "    }\n",
       "</style>\n",
       "<table border=\"1\" class=\"dataframe\">\n",
       "  <thead>\n",
       "    <tr style=\"text-align: right;\">\n",
       "      <th></th>\n",
       "      <th>score_bucket</th>\n",
       "      <th>num_scores</th>\n",
       "      <th>negative</th>\n",
       "      <th>avg</th>\n",
       "      <th>positive</th>\n",
       "    </tr>\n",
       "  </thead>\n",
       "  <tbody>\n",
       "    <tr>\n",
       "      <th>56</th>\n",
       "      <td>620</td>\n",
       "      <td>2</td>\n",
       "      <td>0.075181</td>\n",
       "      <td>0.180752</td>\n",
       "      <td>0.436685</td>\n",
       "    </tr>\n",
       "    <tr>\n",
       "      <th>57</th>\n",
       "      <td>630</td>\n",
       "      <td>2</td>\n",
       "      <td>0.549915</td>\n",
       "      <td>0.610197</td>\n",
       "      <td>0.670478</td>\n",
       "    </tr>\n",
       "    <tr>\n",
       "      <th>58</th>\n",
       "      <td>650</td>\n",
       "      <td>3</td>\n",
       "      <td>0.046426</td>\n",
       "      <td>0.268155</td>\n",
       "      <td>0.850890</td>\n",
       "    </tr>\n",
       "    <tr>\n",
       "      <th>59</th>\n",
       "      <td>670</td>\n",
       "      <td>6</td>\n",
       "      <td>0.599373</td>\n",
       "      <td>0.033280</td>\n",
       "      <td>0.658630</td>\n",
       "    </tr>\n",
       "    <tr>\n",
       "      <th>60</th>\n",
       "      <td>760</td>\n",
       "      <td>2</td>\n",
       "      <td>0.325224</td>\n",
       "      <td>0.513220</td>\n",
       "      <td>0.701216</td>\n",
       "    </tr>\n",
       "  </tbody>\n",
       "</table>\n",
       "</div>"
      ],
      "text/plain": [
       "    score_bucket  num_scores  negative       avg  positive\n",
       "56           620           2  0.075181  0.180752  0.436685\n",
       "57           630           2  0.549915  0.610197  0.670478\n",
       "58           650           3  0.046426  0.268155  0.850890\n",
       "59           670           6  0.599373  0.033280  0.658630\n",
       "60           760           2  0.325224  0.513220  0.701216"
      ]
     },
     "execution_count": 117,
     "metadata": {},
     "output_type": "execute_result"
    }
   ],
   "source": [
    "\n",
    "df = pd.read_sql(\"\"\"\n",
    "    select\n",
    "        (score - (score %% 10)) as score_bucket,\n",
    "        count(*) as num_scores,\n",
    "        abs(min(s.compound)) as \"negative\",\n",
    "        avg(s.compound) as \"avg\",\n",
    "        max(s.compound) as \"positive\"\n",
    "    from\n",
    "        (select * from comments where score >= 10) as c,\n",
    "        sentiment_vec(c.text) as s\n",
    "    group by 1\n",
    "    having positive > 0 and negative > 0\n",
    "    order by 1 asc\n",
    "\"\"\", con=SINGLESTORE_URI)\n",
    "\n",
    "df.head()"
   ]
  },
  {
   "cell_type": "code",
   "execution_count": 119,
   "metadata": {},
   "outputs": [
    {
     "data": {
      "application/vnd.plotly.v1+json": {
       "config": {
        "plotlyServerURL": "https://plot.ly"
       },
       "data": [
        {
         "hovertemplate": "variable=positive<br>Comment Score=%{x}<br>sentiment=%{y}<extra></extra>",
         "legendgroup": "positive",
         "marker": {
          "color": "#00E676",
          "symbol": "circle"
         },
         "mode": "markers",
         "name": "positive",
         "orientation": "v",
         "showlegend": true,
         "type": "scatter",
         "x": [
          10,
          20,
          30,
          40,
          50,
          60,
          70,
          80,
          90,
          100,
          110,
          120,
          130,
          140,
          150,
          160,
          170,
          180,
          190,
          200,
          210,
          220,
          230,
          240,
          250,
          260,
          270,
          280,
          290,
          300,
          310,
          320,
          330,
          340,
          350,
          360,
          370,
          380,
          390,
          400,
          410,
          420,
          430,
          440,
          450,
          460,
          470,
          480,
          490,
          500,
          510,
          520,
          530,
          560,
          570,
          600,
          620,
          630,
          650,
          670,
          760
         ],
         "xaxis": "x",
         "y": [
          0.9884804181816502,
          0.9892404342635115,
          0.9877005097673762,
          0.9879442138133854,
          0.9771454595448407,
          0.9729132860697197,
          0.9880242850306352,
          0.9762188560813158,
          0.9493088246302036,
          0.9450887908327322,
          0.9632429421826448,
          0.9677479586749276,
          0.9632354331654686,
          0.9586716231397892,
          0.9431759585204077,
          0.9578995844532326,
          0.9147007023988873,
          0.8390091580666769,
          0.9182147494752572,
          0.9646083962735071,
          0.9656662124414448,
          0.9290884711557326,
          0.8845412417221543,
          0.8798820901453436,
          0.9118030994059687,
          0.8451256880345008,
          0.8977248037806889,
          0.8174929079535046,
          0.5410993951859938,
          0.9118030994059688,
          0.6248933269389456,
          0.8396107297645051,
          0.47069267569978684,
          0.9214489354615263,
          0.7351470441147052,
          0.9036517340801054,
          0.7506303133284343,
          0.9214716407330358,
          0.4588314677411235,
          0.9493388865671146,
          0.6408291839555817,
          0.9214875288054319,
          0.7776576898492897,
          0.6787855136307086,
          0.7013211246798072,
          0.6704783996548059,
          0.6352894319730723,
          0.3611575592573076,
          0.318210996771242,
          0.9300072820513762,
          0.7974137129232776,
          0.8764529079076419,
          0.8784193391889963,
          0.0772283284276542,
          0.8928880531487606,
          0.6123724356957946,
          0.43668531092021023,
          0.6704783996548059,
          0.8508899610354838,
          0.658629995146214,
          0.7012163508595337
         ],
         "yaxis": "y"
        },
        {
         "hovertemplate": "<b>OLS trendline</b><br>value = -0.000625156 * score_bucket + 1.00836<br>R<sup>2</sup>=0.368753<br><br>variable=positive<br>Comment Score=%{x}<br>sentiment=%{y} <b>(trend)</b><extra></extra>",
         "legendgroup": "positive",
         "marker": {
          "color": "#00E676",
          "symbol": "circle"
         },
         "mode": "lines",
         "name": "positive",
         "showlegend": false,
         "type": "scatter",
         "x": [
          10,
          20,
          30,
          40,
          50,
          60,
          70,
          80,
          90,
          100,
          110,
          120,
          130,
          140,
          150,
          160,
          170,
          180,
          190,
          200,
          210,
          220,
          230,
          240,
          250,
          260,
          270,
          280,
          290,
          300,
          310,
          320,
          330,
          340,
          350,
          360,
          370,
          380,
          390,
          400,
          410,
          420,
          430,
          440,
          450,
          460,
          470,
          480,
          490,
          500,
          510,
          520,
          530,
          560,
          570,
          600,
          620,
          630,
          650,
          670,
          760
         ],
         "xaxis": "x",
         "y": [
          1.0021038935268343,
          0.9958523356103242,
          0.9896007776938139,
          0.9833492197773037,
          0.9770976618607935,
          0.9708461039442833,
          0.9645945460277731,
          0.9583429881112628,
          0.9520914301947526,
          0.9458398722782424,
          0.9395883143617322,
          0.933336756445222,
          0.9270851985287117,
          0.9208336406122015,
          0.9145820826956913,
          0.9083305247791811,
          0.9020789668626709,
          0.8958274089461606,
          0.8895758510296504,
          0.8833242931131402,
          0.87707273519663,
          0.8708211772801198,
          0.8645696193636095,
          0.8583180614470993,
          0.8520665035305891,
          0.8458149456140789,
          0.8395633876975687,
          0.8333118297810584,
          0.8270602718645482,
          0.820808713948038,
          0.8145571560315278,
          0.8083055981150176,
          0.8020540401985073,
          0.7958024822819971,
          0.7895509243654869,
          0.7832993664489767,
          0.7770478085324665,
          0.7707962506159562,
          0.764544692699446,
          0.7582931347829358,
          0.7520415768664256,
          0.7457900189499154,
          0.7395384610334051,
          0.7332869031168949,
          0.7270353452003847,
          0.7207837872838745,
          0.7145322293673643,
          0.708280671450854,
          0.7020291135343438,
          0.6957775556178336,
          0.6895259977013234,
          0.6832744397848132,
          0.677022881868303,
          0.6582682081187723,
          0.6520166502022621,
          0.6332619764527314,
          0.620758860619711,
          0.6145073027032008,
          0.6020041868701804,
          0.58950107103716,
          0.5332370497885679
         ],
         "yaxis": "y"
        },
        {
         "hovertemplate": "variable=negative<br>Comment Score=%{x}<br>sentiment=%{y}<extra></extra>",
         "legendgroup": "negative",
         "marker": {
          "color": "#AA00FF",
          "symbol": "circle"
         },
         "mode": "markers",
         "name": "negative",
         "orientation": "v",
         "showlegend": true,
         "type": "scatter",
         "x": [
          10,
          20,
          30,
          40,
          50,
          60,
          70,
          80,
          90,
          100,
          110,
          120,
          130,
          140,
          150,
          160,
          170,
          180,
          190,
          200,
          210,
          220,
          230,
          240,
          250,
          260,
          270,
          280,
          290,
          300,
          310,
          320,
          330,
          340,
          350,
          360,
          370,
          380,
          390,
          400,
          410,
          420,
          430,
          440,
          450,
          460,
          470,
          480,
          490,
          500,
          510,
          520,
          530,
          560,
          570,
          600,
          620,
          630,
          650,
          670,
          760
         ],
         "xaxis": "x",
         "y": [
          0.9994079336366717,
          0.9888823100791507,
          0.9821512068585552,
          0.9843907526148696,
          0.9578388745735287,
          0.9760934140752651,
          0.9706903352612597,
          0.9652000828396454,
          0.923147976982903,
          0.9304284852393788,
          0.9493549089508792,
          0.9002836209452251,
          0.9162896416215123,
          0.9021745222664633,
          0.8675398479551882,
          0.8531496240723568,
          0.9747041185348985,
          0.9169412377108535,
          0.9245951335534447,
          0.8816546429851182,
          0.9000703207408192,
          0.9540880207894837,
          0.9366897688124777,
          0.69959689416212,
          0.885989313829565,
          0.732963834521151,
          0.6002989705424076,
          0.7649686210234002,
          0.7212708611789033,
          0.8933580311460599,
          0.9006976990391564,
          0.5006589854488329,
          0.5287984420596952,
          0.7982623453420291,
          0.8858089026303493,
          0.9260311158258331,
          0.5572225995607002,
          0.6408291839555817,
          0.5811802198344084,
          0.6808225270250104,
          0.9067624627486915,
          0.6180652002061624,
          0.5903891548903332,
          0.6739361716859966,
          0.9091600833870738,
          0.456290214389052,
          0.22443775240223443,
          0.20228869496966945,
          0.7707616515369792,
          0.07722832842765416,
          0.70147352683846,
          0.6956083436402525,
          0.318210996771242,
          0.45227415861188436,
          0.3578007097500291,
          0.4228101008987495,
          0.07518070500292766,
          0.549915172454543,
          0.04642568745829288,
          0.5993731596731062,
          0.325224313573055
         ],
         "yaxis": "y"
        },
        {
         "hovertemplate": "<b>OLS trendline</b><br>value = -0.00108516 * score_bucket + 1.06308<br>R<sup>2</sup>=0.632168<br><br>variable=negative<br>Comment Score=%{x}<br>sentiment=%{y} <b>(trend)</b><extra></extra>",
         "legendgroup": "negative",
         "marker": {
          "color": "#AA00FF",
          "symbol": "circle"
         },
         "mode": "lines",
         "name": "negative",
         "showlegend": false,
         "type": "scatter",
         "x": [
          10,
          20,
          30,
          40,
          50,
          60,
          70,
          80,
          90,
          100,
          110,
          120,
          130,
          140,
          150,
          160,
          170,
          180,
          190,
          200,
          210,
          220,
          230,
          240,
          250,
          260,
          270,
          280,
          290,
          300,
          310,
          320,
          330,
          340,
          350,
          360,
          370,
          380,
          390,
          400,
          410,
          420,
          430,
          440,
          450,
          460,
          470,
          480,
          490,
          500,
          510,
          520,
          530,
          560,
          570,
          600,
          620,
          630,
          650,
          670,
          760
         ],
         "xaxis": "x",
         "y": [
          1.0522257352662943,
          1.0413741212291394,
          1.0305225071919846,
          1.0196708931548297,
          1.008819279117675,
          0.9979676650805201,
          0.9871160510433654,
          0.9762644370062106,
          0.9654128229690557,
          0.9545612089319009,
          0.943709594894746,
          0.9328579808575913,
          0.9220063668204365,
          0.9111547527832816,
          0.9003031387461269,
          0.889451524708972,
          0.8785999106718172,
          0.8677482966346624,
          0.8568966825975075,
          0.8460450685603527,
          0.8351934545231979,
          0.8243418404860431,
          0.8134902264488882,
          0.8026386124117335,
          0.7917869983745787,
          0.7809353843374238,
          0.770083770300269,
          0.7592321562631141,
          0.7483805422259593,
          0.7375289281888046,
          0.7266773141516497,
          0.7158257001144949,
          0.7049740860773401,
          0.6941224720401853,
          0.6832708580030304,
          0.6724192439658756,
          0.6615676299287208,
          0.6507160158915659,
          0.6398644018544112,
          0.6290127878172563,
          0.6181611737801016,
          0.6073095597429468,
          0.5964579457057919,
          0.5856063316686371,
          0.5747547176314822,
          0.5639031035943274,
          0.5530514895571726,
          0.5421998755200178,
          0.531348261482863,
          0.5204966474457081,
          0.5096450334085534,
          0.49879341937139854,
          0.4879418053342437,
          0.4553869632227793,
          0.44453534918562443,
          0.41198050707416,
          0.3902772789998503,
          0.3794256649626955,
          0.3577224368883859,
          0.3360192088140762,
          0.23835468247968283
         ],
         "yaxis": "y"
        }
       ],
       "layout": {
        "legend": {
         "title": {
          "text": "variable"
         },
         "tracegroupgap": 0
        },
        "margin": {
         "t": 60
        },
        "paper_bgcolor": "#1B1A21",
        "plot_bgcolor": "#1B1A21",
        "template": {
         "data": {
          "bar": [
           {
            "error_x": {
             "color": "#f2f5fa"
            },
            "error_y": {
             "color": "#f2f5fa"
            },
            "marker": {
             "line": {
              "color": "rgb(17,17,17)",
              "width": 0.5
             },
             "pattern": {
              "fillmode": "overlay",
              "size": 10,
              "solidity": 0.2
             }
            },
            "type": "bar"
           }
          ],
          "barpolar": [
           {
            "marker": {
             "line": {
              "color": "rgb(17,17,17)",
              "width": 0.5
             },
             "pattern": {
              "fillmode": "overlay",
              "size": 10,
              "solidity": 0.2
             }
            },
            "type": "barpolar"
           }
          ],
          "carpet": [
           {
            "aaxis": {
             "endlinecolor": "#A2B1C6",
             "gridcolor": "#506784",
             "linecolor": "#506784",
             "minorgridcolor": "#506784",
             "startlinecolor": "#A2B1C6"
            },
            "baxis": {
             "endlinecolor": "#A2B1C6",
             "gridcolor": "#506784",
             "linecolor": "#506784",
             "minorgridcolor": "#506784",
             "startlinecolor": "#A2B1C6"
            },
            "type": "carpet"
           }
          ],
          "choropleth": [
           {
            "colorbar": {
             "outlinewidth": 0,
             "ticks": ""
            },
            "type": "choropleth"
           }
          ],
          "contour": [
           {
            "colorbar": {
             "outlinewidth": 0,
             "ticks": ""
            },
            "colorscale": [
             [
              0,
              "#0d0887"
             ],
             [
              0.1111111111111111,
              "#46039f"
             ],
             [
              0.2222222222222222,
              "#7201a8"
             ],
             [
              0.3333333333333333,
              "#9c179e"
             ],
             [
              0.4444444444444444,
              "#bd3786"
             ],
             [
              0.5555555555555556,
              "#d8576b"
             ],
             [
              0.6666666666666666,
              "#ed7953"
             ],
             [
              0.7777777777777778,
              "#fb9f3a"
             ],
             [
              0.8888888888888888,
              "#fdca26"
             ],
             [
              1,
              "#f0f921"
             ]
            ],
            "type": "contour"
           }
          ],
          "contourcarpet": [
           {
            "colorbar": {
             "outlinewidth": 0,
             "ticks": ""
            },
            "type": "contourcarpet"
           }
          ],
          "heatmap": [
           {
            "colorbar": {
             "outlinewidth": 0,
             "ticks": ""
            },
            "colorscale": [
             [
              0,
              "#0d0887"
             ],
             [
              0.1111111111111111,
              "#46039f"
             ],
             [
              0.2222222222222222,
              "#7201a8"
             ],
             [
              0.3333333333333333,
              "#9c179e"
             ],
             [
              0.4444444444444444,
              "#bd3786"
             ],
             [
              0.5555555555555556,
              "#d8576b"
             ],
             [
              0.6666666666666666,
              "#ed7953"
             ],
             [
              0.7777777777777778,
              "#fb9f3a"
             ],
             [
              0.8888888888888888,
              "#fdca26"
             ],
             [
              1,
              "#f0f921"
             ]
            ],
            "type": "heatmap"
           }
          ],
          "heatmapgl": [
           {
            "colorbar": {
             "outlinewidth": 0,
             "ticks": ""
            },
            "colorscale": [
             [
              0,
              "#0d0887"
             ],
             [
              0.1111111111111111,
              "#46039f"
             ],
             [
              0.2222222222222222,
              "#7201a8"
             ],
             [
              0.3333333333333333,
              "#9c179e"
             ],
             [
              0.4444444444444444,
              "#bd3786"
             ],
             [
              0.5555555555555556,
              "#d8576b"
             ],
             [
              0.6666666666666666,
              "#ed7953"
             ],
             [
              0.7777777777777778,
              "#fb9f3a"
             ],
             [
              0.8888888888888888,
              "#fdca26"
             ],
             [
              1,
              "#f0f921"
             ]
            ],
            "type": "heatmapgl"
           }
          ],
          "histogram": [
           {
            "marker": {
             "pattern": {
              "fillmode": "overlay",
              "size": 10,
              "solidity": 0.2
             }
            },
            "type": "histogram"
           }
          ],
          "histogram2d": [
           {
            "colorbar": {
             "outlinewidth": 0,
             "ticks": ""
            },
            "colorscale": [
             [
              0,
              "#0d0887"
             ],
             [
              0.1111111111111111,
              "#46039f"
             ],
             [
              0.2222222222222222,
              "#7201a8"
             ],
             [
              0.3333333333333333,
              "#9c179e"
             ],
             [
              0.4444444444444444,
              "#bd3786"
             ],
             [
              0.5555555555555556,
              "#d8576b"
             ],
             [
              0.6666666666666666,
              "#ed7953"
             ],
             [
              0.7777777777777778,
              "#fb9f3a"
             ],
             [
              0.8888888888888888,
              "#fdca26"
             ],
             [
              1,
              "#f0f921"
             ]
            ],
            "type": "histogram2d"
           }
          ],
          "histogram2dcontour": [
           {
            "colorbar": {
             "outlinewidth": 0,
             "ticks": ""
            },
            "colorscale": [
             [
              0,
              "#0d0887"
             ],
             [
              0.1111111111111111,
              "#46039f"
             ],
             [
              0.2222222222222222,
              "#7201a8"
             ],
             [
              0.3333333333333333,
              "#9c179e"
             ],
             [
              0.4444444444444444,
              "#bd3786"
             ],
             [
              0.5555555555555556,
              "#d8576b"
             ],
             [
              0.6666666666666666,
              "#ed7953"
             ],
             [
              0.7777777777777778,
              "#fb9f3a"
             ],
             [
              0.8888888888888888,
              "#fdca26"
             ],
             [
              1,
              "#f0f921"
             ]
            ],
            "type": "histogram2dcontour"
           }
          ],
          "mesh3d": [
           {
            "colorbar": {
             "outlinewidth": 0,
             "ticks": ""
            },
            "type": "mesh3d"
           }
          ],
          "parcoords": [
           {
            "line": {
             "colorbar": {
              "outlinewidth": 0,
              "ticks": ""
             }
            },
            "type": "parcoords"
           }
          ],
          "pie": [
           {
            "automargin": true,
            "type": "pie"
           }
          ],
          "scatter": [
           {
            "marker": {
             "line": {
              "color": "#283442"
             }
            },
            "type": "scatter"
           }
          ],
          "scatter3d": [
           {
            "line": {
             "colorbar": {
              "outlinewidth": 0,
              "ticks": ""
             }
            },
            "marker": {
             "colorbar": {
              "outlinewidth": 0,
              "ticks": ""
             }
            },
            "type": "scatter3d"
           }
          ],
          "scattercarpet": [
           {
            "marker": {
             "colorbar": {
              "outlinewidth": 0,
              "ticks": ""
             }
            },
            "type": "scattercarpet"
           }
          ],
          "scattergeo": [
           {
            "marker": {
             "colorbar": {
              "outlinewidth": 0,
              "ticks": ""
             }
            },
            "type": "scattergeo"
           }
          ],
          "scattergl": [
           {
            "marker": {
             "line": {
              "color": "#283442"
             }
            },
            "type": "scattergl"
           }
          ],
          "scattermapbox": [
           {
            "marker": {
             "colorbar": {
              "outlinewidth": 0,
              "ticks": ""
             }
            },
            "type": "scattermapbox"
           }
          ],
          "scatterpolar": [
           {
            "marker": {
             "colorbar": {
              "outlinewidth": 0,
              "ticks": ""
             }
            },
            "type": "scatterpolar"
           }
          ],
          "scatterpolargl": [
           {
            "marker": {
             "colorbar": {
              "outlinewidth": 0,
              "ticks": ""
             }
            },
            "type": "scatterpolargl"
           }
          ],
          "scatterternary": [
           {
            "marker": {
             "colorbar": {
              "outlinewidth": 0,
              "ticks": ""
             }
            },
            "type": "scatterternary"
           }
          ],
          "surface": [
           {
            "colorbar": {
             "outlinewidth": 0,
             "ticks": ""
            },
            "colorscale": [
             [
              0,
              "#0d0887"
             ],
             [
              0.1111111111111111,
              "#46039f"
             ],
             [
              0.2222222222222222,
              "#7201a8"
             ],
             [
              0.3333333333333333,
              "#9c179e"
             ],
             [
              0.4444444444444444,
              "#bd3786"
             ],
             [
              0.5555555555555556,
              "#d8576b"
             ],
             [
              0.6666666666666666,
              "#ed7953"
             ],
             [
              0.7777777777777778,
              "#fb9f3a"
             ],
             [
              0.8888888888888888,
              "#fdca26"
             ],
             [
              1,
              "#f0f921"
             ]
            ],
            "type": "surface"
           }
          ],
          "table": [
           {
            "cells": {
             "fill": {
              "color": "#506784"
             },
             "line": {
              "color": "rgb(17,17,17)"
             }
            },
            "header": {
             "fill": {
              "color": "#2a3f5f"
             },
             "line": {
              "color": "rgb(17,17,17)"
             }
            },
            "type": "table"
           }
          ]
         },
         "layout": {
          "annotationdefaults": {
           "arrowcolor": "#f2f5fa",
           "arrowhead": 0,
           "arrowwidth": 1
          },
          "autotypenumbers": "strict",
          "coloraxis": {
           "colorbar": {
            "outlinewidth": 0,
            "ticks": ""
           }
          },
          "colorscale": {
           "diverging": [
            [
             0,
             "#8e0152"
            ],
            [
             0.1,
             "#c51b7d"
            ],
            [
             0.2,
             "#de77ae"
            ],
            [
             0.3,
             "#f1b6da"
            ],
            [
             0.4,
             "#fde0ef"
            ],
            [
             0.5,
             "#f7f7f7"
            ],
            [
             0.6,
             "#e6f5d0"
            ],
            [
             0.7,
             "#b8e186"
            ],
            [
             0.8,
             "#7fbc41"
            ],
            [
             0.9,
             "#4d9221"
            ],
            [
             1,
             "#276419"
            ]
           ],
           "sequential": [
            [
             0,
             "#0d0887"
            ],
            [
             0.1111111111111111,
             "#46039f"
            ],
            [
             0.2222222222222222,
             "#7201a8"
            ],
            [
             0.3333333333333333,
             "#9c179e"
            ],
            [
             0.4444444444444444,
             "#bd3786"
            ],
            [
             0.5555555555555556,
             "#d8576b"
            ],
            [
             0.6666666666666666,
             "#ed7953"
            ],
            [
             0.7777777777777778,
             "#fb9f3a"
            ],
            [
             0.8888888888888888,
             "#fdca26"
            ],
            [
             1,
             "#f0f921"
            ]
           ],
           "sequentialminus": [
            [
             0,
             "#0d0887"
            ],
            [
             0.1111111111111111,
             "#46039f"
            ],
            [
             0.2222222222222222,
             "#7201a8"
            ],
            [
             0.3333333333333333,
             "#9c179e"
            ],
            [
             0.4444444444444444,
             "#bd3786"
            ],
            [
             0.5555555555555556,
             "#d8576b"
            ],
            [
             0.6666666666666666,
             "#ed7953"
            ],
            [
             0.7777777777777778,
             "#fb9f3a"
            ],
            [
             0.8888888888888888,
             "#fdca26"
            ],
            [
             1,
             "#f0f921"
            ]
           ]
          },
          "colorway": [
           "#636efa",
           "#EF553B",
           "#00cc96",
           "#ab63fa",
           "#FFA15A",
           "#19d3f3",
           "#FF6692",
           "#B6E880",
           "#FF97FF",
           "#FECB52"
          ],
          "font": {
           "color": "#f2f5fa"
          },
          "geo": {
           "bgcolor": "rgb(17,17,17)",
           "lakecolor": "rgb(17,17,17)",
           "landcolor": "rgb(17,17,17)",
           "showlakes": true,
           "showland": true,
           "subunitcolor": "#506784"
          },
          "hoverlabel": {
           "align": "left"
          },
          "hovermode": "closest",
          "mapbox": {
           "style": "dark"
          },
          "paper_bgcolor": "rgb(17,17,17)",
          "plot_bgcolor": "rgb(17,17,17)",
          "polar": {
           "angularaxis": {
            "gridcolor": "#506784",
            "linecolor": "#506784",
            "ticks": ""
           },
           "bgcolor": "rgb(17,17,17)",
           "radialaxis": {
            "gridcolor": "#506784",
            "linecolor": "#506784",
            "ticks": ""
           }
          },
          "scene": {
           "xaxis": {
            "backgroundcolor": "rgb(17,17,17)",
            "gridcolor": "#506784",
            "gridwidth": 2,
            "linecolor": "#506784",
            "showbackground": true,
            "ticks": "",
            "zerolinecolor": "#C8D4E3"
           },
           "yaxis": {
            "backgroundcolor": "rgb(17,17,17)",
            "gridcolor": "#506784",
            "gridwidth": 2,
            "linecolor": "#506784",
            "showbackground": true,
            "ticks": "",
            "zerolinecolor": "#C8D4E3"
           },
           "zaxis": {
            "backgroundcolor": "rgb(17,17,17)",
            "gridcolor": "#506784",
            "gridwidth": 2,
            "linecolor": "#506784",
            "showbackground": true,
            "ticks": "",
            "zerolinecolor": "#C8D4E3"
           }
          },
          "shapedefaults": {
           "line": {
            "color": "#f2f5fa"
           }
          },
          "sliderdefaults": {
           "bgcolor": "#C8D4E3",
           "bordercolor": "rgb(17,17,17)",
           "borderwidth": 1,
           "tickwidth": 0
          },
          "ternary": {
           "aaxis": {
            "gridcolor": "#506784",
            "linecolor": "#506784",
            "ticks": ""
           },
           "baxis": {
            "gridcolor": "#506784",
            "linecolor": "#506784",
            "ticks": ""
           },
           "bgcolor": "rgb(17,17,17)",
           "caxis": {
            "gridcolor": "#506784",
            "linecolor": "#506784",
            "ticks": ""
           }
          },
          "title": {
           "x": 0.05
          },
          "updatemenudefaults": {
           "bgcolor": "#506784",
           "borderwidth": 0
          },
          "xaxis": {
           "automargin": true,
           "gridcolor": "#283442",
           "linecolor": "#506784",
           "ticks": "",
           "title": {
            "standoff": 15
           },
           "zerolinecolor": "#283442",
           "zerolinewidth": 2
          },
          "yaxis": {
           "automargin": true,
           "gridcolor": "#283442",
           "linecolor": "#506784",
           "ticks": "",
           "title": {
            "standoff": 15
           },
           "zerolinecolor": "#283442",
           "zerolinewidth": 2
          }
         }
        },
        "xaxis": {
         "anchor": "y",
         "domain": [
          0,
          1
         ],
         "title": {
          "text": "Comment Score"
         }
        },
        "yaxis": {
         "anchor": "x",
         "domain": [
          0,
          1
         ],
         "title": {
          "text": "sentiment"
         }
        }
       }
      }
     },
     "metadata": {},
     "output_type": "display_data"
    }
   ],
   "source": [
    "import plotly.express as px\n",
    "import plotly.graph_objects as go\n",
    "import statsmodels\n",
    "\n",
    "colorscheme = [\"#00E676\" ,\"#AA00FF\"]\n",
    "\n",
    "# ols = Ordinary Least Squares\n",
    "fig = px.scatter(df,\n",
    "    x=\"score_bucket\",\n",
    "    y=[\"positive\", \"negative\"],\n",
    "    trendline=\"ols\",\n",
    "    color_discrete_sequence=colorscheme,\n",
    "    template=\"plotly_dark\",\n",
    "    labels={\n",
    "        \"score_bucket\": \"Comment Score\",\n",
    "        \"value\": \"sentiment\",\n",
    "    }\n",
    ")\n",
    "\n",
    "fig.update_layout(\n",
    "    paper_bgcolor='#1B1A21',\n",
    "    plot_bgcolor='#1B1A21',\n",
    ")\n",
    "\n",
    "fig.show()"
   ]
  }
 ],
 "metadata": {
  "interpreter": {
   "hash": "949777d72b0d2535278d3dc13498b2535136f6dfe0678499012e853ee9abcab1"
  },
  "kernelspec": {
   "display_name": "Python 3.9.7 64-bit",
   "name": "python3"
  },
  "language_info": {
   "codemirror_mode": {
    "name": "ipython",
    "version": 3
   },
   "file_extension": ".py",
   "mimetype": "text/x-python",
   "name": "python",
   "nbconvert_exporter": "python",
   "pygments_lexer": "ipython3",
   "version": "3.9.7"
  },
  "orig_nbformat": 4
 },
 "nbformat": 4,
 "nbformat_minor": 2
}
